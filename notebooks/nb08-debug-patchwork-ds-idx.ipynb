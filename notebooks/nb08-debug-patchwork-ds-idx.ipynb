{
 "cells": [
  {
   "cell_type": "code",
   "execution_count": 3,
   "metadata": {
    "ExecuteTime": {
     "end_time": "2020-09-07T03:35:01.600703Z",
     "start_time": "2020-09-07T03:35:01.581484Z"
    }
   },
   "outputs": [
    {
     "name": "stdout",
     "output_type": "stream",
     "text": [
      "The autoreload extension is already loaded. To reload it, use:\n",
      "  %reload_ext autoreload\n"
     ]
    }
   ],
   "source": [
    "%load_ext autoreload\n",
    "%autoreload 2"
   ]
  },
  {
   "cell_type": "code",
   "execution_count": 4,
   "metadata": {
    "ExecuteTime": {
     "end_time": "2020-09-07T03:35:04.563890Z",
     "start_time": "2020-09-07T03:35:01.603497Z"
    }
   },
   "outputs": [],
   "source": [
    "# Must import comet before torch, sometimes throws error otherwise.\n",
    "from img_wang.callbacks import CometCallbackWithGrads\n",
    "from fastai2.vision.all import show_image, show_images\n",
    "import matplotlib.pyplot as plt\n",
    "import numpy as np\n",
    "import os\n",
    "import pandas as pd\n",
    "from pathlib import Path\n",
    "from sklearn.metrics import accuracy_score, f1_score, recall_score, \\\n",
    "                            precision_score, roc_auc_score\n",
    "import torch\n",
    "import torch.nn as nn\n",
    "import torch.nn.functional as F\n",
    "\n",
    "from htools import *\n",
    "from img_wang.data import load_img, get_databunch\n",
    "from img_wang.models import Encoder, SingleInputBinaryModel, \\\n",
    "    TorchvisionEncoder\n",
    "from img_wang.torch_utils import gpu_setup, top_mistakes\n",
    "from incendio.callbacks import MetricHistory, ModelCheckpoint, EarlyStopper\n",
    "from incendio.core import Trainer\n",
    "from incendio.metrics import mean_soft_prediction, std_soft_prediction, percent_positive"
   ]
  },
  {
   "cell_type": "code",
   "execution_count": 5,
   "metadata": {
    "ExecuteTime": {
     "end_time": "2020-09-07T21:20:28.688485Z",
     "start_time": "2020-09-07T21:20:28.649294Z"
    }
   },
   "outputs": [
    {
     "name": "stdout",
     "output_type": "stream",
     "text": [
      "Current directory: /storage/img-wang\n",
      "Setting seeds for reproducible training.\n"
     ]
    }
   ],
   "source": [
    "cd_root()\n",
    "gpu_setup()"
   ]
  },
  {
   "cell_type": "markdown",
   "metadata": {},
   "source": [
    "## Load v0 model (stopped saving weights after v1)"
   ]
  },
  {
   "cell_type": "code",
   "execution_count": 6,
   "metadata": {
    "ExecuteTime": {
     "end_time": "2020-09-09T04:35:53.714159Z",
     "start_time": "2020-09-09T04:35:53.515430Z"
    }
   },
   "outputs": [],
   "source": [
    "dst, dsv, dlt, dlv = get_databunch('data/imagewang-160/unsup/', \n",
    "                                   mode='patchwork', bs=256, pct_pos=.5)"
   ]
  },
  {
   "cell_type": "code",
   "execution_count": 7,
   "metadata": {
    "ExecuteTime": {
     "end_time": "2020-09-09T04:36:28.564193Z",
     "start_time": "2020-09-09T04:36:28.282431Z"
    }
   },
   "outputs": [],
   "source": [
    "net = SingleInputBinaryModel(TorchvisionEncoder(), \n",
    "                             nn.Linear(2560, 1))"
   ]
  },
  {
   "cell_type": "code",
   "execution_count": 8,
   "metadata": {
    "ExecuteTime": {
     "end_time": "2020-09-09T04:36:59.655582Z",
     "start_time": "2020-09-09T04:36:39.185616Z"
    },
    "scrolled": true
   },
   "outputs": [],
   "source": [
    "t = Trainer(net, dst, dsv, dlt, dlv, F.binary_cross_entropy_with_logits,\n",
    "            mode='binary', out_dir='data/models/v0', last_act=torch.sigmoid,\n",
    "            callbacks=[MetricHistory(None, None),\n",
    "                       CometCallbackWithGrads('img_wang'),\n",
    "                       EarlyStopper('loss', 'min', patience=5)],\n",
    "            metrics=[mean_soft_prediction, std_soft_prediction, percent_positive, \n",
    "                     accuracy_score, f1_score, recall_score, precision_score,\n",
    "                     roc_auc_score])"
   ]
  },
  {
   "cell_type": "code",
   "execution_count": 9,
   "metadata": {
    "ExecuteTime": {
     "end_time": "2020-09-09T04:37:07.236329Z",
     "start_time": "2020-09-09T04:37:06.889630Z"
    },
    "scrolled": true
   },
   "outputs": [
    {
     "name": "stdout",
     "output_type": "stream",
     "text": [
      "2020-09-15 05:53:57,388 [INFO]: Loading weights from data/models/v0/trainer.pkl.\n"
     ]
    }
   ],
   "source": [
    "t.load('trainer.pkl')"
   ]
  },
  {
   "cell_type": "code",
   "execution_count": 23,
   "metadata": {},
   "outputs": [
    {
     "ename": "AttributeError",
     "evalue": "'Tensor' object has no attribute 'idx'",
     "output_type": "error",
     "traceback": [
      "\u001b[0;31m---------------------------------------------------------------------------\u001b[0m",
      "\u001b[0;31mAttributeError\u001b[0m                            Traceback (most recent call last)",
      "\u001b[0;32m<ipython-input-23-61a04fe8032a>\u001b[0m in \u001b[0;36m<module>\u001b[0;34m\u001b[0m\n\u001b[1;32m      1\u001b[0m \u001b[0mxb\u001b[0m\u001b[0;34m,\u001b[0m \u001b[0myb\u001b[0m \u001b[0;34m=\u001b[0m \u001b[0mnext\u001b[0m\u001b[0;34m(\u001b[0m\u001b[0miter\u001b[0m\u001b[0;34m(\u001b[0m\u001b[0mdlt\u001b[0m\u001b[0;34m)\u001b[0m\u001b[0;34m)\u001b[0m\u001b[0;34m\u001b[0m\u001b[0;34m\u001b[0m\u001b[0m\n\u001b[0;32m----> 2\u001b[0;31m \u001b[0mdft\u001b[0m \u001b[0;34m=\u001b[0m \u001b[0mtop_mistakes\u001b[0m\u001b[0;34m(\u001b[0m\u001b[0mt\u001b[0m\u001b[0;34m,\u001b[0m \u001b[0mxb\u001b[0m\u001b[0;34m,\u001b[0m \u001b[0myb\u001b[0m\u001b[0;34m)\u001b[0m\u001b[0;34m\u001b[0m\u001b[0;34m\u001b[0m\u001b[0m\n\u001b[0m",
      "\u001b[0;32m/storage/img-wang/lib/img_wang/torch_utils.py\u001b[0m in \u001b[0;36mtop_mistakes\u001b[0;34m(trainer, xb, yb, ds, dl, n, df)\u001b[0m\n\u001b[1;32m     48\u001b[0m         \u001b[0mpreds\u001b[0m \u001b[0;34m=\u001b[0m \u001b[0mtrainer\u001b[0m\u001b[0;34m.\u001b[0m\u001b[0mpredict\u001b[0m\u001b[0;34m(\u001b[0m\u001b[0mxb\u001b[0m\u001b[0;34m,\u001b[0m \u001b[0mlogits\u001b[0m\u001b[0;34m=\u001b[0m\u001b[0;32mFalse\u001b[0m\u001b[0;34m)\u001b[0m\u001b[0;34m\u001b[0m\u001b[0;34m\u001b[0m\u001b[0m\n\u001b[1;32m     49\u001b[0m         titles = [f'Label: {y.item()}\\nPred: {yhat.item():.3f}\\nIdx: {x.idx}'\n\u001b[0;32m---> 50\u001b[0;31m                   for x, y, yhat in zip(xb, yb, preds)]\n\u001b[0m\u001b[1;32m     51\u001b[0m         df = pd.DataFrame({'y': yb.squeeze(-1).numpy(),\n\u001b[1;32m     52\u001b[0m                            'y_proba': preds.squeeze(-1).cpu().numpy()})\n",
      "\u001b[0;32m/storage/img-wang/lib/img_wang/torch_utils.py\u001b[0m in \u001b[0;36m<listcomp>\u001b[0;34m(.0)\u001b[0m\n\u001b[1;32m     48\u001b[0m         \u001b[0mpreds\u001b[0m \u001b[0;34m=\u001b[0m \u001b[0mtrainer\u001b[0m\u001b[0;34m.\u001b[0m\u001b[0mpredict\u001b[0m\u001b[0;34m(\u001b[0m\u001b[0mxb\u001b[0m\u001b[0;34m,\u001b[0m \u001b[0mlogits\u001b[0m\u001b[0;34m=\u001b[0m\u001b[0;32mFalse\u001b[0m\u001b[0;34m)\u001b[0m\u001b[0;34m\u001b[0m\u001b[0;34m\u001b[0m\u001b[0m\n\u001b[1;32m     49\u001b[0m         titles = [f'Label: {y.item()}\\nPred: {yhat.item():.3f}\\nIdx: {x.idx}'\n\u001b[0;32m---> 50\u001b[0;31m                   for x, y, yhat in zip(xb, yb, preds)]\n\u001b[0m\u001b[1;32m     51\u001b[0m         df = pd.DataFrame({'y': yb.squeeze(-1).numpy(),\n\u001b[1;32m     52\u001b[0m                            'y_proba': preds.squeeze(-1).cpu().numpy()})\n",
      "\u001b[0;31mAttributeError\u001b[0m: 'Tensor' object has no attribute 'idx'"
     ]
    }
   ],
   "source": [
    "xb, yb = next(iter(dlt))\n",
    "dft = top_mistakes(t, xb, yb)"
   ]
  },
  {
   "cell_type": "code",
   "execution_count": 15,
   "metadata": {},
   "outputs": [
    {
     "data": {
      "text/html": [
       "<div>\n",
       "<style scoped>\n",
       "    .dataframe tbody tr th:only-of-type {\n",
       "        vertical-align: middle;\n",
       "    }\n",
       "\n",
       "    .dataframe tbody tr th {\n",
       "        vertical-align: top;\n",
       "    }\n",
       "\n",
       "    .dataframe thead th {\n",
       "        text-align: right;\n",
       "    }\n",
       "</style>\n",
       "<table border=\"1\" class=\"dataframe\">\n",
       "  <thead>\n",
       "    <tr style=\"text-align: right;\">\n",
       "      <th></th>\n",
       "      <th>y</th>\n",
       "      <th>y_proba</th>\n",
       "    </tr>\n",
       "  </thead>\n",
       "  <tbody>\n",
       "    <tr>\n",
       "      <th>0</th>\n",
       "      <td>0.0</td>\n",
       "      <td>0.021437</td>\n",
       "    </tr>\n",
       "    <tr>\n",
       "      <th>1</th>\n",
       "      <td>1.0</td>\n",
       "      <td>0.939200</td>\n",
       "    </tr>\n",
       "    <tr>\n",
       "      <th>2</th>\n",
       "      <td>0.0</td>\n",
       "      <td>0.726055</td>\n",
       "    </tr>\n",
       "    <tr>\n",
       "      <th>3</th>\n",
       "      <td>1.0</td>\n",
       "      <td>0.968426</td>\n",
       "    </tr>\n",
       "    <tr>\n",
       "      <th>4</th>\n",
       "      <td>0.0</td>\n",
       "      <td>0.020999</td>\n",
       "    </tr>\n",
       "    <tr>\n",
       "      <th>...</th>\n",
       "      <td>...</td>\n",
       "      <td>...</td>\n",
       "    </tr>\n",
       "    <tr>\n",
       "      <th>251</th>\n",
       "      <td>0.0</td>\n",
       "      <td>0.009739</td>\n",
       "    </tr>\n",
       "    <tr>\n",
       "      <th>252</th>\n",
       "      <td>1.0</td>\n",
       "      <td>0.970678</td>\n",
       "    </tr>\n",
       "    <tr>\n",
       "      <th>253</th>\n",
       "      <td>1.0</td>\n",
       "      <td>0.991280</td>\n",
       "    </tr>\n",
       "    <tr>\n",
       "      <th>254</th>\n",
       "      <td>0.0</td>\n",
       "      <td>0.089755</td>\n",
       "    </tr>\n",
       "    <tr>\n",
       "      <th>255</th>\n",
       "      <td>1.0</td>\n",
       "      <td>0.956774</td>\n",
       "    </tr>\n",
       "  </tbody>\n",
       "</table>\n",
       "<p>256 rows × 2 columns</p>\n",
       "</div>"
      ],
      "text/plain": [
       "       y   y_proba\n",
       "0    0.0  0.021437\n",
       "1    1.0  0.939200\n",
       "2    0.0  0.726055\n",
       "3    1.0  0.968426\n",
       "4    0.0  0.020999\n",
       "..   ...       ...\n",
       "251  0.0  0.009739\n",
       "252  1.0  0.970678\n",
       "253  1.0  0.991280\n",
       "254  0.0  0.089755\n",
       "255  1.0  0.956774\n",
       "\n",
       "[256 rows x 2 columns]"
      ]
     },
     "execution_count": 15,
     "metadata": {},
     "output_type": "execute_result"
    }
   ],
   "source": [
    "dft"
   ]
  },
  {
   "cell_type": "markdown",
   "metadata": {},
   "source": [
    "Some of these samples are labeled as negatives but definitely look like positives. I wonder if there are duplicates in the dataset? If not, that would be a weird bug - can't imagine what would cause that.\n",
    "\n",
    "There was at least 1 example, though, that looked like the opposite problem (labeled as positive but looks like it came from a different image). That seems like evidence in favor of the \"bug\" issue over the \"duplicates\" issue."
   ]
  }
 ],
 "metadata": {
  "kernelspec": {
   "display_name": "Python 3",
   "language": "python",
   "name": "python3"
  },
  "language_info": {
   "codemirror_mode": {
    "name": "ipython",
    "version": 3
   },
   "file_extension": ".py",
   "mimetype": "text/x-python",
   "name": "python",
   "nbconvert_exporter": "python",
   "pygments_lexer": "ipython3",
   "version": "3.7.6"
  }
 },
 "nbformat": 4,
 "nbformat_minor": 2
}
