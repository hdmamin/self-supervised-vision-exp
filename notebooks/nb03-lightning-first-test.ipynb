{
 "cells": [
  {
   "cell_type": "code",
   "execution_count": 1,
   "metadata": {
    "ExecuteTime": {
     "end_time": "2020-08-14T05:13:36.746347Z",
     "start_time": "2020-08-14T05:13:36.718264Z"
    }
   },
   "outputs": [],
   "source": [
    "%load_ext autoreload\n",
    "%autoreload 2"
   ]
  },
  {
   "cell_type": "code",
   "execution_count": 210,
   "metadata": {
    "ExecuteTime": {
     "end_time": "2020-08-15T05:12:42.432528Z",
     "start_time": "2020-08-15T05:12:42.356845Z"
    }
   },
   "outputs": [],
   "source": [
    "import albumentations as A\n",
    "from albumentations.pytorch import transforms\n",
    "from fastai2.vision.all import get_image_files, AdaptiveConcatPool2d, \\\n",
    "    aug_transforms, show_image, show_images, load_image, PoolFlatten, \\\n",
    "    PoolType\n",
    "import matplotlib.pyplot as plt\n",
    "import numpy as np\n",
    "import os\n",
    "import pandas as pd\n",
    "from pathlib import Path\n",
    "import pytorch_lightning as pl\n",
    "from pytorch_lightning.logging.comet import CometLogger\n",
    "from pytorch_lightning.loggers import MLFlowLogger\n",
    "import torch\n",
    "import torch.nn as nn\n",
    "import torch.nn.functional as F\n",
    "from torch.utils.data import DataLoader\n",
    "from torchvision.datasets import ImageFolder\n",
    "import torchvision as tv\n",
    "import warnings\n",
    "\n",
    "from htools import *\n",
    "from incendio.optimizers import variable_lr_optimizer\n",
    "from img_wang.data import get_databunch, load_img\n",
    "from img_wang.models import Unmixer, Encoder"
   ]
  },
  {
   "cell_type": "code",
   "execution_count": 18,
   "metadata": {
    "ExecuteTime": {
     "end_time": "2020-08-15T03:42:28.425004Z",
     "start_time": "2020-08-15T03:42:28.342853Z"
    }
   },
   "outputs": [
    {
     "name": "stdout",
     "output_type": "stream",
     "text": [
      "Current directory: /Users/hmamin/img_wang\n"
     ]
    }
   ],
   "source": [
    "cd_root()"
   ]
  },
  {
   "cell_type": "code",
   "execution_count": 307,
   "metadata": {
    "ExecuteTime": {
     "end_time": "2020-08-15T05:32:04.983640Z",
     "start_time": "2020-08-15T05:32:04.902766Z"
    }
   },
   "outputs": [],
   "source": [
    "class UnmixerPL(pl.LightningModule):\n",
    "    \n",
    "    def __init__(self, net=None, loss=F.mse_loss):\n",
    "        super().__init__()\n",
    "        self.net = net or Unmixer()\n",
    "        self.loss = loss\n",
    "        \n",
    "    def forward(self, *x):\n",
    "        return self.net(*x)\n",
    "    \n",
    "    def training_step(self, batch, batch_i):\n",
    "        *x, y = batch\n",
    "        y_hat = self(*x)\n",
    "        loss = self.loss(y_hat, y.float())\n",
    "        return {'loss': loss}\n",
    "    \n",
    "    def validation_step(self, batch, batch_i):\n",
    "        *x, y = batch\n",
    "        y_hat = self(*x)\n",
    "        loss = self.loss(y_hat, y.float())\n",
    "        res = pl.EvalResult(checkpoint_on=loss)\n",
    "        res.log('val_loss', loss)\n",
    "        return res\n",
    "    \n",
    "    def configure_optimizers(self):\n",
    "        return variable_lr_optimizer(self.net)"
   ]
  },
  {
   "cell_type": "code",
   "execution_count": 21,
   "metadata": {
    "ExecuteTime": {
     "end_time": "2020-08-15T03:51:37.109281Z",
     "start_time": "2020-08-15T03:51:36.882728Z"
    }
   },
   "outputs": [],
   "source": [
    "class MixupDataPL(pl.LightningDataModule):\n",
    "    \n",
    "    def __init__(self, dir_=None, paths=None,\n",
    "                 mode:('mixup', 'scale', 'quadrant')='mixup', bs=32,\n",
    "                 valid_bs_mult=1, train_pct=.9, shuffle_train=True,\n",
    "                 drop_last=True, random_state=0, **ds_kwargs):\n",
    "        self.dst, self.dsv, self.dlt, self.dlv = get_databunch(\n",
    "            dir_, paths, mode, bs, valid_bs_mult, train_pct, shuffle_train,\n",
    "            drop_last, random_state, **ds_kwargs\n",
    "        )\n",
    "        \n",
    "    def train_dataloader(self):\n",
    "        return self.dlt\n",
    "    \n",
    "    def val_dataloader(self):\n",
    "        return self.dlv"
   ]
  },
  {
   "cell_type": "code",
   "execution_count": 6,
   "metadata": {
    "ExecuteTime": {
     "end_time": "2020-08-14T05:13:41.523160Z",
     "start_time": "2020-08-14T05:13:41.459022Z"
    }
   },
   "outputs": [],
   "source": [
    "dir_u = Path('data/imagewang-160/unsup/')"
   ]
  },
  {
   "cell_type": "code",
   "execution_count": 11,
   "metadata": {
    "ExecuteTime": {
     "end_time": "2020-08-14T05:16:55.561227Z",
     "start_time": "2020-08-14T05:16:55.329890Z"
    }
   },
   "outputs": [],
   "source": [
    "paths_xtiny = get_image_files(dir_u)[:4]\n",
    "data = MixupDataPL(paths=paths_xtiny, mode='scale', bs=2, train_pct=.5, n=1)\n",
    "module = UnmixerPL()"
   ]
  },
  {
   "cell_type": "code",
   "execution_count": 12,
   "metadata": {
    "ExecuteTime": {
     "end_time": "2020-08-14T05:16:55.677355Z",
     "start_time": "2020-08-14T05:16:55.628023Z"
    }
   },
   "outputs": [
    {
     "name": "stderr",
     "output_type": "stream",
     "text": [
      "CometLogger will be initialized in online mode\n"
     ]
    }
   ],
   "source": [
    "with open('/Users/hmamin/.comet.config', 'r') as f:\n",
    "    comet_key = f.readlines()[-1].split('=')[-1].strip()\n",
    "logger = CometLogger(api_key=comet_key, project_name='imagewang')"
   ]
  },
  {
   "cell_type": "code",
   "execution_count": 13,
   "metadata": {
    "ExecuteTime": {
     "end_time": "2020-08-14T05:16:56.167264Z",
     "start_time": "2020-08-14T05:16:56.116407Z"
    }
   },
   "outputs": [],
   "source": [
    "mlf_logger = MLFlowLogger(experiment_name='debug-img-wang', \n",
    "                          tracking_uri='http://127.0.0.1:5000')"
   ]
  },
  {
   "cell_type": "code",
   "execution_count": 14,
   "metadata": {
    "ExecuteTime": {
     "end_time": "2020-08-14T05:16:58.636963Z",
     "start_time": "2020-08-14T05:16:56.796740Z"
    }
   },
   "outputs": [
    {
     "name": "stderr",
     "output_type": "stream",
     "text": [
      "GPU available: False, used: False\n",
      "TPU available: False, using: 0 TPU cores\n",
      "\n",
      "  | Name | Type    | Params\n",
      "---------------------------------\n",
      "0 | net  | Unmixer | 394 K \n"
     ]
    },
    {
     "data": {
      "application/vnd.jupyter.widget-view+json": {
       "model_id": "635cbabb8a3b4a4d976be6fd84b349aa",
       "version_major": 2,
       "version_minor": 0
      },
      "text/plain": [
       "HBox(children=(FloatProgress(value=1.0, bar_style='info', description='Validation sanity check', layout=Layout…"
      ]
     },
     "metadata": {},
     "output_type": "display_data"
    },
    {
     "data": {
      "application/vnd.jupyter.widget-view+json": {
       "model_id": "4aec0e96642a40ccbfb5c6851f852345",
       "version_major": 2,
       "version_minor": 0
      },
      "text/plain": [
       "HBox(children=(FloatProgress(value=1.0, bar_style='info', description='Training', layout=Layout(flex='2'), max…"
      ]
     },
     "metadata": {},
     "output_type": "display_data"
    },
    {
     "data": {
      "application/vnd.jupyter.widget-view+json": {
       "model_id": "",
       "version_major": 2,
       "version_minor": 0
      },
      "text/plain": [
       "HBox(children=(FloatProgress(value=1.0, bar_style='info', description='Validating', layout=Layout(flex='2'), m…"
      ]
     },
     "metadata": {},
     "output_type": "display_data"
    },
    {
     "data": {
      "application/vnd.jupyter.widget-view+json": {
       "model_id": "",
       "version_major": 2,
       "version_minor": 0
      },
      "text/plain": [
       "HBox(children=(FloatProgress(value=1.0, bar_style='info', description='Validating', layout=Layout(flex='2'), m…"
      ]
     },
     "metadata": {},
     "output_type": "display_data"
    },
    {
     "data": {
      "application/vnd.jupyter.widget-view+json": {
       "model_id": "",
       "version_major": 2,
       "version_minor": 0
      },
      "text/plain": [
       "HBox(children=(FloatProgress(value=1.0, bar_style='info', description='Validating', layout=Layout(flex='2'), m…"
      ]
     },
     "metadata": {},
     "output_type": "display_data"
    },
    {
     "data": {
      "application/vnd.jupyter.widget-view+json": {
       "model_id": "",
       "version_major": 2,
       "version_minor": 0
      },
      "text/plain": [
       "HBox(children=(FloatProgress(value=1.0, bar_style='info', description='Validating', layout=Layout(flex='2'), m…"
      ]
     },
     "metadata": {},
     "output_type": "display_data"
    },
    {
     "data": {
      "application/vnd.jupyter.widget-view+json": {
       "model_id": "",
       "version_major": 2,
       "version_minor": 0
      },
      "text/plain": [
       "HBox(children=(FloatProgress(value=1.0, bar_style='info', description='Validating', layout=Layout(flex='2'), m…"
      ]
     },
     "metadata": {},
     "output_type": "display_data"
    },
    {
     "name": "stdout",
     "output_type": "stream",
     "text": [
      "\n"
     ]
    },
    {
     "data": {
      "text/plain": [
       "1"
      ]
     },
     "execution_count": 14,
     "metadata": {},
     "output_type": "execute_result"
    }
   ],
   "source": [
    "t = pl.Trainer(max_epochs=5, logger=mlf_logger, log_save_interval=1)\n",
    "t.fit(module, data)"
   ]
  },
  {
   "cell_type": "markdown",
   "metadata": {},
   "source": [
    "## Supervised Task\n",
    "\n",
    "Try out the slightly more straightforward supervised task to see if that trains as expected with incendio and/or lightning. Trying to narrow down possible problems."
   ]
  },
  {
   "cell_type": "code",
   "execution_count": 138,
   "metadata": {
    "ExecuteTime": {
     "end_time": "2020-08-15T04:48:43.810353Z",
     "start_time": "2020-08-15T04:48:43.668714Z"
    }
   },
   "outputs": [],
   "source": [
    "x = load_image('data/imagewang-160/train/n01440764/ILSVRC2012_val_00000293.jpeg')\n",
    "x = np.array(x, dtype=np.float32)"
   ]
  },
  {
   "cell_type": "code",
   "execution_count": 257,
   "metadata": {
    "ExecuteTime": {
     "end_time": "2020-08-15T05:26:01.439686Z",
     "start_time": "2020-08-15T05:26:01.327203Z"
    }
   },
   "outputs": [],
   "source": [
    "class SupervisedDataPL(pl.LightningDataModule):\n",
    "    \n",
    "    def __init__(self, root='data/imagewang-160', bs=32, train_tfms=None,\n",
    "                 val_tfms=None, shape=(128, 128)):\n",
    "        \"\"\"\n",
    "        tfms: list[transform]\n",
    "        \"\"\"\n",
    "        self.root = Path(root)\n",
    "        self.bs = bs\n",
    "        self.train_tfms = tv.transforms.Compose(\n",
    "            train_tfms or \n",
    "            [tv.transforms.RandomResizedCrop(shape, (.9, 1.0)), \n",
    "             tv.transforms.RandomHorizontalFlip(),\n",
    "             tv.transforms.RandomRotation(10),\n",
    "             tv.transforms.ToTensor()]\n",
    "        )\n",
    "        self.val_tfms = tv.transforms.Compose(\n",
    "            val_tfms or \n",
    "            [tv.transforms.Resize(shape),\n",
    "             tv.transforms.ToTensor()])\n",
    "        \n",
    "    def setup(self, stage=''):\n",
    "        self.ds_train = ImageFolder(self.root/'train', self.train_tfms)\n",
    "        self.ds_val = ImageFolder(self.root/'val', self.val_tfms)\n",
    "        self.dl_train = DataLoader(self.ds_train, self.bs, shuffle=True)\n",
    "        self.dl_val = DataLoader(self.ds_val, self.bs)\n",
    "        \n",
    "    def train_dataloader(self):\n",
    "        return self.dl_train\n",
    "    \n",
    "    def val_dataloader(self):\n",
    "        return self.dl_val"
   ]
  },
  {
   "cell_type": "code",
   "execution_count": 276,
   "metadata": {
    "ExecuteTime": {
     "end_time": "2020-08-15T05:28:32.598077Z",
     "start_time": "2020-08-15T05:28:32.483771Z"
    }
   },
   "outputs": [],
   "source": [
    "class SupervisedEncoderClassifier(nn.Module):\n",
    "    \n",
    "    def __init__(self, enc=None, enc_out_feat=None):\n",
    "        super().__init__()\n",
    "        self.enc = enc or Encoder()\n",
    "        self.pool = PoolFlatten('cat')\n",
    "        # Concat pool double last feature dimension.\n",
    "        self.fc = nn.Linear(list(self.enc.parameters())[-1].shape[0]*2, 1)\n",
    "        \n",
    "    def forward(self, x):\n",
    "        x = self.enc(x)\n",
    "        x = self.pool(x)\n",
    "        return self.fc(x).squeeze()"
   ]
  },
  {
   "cell_type": "code",
   "execution_count": 287,
   "metadata": {
    "ExecuteTime": {
     "end_time": "2020-08-15T05:29:22.914494Z",
     "start_time": "2020-08-15T05:29:22.479313Z"
    }
   },
   "outputs": [],
   "source": [
    "sdata = SupervisedDataPL(bs=2)\n",
    "sdata.setup()"
   ]
  },
  {
   "cell_type": "code",
   "execution_count": 301,
   "metadata": {
    "ExecuteTime": {
     "end_time": "2020-08-15T05:31:29.210127Z",
     "start_time": "2020-08-15T05:31:29.083836Z"
    }
   },
   "outputs": [],
   "source": [
    "net = SupervisedEncoderClassifier()"
   ]
  },
  {
   "cell_type": "code",
   "execution_count": 302,
   "metadata": {
    "ExecuteTime": {
     "end_time": "2020-08-15T05:31:29.626585Z",
     "start_time": "2020-08-15T05:31:29.538597Z"
    }
   },
   "outputs": [
    {
     "data": {
      "text/plain": [
       "(torch.Size([2, 3, 128, 128]), torch.Size([2]))"
      ]
     },
     "execution_count": 302,
     "metadata": {},
     "output_type": "execute_result"
    }
   ],
   "source": [
    "x, y = next(iter(sdata.dl_train))\n",
    "x.shape, y.shape"
   ]
  },
  {
   "cell_type": "code",
   "execution_count": 308,
   "metadata": {
    "ExecuteTime": {
     "end_time": "2020-08-15T05:32:10.989990Z",
     "start_time": "2020-08-15T05:32:10.877909Z"
    }
   },
   "outputs": [
    {
     "data": {
      "text/plain": [
       "torch.Size([2])"
      ]
     },
     "execution_count": 308,
     "metadata": {},
     "output_type": "execute_result"
    }
   ],
   "source": [
    "yhat = net(x)\n",
    "yhat.shape"
   ]
  },
  {
   "cell_type": "code",
   "execution_count": 309,
   "metadata": {
    "ExecuteTime": {
     "end_time": "2020-08-15T05:32:11.476462Z",
     "start_time": "2020-08-15T05:32:11.411620Z"
    },
    "scrolled": true
   },
   "outputs": [
    {
     "data": {
      "text/plain": [
       "(torch.float32, torch.int64)"
      ]
     },
     "execution_count": 309,
     "metadata": {},
     "output_type": "execute_result"
    }
   ],
   "source": [
    "yhat.dtype, y.dtype"
   ]
  },
  {
   "cell_type": "code",
   "execution_count": 310,
   "metadata": {
    "ExecuteTime": {
     "end_time": "2020-08-15T05:32:11.972345Z",
     "start_time": "2020-08-15T05:32:11.902055Z"
    }
   },
   "outputs": [],
   "source": [
    "module = UnmixerPL(net, loss=F.binary_cross_entropy_with_logits)"
   ]
  },
  {
   "cell_type": "code",
   "execution_count": 311,
   "metadata": {
    "ExecuteTime": {
     "end_time": "2020-08-15T05:32:12.993087Z",
     "start_time": "2020-08-15T05:32:12.889104Z"
    }
   },
   "outputs": [
    {
     "data": {
      "text/plain": [
       "tensor(-30.6515)"
      ]
     },
     "execution_count": 311,
     "metadata": {},
     "output_type": "execute_result"
    }
   ],
   "source": [
    "F.binary_cross_entropy_with_logits(yhat, y.float())"
   ]
  },
  {
   "cell_type": "code",
   "execution_count": 312,
   "metadata": {
    "ExecuteTime": {
     "end_time": "2020-08-15T05:32:16.393796Z",
     "start_time": "2020-08-15T05:32:13.764577Z"
    }
   },
   "outputs": [
    {
     "name": "stderr",
     "output_type": "stream",
     "text": [
      "GPU available: False, used: False\n",
      "TPU available: False, using: 0 TPU cores\n",
      "\n",
      "  | Name | Type                        | Params\n",
      "-----------------------------------------------------\n",
      "0 | net  | SupervisedEncoderClassifier | 394 K \n"
     ]
    },
    {
     "data": {
      "application/vnd.jupyter.widget-view+json": {
       "model_id": "",
       "version_major": 2,
       "version_minor": 0
      },
      "text/plain": [
       "HBox(children=(FloatProgress(value=1.0, bar_style='info', description='Validation sanity check', layout=Layout…"
      ]
     },
     "metadata": {},
     "output_type": "display_data"
    },
    {
     "name": "stderr",
     "output_type": "stream",
     "text": [
      "/Users/hmamin/anaconda3/lib/python3.7/site-packages/pytorch_lightning/utilities/distributed.py:22: UserWarning: The dataloader, train dataloader, does not have many workers which may be a bottleneck. Consider increasing the value of the `num_workers` argument` (try 4 which is the number of cpus on this machine) in the `DataLoader` init to improve performance.\n",
      "  warnings.warn(*args, **kwargs)\n"
     ]
    },
    {
     "data": {
      "application/vnd.jupyter.widget-view+json": {
       "model_id": "a4087366c02744f4a8d5b27bf7ac0668",
       "version_major": 2,
       "version_minor": 0
      },
      "text/plain": [
       "HBox(children=(FloatProgress(value=1.0, bar_style='info', description='Training', layout=Layout(flex='2'), max…"
      ]
     },
     "metadata": {},
     "output_type": "display_data"
    },
    {
     "data": {
      "application/vnd.jupyter.widget-view+json": {
       "model_id": "",
       "version_major": 2,
       "version_minor": 0
      },
      "text/plain": [
       "HBox(children=(FloatProgress(value=1.0, bar_style='info', description='Validating', layout=Layout(flex='2'), m…"
      ]
     },
     "metadata": {},
     "output_type": "display_data"
    },
    {
     "data": {
      "application/vnd.jupyter.widget-view+json": {
       "model_id": "",
       "version_major": 2,
       "version_minor": 0
      },
      "text/plain": [
       "HBox(children=(FloatProgress(value=1.0, bar_style='info', description='Validating', layout=Layout(flex='2'), m…"
      ]
     },
     "metadata": {},
     "output_type": "display_data"
    },
    {
     "data": {
      "application/vnd.jupyter.widget-view+json": {
       "model_id": "",
       "version_major": 2,
       "version_minor": 0
      },
      "text/plain": [
       "HBox(children=(FloatProgress(value=1.0, bar_style='info', description='Validating', layout=Layout(flex='2'), m…"
      ]
     },
     "metadata": {},
     "output_type": "display_data"
    },
    {
     "data": {
      "application/vnd.jupyter.widget-view+json": {
       "model_id": "",
       "version_major": 2,
       "version_minor": 0
      },
      "text/plain": [
       "HBox(children=(FloatProgress(value=1.0, bar_style='info', description='Validating', layout=Layout(flex='2'), m…"
      ]
     },
     "metadata": {},
     "output_type": "display_data"
    },
    {
     "data": {
      "application/vnd.jupyter.widget-view+json": {
       "model_id": "",
       "version_major": 2,
       "version_minor": 0
      },
      "text/plain": [
       "HBox(children=(FloatProgress(value=1.0, bar_style='info', description='Validating', layout=Layout(flex='2'), m…"
      ]
     },
     "metadata": {},
     "output_type": "display_data"
    },
    {
     "name": "stdout",
     "output_type": "stream",
     "text": [
      "\n"
     ]
    },
    {
     "data": {
      "text/plain": [
       "1"
      ]
     },
     "execution_count": 312,
     "metadata": {},
     "output_type": "execute_result"
    }
   ],
   "source": [
    "t = pl.Trainer(max_epochs=5, overfit_batches=1)\n",
    "t.fit(module, sdata)"
   ]
  },
  {
   "cell_type": "code",
   "execution_count": null,
   "metadata": {},
   "outputs": [],
   "source": []
  }
 ],
 "metadata": {
  "kernelspec": {
   "display_name": "Python 3",
   "language": "python",
   "name": "python3"
  },
  "language_info": {
   "codemirror_mode": {
    "name": "ipython",
    "version": 3
   },
   "file_extension": ".py",
   "mimetype": "text/x-python",
   "name": "python",
   "nbconvert_exporter": "python",
   "pygments_lexer": "ipython3",
   "version": "3.7.3"
  }
 },
 "nbformat": 4,
 "nbformat_minor": 2
}
