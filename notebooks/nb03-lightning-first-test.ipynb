{
 "cells": [
  {
   "cell_type": "code",
   "execution_count": 1,
   "metadata": {
    "ExecuteTime": {
     "end_time": "2020-08-17T04:11:30.073495Z",
     "start_time": "2020-08-17T04:11:30.050610Z"
    }
   },
   "outputs": [],
   "source": [
    "%load_ext autoreload\n",
    "%autoreload 2"
   ]
  },
  {
   "cell_type": "code",
   "execution_count": 2,
   "metadata": {
    "ExecuteTime": {
     "end_time": "2020-08-17T04:11:37.595931Z",
     "start_time": "2020-08-17T04:11:31.027032Z"
    }
   },
   "outputs": [
    {
     "name": "stderr",
     "output_type": "stream",
     "text": [
      "/Users/hmamin/pythonhm/htools/htools/core.py:2: DeprecationWarning: Using or importing the ABCs from 'collections' instead of from 'collections.abc' is deprecated, and in 3.8 it will stop working\n",
      "  from collections import Counter, Sequence, Iterable, \\\n",
      "/Users/hmamin/anaconda3/lib/python3.7/site-packages/incendio/callbacks.py:24: UserWarning: Accio not available.\n",
      "  warnings.warn('Accio not available.')\n"
     ]
    }
   ],
   "source": [
    "import albumentations as A\n",
    "from albumentations.pytorch import transforms\n",
    "from fastai2.vision.all import get_image_files, AdaptiveConcatPool2d, \\\n",
    "    aug_transforms, show_image, show_images, load_image, PoolFlatten, \\\n",
    "    PoolType\n",
    "from itertools import zip_longest\n",
    "import matplotlib.pyplot as plt\n",
    "import numpy as np\n",
    "import os\n",
    "import pandas as pd\n",
    "from pathlib import Path\n",
    "import pytorch_lightning as pl\n",
    "# from pytorch_lightning.logging.comet import CometLogger\n",
    "# from pytorch_lightning.loggers import MLFlowLogger\n",
    "import torch\n",
    "import torch.nn as nn\n",
    "import torch.nn.functional as F\n",
    "from torch.utils.data import DataLoader\n",
    "from torchvision.datasets import ImageFolder\n",
    "import torchvision as tv\n",
    "import warnings\n",
    "\n",
    "from htools import *\n",
    "from incendio.optimizers import variable_lr_optimizer\n",
    "from img_wang.data import get_databunch, load_img\n",
    "from img_wang.models import Unmixer, Encoder"
   ]
  },
  {
   "cell_type": "code",
   "execution_count": 3,
   "metadata": {
    "ExecuteTime": {
     "end_time": "2020-08-17T04:11:44.729363Z",
     "start_time": "2020-08-17T04:11:44.596134Z"
    }
   },
   "outputs": [
    {
     "name": "stdout",
     "output_type": "stream",
     "text": [
      "Current directory: /Users/hmamin/img_wang\n"
     ]
    }
   ],
   "source": [
    "cd_root()"
   ]
  },
  {
   "cell_type": "code",
   "execution_count": 350,
   "metadata": {
    "ExecuteTime": {
     "end_time": "2020-08-16T05:36:29.537532Z",
     "start_time": "2020-08-16T05:36:29.438359Z"
    }
   },
   "outputs": [],
   "source": [
    "class UnmixerPL(pl.LightningModule):\n",
    "    \n",
    "    def __init__(self, net=None, loss=F.mse_loss):\n",
    "        super().__init__()\n",
    "        self.net = net or Unmixer()\n",
    "        self.loss = loss\n",
    "        \n",
    "    def forward(self, *x):\n",
    "        return self.net(*x)\n",
    "    \n",
    "    def training_step(self, batch, batch_i):\n",
    "        *x, y = batch\n",
    "        y_hat = self(*x)\n",
    "        loss = self.loss(y_hat, y)\n",
    "        return {'loss': loss}\n",
    "    \n",
    "    def validation_step(self, batch, batch_i):\n",
    "        *x, y = batch\n",
    "        y_hat = self(*x)\n",
    "        loss = self.loss(y_hat, y)\n",
    "        res = pl.EvalResult(checkpoint_on=loss)\n",
    "        res.log('val_loss', loss)\n",
    "        return res\n",
    "    \n",
    "    def configure_optimizers(self):\n",
    "        return variable_lr_optimizer(self.net)"
   ]
  },
  {
   "cell_type": "code",
   "execution_count": 21,
   "metadata": {
    "ExecuteTime": {
     "end_time": "2020-08-15T03:51:37.109281Z",
     "start_time": "2020-08-15T03:51:36.882728Z"
    }
   },
   "outputs": [],
   "source": [
    "class MixupDataPL(pl.LightningDataModule):\n",
    "    \n",
    "    def __init__(self, dir_=None, paths=None,\n",
    "                 mode:('mixup', 'scale', 'quadrant')='mixup', bs=32,\n",
    "                 valid_bs_mult=1, train_pct=.9, shuffle_train=True,\n",
    "                 drop_last=True, random_state=0, **ds_kwargs):\n",
    "        self.dst, self.dsv, self.dlt, self.dlv = get_databunch(\n",
    "            dir_, paths, mode, bs, valid_bs_mult, train_pct, shuffle_train,\n",
    "            drop_last, random_state, **ds_kwargs\n",
    "        )\n",
    "        \n",
    "    def train_dataloader(self):\n",
    "        return self.dlt\n",
    "    \n",
    "    def val_dataloader(self):\n",
    "        return self.dlv"
   ]
  },
  {
   "cell_type": "code",
   "execution_count": 6,
   "metadata": {
    "ExecuteTime": {
     "end_time": "2020-08-14T05:13:41.523160Z",
     "start_time": "2020-08-14T05:13:41.459022Z"
    }
   },
   "outputs": [],
   "source": [
    "dir_u = Path('data/imagewang-160/unsup/')"
   ]
  },
  {
   "cell_type": "code",
   "execution_count": 11,
   "metadata": {
    "ExecuteTime": {
     "end_time": "2020-08-14T05:16:55.561227Z",
     "start_time": "2020-08-14T05:16:55.329890Z"
    }
   },
   "outputs": [],
   "source": [
    "paths_xtiny = get_image_files(dir_u)[:4]\n",
    "data = MixupDataPL(paths=paths_xtiny, mode='scale', bs=2, train_pct=.5, n=1)\n",
    "module = UnmixerPL()"
   ]
  },
  {
   "cell_type": "code",
   "execution_count": 12,
   "metadata": {
    "ExecuteTime": {
     "end_time": "2020-08-14T05:16:55.677355Z",
     "start_time": "2020-08-14T05:16:55.628023Z"
    }
   },
   "outputs": [
    {
     "name": "stderr",
     "output_type": "stream",
     "text": [
      "CometLogger will be initialized in online mode\n"
     ]
    }
   ],
   "source": [
    "with open('/Users/hmamin/.comet.config', 'r') as f:\n",
    "    comet_key = f.readlines()[-1].split('=')[-1].strip()\n",
    "logger = CometLogger(api_key=comet_key, project_name='imagewang')"
   ]
  },
  {
   "cell_type": "code",
   "execution_count": 13,
   "metadata": {
    "ExecuteTime": {
     "end_time": "2020-08-14T05:16:56.167264Z",
     "start_time": "2020-08-14T05:16:56.116407Z"
    }
   },
   "outputs": [],
   "source": [
    "mlf_logger = MLFlowLogger(experiment_name='debug-img-wang', \n",
    "                          tracking_uri='http://127.0.0.1:5000')"
   ]
  },
  {
   "cell_type": "code",
   "execution_count": 14,
   "metadata": {
    "ExecuteTime": {
     "end_time": "2020-08-14T05:16:58.636963Z",
     "start_time": "2020-08-14T05:16:56.796740Z"
    }
   },
   "outputs": [
    {
     "name": "stderr",
     "output_type": "stream",
     "text": [
      "GPU available: False, used: False\n",
      "TPU available: False, using: 0 TPU cores\n",
      "\n",
      "  | Name | Type    | Params\n",
      "---------------------------------\n",
      "0 | net  | Unmixer | 394 K \n"
     ]
    },
    {
     "data": {
      "application/vnd.jupyter.widget-view+json": {
       "model_id": "635cbabb8a3b4a4d976be6fd84b349aa",
       "version_major": 2,
       "version_minor": 0
      },
      "text/plain": [
       "HBox(children=(FloatProgress(value=1.0, bar_style='info', description='Validation sanity check', layout=Layout…"
      ]
     },
     "metadata": {},
     "output_type": "display_data"
    },
    {
     "data": {
      "application/vnd.jupyter.widget-view+json": {
       "model_id": "4aec0e96642a40ccbfb5c6851f852345",
       "version_major": 2,
       "version_minor": 0
      },
      "text/plain": [
       "HBox(children=(FloatProgress(value=1.0, bar_style='info', description='Training', layout=Layout(flex='2'), max…"
      ]
     },
     "metadata": {},
     "output_type": "display_data"
    },
    {
     "data": {
      "application/vnd.jupyter.widget-view+json": {
       "model_id": "",
       "version_major": 2,
       "version_minor": 0
      },
      "text/plain": [
       "HBox(children=(FloatProgress(value=1.0, bar_style='info', description='Validating', layout=Layout(flex='2'), m…"
      ]
     },
     "metadata": {},
     "output_type": "display_data"
    },
    {
     "data": {
      "application/vnd.jupyter.widget-view+json": {
       "model_id": "",
       "version_major": 2,
       "version_minor": 0
      },
      "text/plain": [
       "HBox(children=(FloatProgress(value=1.0, bar_style='info', description='Validating', layout=Layout(flex='2'), m…"
      ]
     },
     "metadata": {},
     "output_type": "display_data"
    },
    {
     "data": {
      "application/vnd.jupyter.widget-view+json": {
       "model_id": "",
       "version_major": 2,
       "version_minor": 0
      },
      "text/plain": [
       "HBox(children=(FloatProgress(value=1.0, bar_style='info', description='Validating', layout=Layout(flex='2'), m…"
      ]
     },
     "metadata": {},
     "output_type": "display_data"
    },
    {
     "data": {
      "application/vnd.jupyter.widget-view+json": {
       "model_id": "",
       "version_major": 2,
       "version_minor": 0
      },
      "text/plain": [
       "HBox(children=(FloatProgress(value=1.0, bar_style='info', description='Validating', layout=Layout(flex='2'), m…"
      ]
     },
     "metadata": {},
     "output_type": "display_data"
    },
    {
     "data": {
      "application/vnd.jupyter.widget-view+json": {
       "model_id": "",
       "version_major": 2,
       "version_minor": 0
      },
      "text/plain": [
       "HBox(children=(FloatProgress(value=1.0, bar_style='info', description='Validating', layout=Layout(flex='2'), m…"
      ]
     },
     "metadata": {},
     "output_type": "display_data"
    },
    {
     "name": "stdout",
     "output_type": "stream",
     "text": [
      "\n"
     ]
    },
    {
     "data": {
      "text/plain": [
       "1"
      ]
     },
     "execution_count": 14,
     "metadata": {},
     "output_type": "execute_result"
    }
   ],
   "source": [
    "t = pl.Trainer(max_epochs=5, logger=mlf_logger, log_save_interval=1)\n",
    "t.fit(module, data)"
   ]
  },
  {
   "cell_type": "markdown",
   "metadata": {},
   "source": [
    "## Supervised Task\n",
    "\n",
    "Try out the slightly more straightforward supervised task to see if that trains as expected with incendio and/or lightning. Trying to narrow down possible problems."
   ]
  },
  {
   "cell_type": "code",
   "execution_count": 138,
   "metadata": {
    "ExecuteTime": {
     "end_time": "2020-08-15T04:48:43.810353Z",
     "start_time": "2020-08-15T04:48:43.668714Z"
    }
   },
   "outputs": [],
   "source": [
    "x = load_image('data/imagewang-160/train/n01440764/ILSVRC2012_val_00000293.jpeg')\n",
    "x = np.array(x, dtype=np.float32)"
   ]
  },
  {
   "cell_type": "code",
   "execution_count": 330,
   "metadata": {
    "ExecuteTime": {
     "end_time": "2020-08-16T05:33:38.868065Z",
     "start_time": "2020-08-16T05:33:38.801639Z"
    }
   },
   "outputs": [],
   "source": [
    "class SupervisedDataPL(pl.LightningDataModule):\n",
    "    \n",
    "    def __init__(self, root='data/imagewang-160', bs=32, train_tfms=None,\n",
    "                 val_tfms=None, shape=(128, 128)):\n",
    "        \"\"\"\n",
    "        tfms: list[transform]\n",
    "        \"\"\"\n",
    "        self.root = Path(root)\n",
    "        self.bs = bs\n",
    "        self.train_tfms = tv.transforms.Compose(\n",
    "            train_tfms or \n",
    "            [tv.transforms.RandomResizedCrop(shape, (.9, 1.0)), \n",
    "             tv.transforms.RandomHorizontalFlip(),\n",
    "             tv.transforms.RandomRotation(10),\n",
    "             tv.transforms.ToTensor()]\n",
    "        )\n",
    "        self.val_tfms = tv.transforms.Compose(\n",
    "            val_tfms or \n",
    "            [tv.transforms.Resize(shape),\n",
    "             tv.transforms.ToTensor()])\n",
    "        \n",
    "    def setup(self, stage=''):\n",
    "        self.ds_train = ImageFolder(self.root/'train', self.train_tfms)\n",
    "        self.ds_val = ImageFolder(self.root/'val', self.val_tfms)\n",
    "        self.ds_val.classes = self.ds_train.classes\n",
    "        self.ds_val.class_to_idx = self.ds_train.class_to_idx\n",
    "        self.dl_train = DataLoader(self.ds_train, self.bs, shuffle=True)\n",
    "        self.dl_val = DataLoader(self.ds_val, self.bs)\n",
    "        \n",
    "    def train_dataloader(self):\n",
    "        return self.dl_train\n",
    "    \n",
    "    def val_dataloader(self):\n",
    "        return self.dl_val"
   ]
  },
  {
   "cell_type": "code",
   "execution_count": 331,
   "metadata": {
    "ExecuteTime": {
     "end_time": "2020-08-16T05:33:39.482370Z",
     "start_time": "2020-08-16T05:33:39.419833Z"
    }
   },
   "outputs": [],
   "source": [
    "class SupervisedEncoderClassifier(nn.Module):\n",
    "    \n",
    "    def __init__(self, enc=None, enc_out_feat=None, n_classes=20):\n",
    "        super().__init__()\n",
    "        self.n_classes = n_classes\n",
    "        \n",
    "        # Layers\n",
    "        self.enc = enc or Encoder()\n",
    "        self.pool = PoolFlatten('cat')\n",
    "        # Concat pool doubles last feature dimension.\n",
    "        self.fc = nn.Linear(list(self.enc.parameters())[-1].shape[0]*2,\n",
    "                            n_classes)\n",
    "        \n",
    "    def forward(self, x):\n",
    "        x = self.enc(x)\n",
    "        x = self.pool(x)\n",
    "        return self.fc(x).squeeze()"
   ]
  },
  {
   "cell_type": "code",
   "execution_count": 332,
   "metadata": {
    "ExecuteTime": {
     "end_time": "2020-08-16T05:33:40.295397Z",
     "start_time": "2020-08-16T05:33:40.126772Z"
    }
   },
   "outputs": [],
   "source": [
    "sdata = SupervisedDataPL(bs=2)\n",
    "sdata.setup()"
   ]
  },
  {
   "cell_type": "code",
   "execution_count": 333,
   "metadata": {
    "ExecuteTime": {
     "end_time": "2020-08-16T05:33:41.924343Z",
     "start_time": "2020-08-16T05:33:41.849862Z"
    }
   },
   "outputs": [],
   "source": [
    "net = SupervisedEncoderClassifier()"
   ]
  },
  {
   "cell_type": "code",
   "execution_count": 334,
   "metadata": {
    "ExecuteTime": {
     "end_time": "2020-08-16T05:33:42.178426Z",
     "start_time": "2020-08-16T05:33:42.076177Z"
    }
   },
   "outputs": [
    {
     "data": {
      "text/plain": [
       "(torch.Size([2, 3, 128, 128]), torch.Size([2]))"
      ]
     },
     "execution_count": 334,
     "metadata": {},
     "output_type": "execute_result"
    }
   ],
   "source": [
    "x, y = next(iter(sdata.dl_train))\n",
    "x.shape, y.shape"
   ]
  },
  {
   "cell_type": "code",
   "execution_count": 336,
   "metadata": {
    "ExecuteTime": {
     "end_time": "2020-08-16T05:33:50.420253Z",
     "start_time": "2020-08-16T05:33:50.237986Z"
    }
   },
   "outputs": [
    {
     "data": {
      "text/plain": [
       "torch.Size([2, 20])"
      ]
     },
     "execution_count": 336,
     "metadata": {},
     "output_type": "execute_result"
    }
   ],
   "source": [
    "yhat = net(x)\n",
    "yhat.shape"
   ]
  },
  {
   "cell_type": "code",
   "execution_count": 340,
   "metadata": {
    "ExecuteTime": {
     "end_time": "2020-08-16T05:34:21.580235Z",
     "start_time": "2020-08-16T05:34:21.515743Z"
    },
    "scrolled": true
   },
   "outputs": [
    {
     "data": {
      "text/plain": [
       "(torch.float32, torch.int64)"
      ]
     },
     "execution_count": 340,
     "metadata": {},
     "output_type": "execute_result"
    }
   ],
   "source": [
    "yhat.dtype, y.dtype"
   ]
  },
  {
   "cell_type": "code",
   "execution_count": 351,
   "metadata": {
    "ExecuteTime": {
     "end_time": "2020-08-16T05:36:34.353591Z",
     "start_time": "2020-08-16T05:36:34.273734Z"
    }
   },
   "outputs": [],
   "source": [
    "module = UnmixerPL(net, loss=F.cross_entropy)"
   ]
  },
  {
   "cell_type": "code",
   "execution_count": 352,
   "metadata": {
    "ExecuteTime": {
     "end_time": "2020-08-16T05:36:38.184952Z",
     "start_time": "2020-08-16T05:36:36.500114Z"
    }
   },
   "outputs": [
    {
     "name": "stderr",
     "output_type": "stream",
     "text": [
      "GPU available: False, used: False\n",
      "TPU available: False, using: 0 TPU cores\n",
      "\n",
      "  | Name | Type                        | Params\n",
      "-----------------------------------------------------\n",
      "0 | net  | SupervisedEncoderClassifier | 404 K \n"
     ]
    },
    {
     "data": {
      "application/vnd.jupyter.widget-view+json": {
       "model_id": "",
       "version_major": 2,
       "version_minor": 0
      },
      "text/plain": [
       "HBox(children=(FloatProgress(value=1.0, bar_style='info', description='Validation sanity check', layout=Layout…"
      ]
     },
     "metadata": {},
     "output_type": "display_data"
    },
    {
     "name": "stderr",
     "output_type": "stream",
     "text": [
      "/Users/hmamin/anaconda3/lib/python3.7/site-packages/pytorch_lightning/utilities/distributed.py:22: UserWarning: The dataloader, train dataloader, does not have many workers which may be a bottleneck. Consider increasing the value of the `num_workers` argument` (try 4 which is the number of cpus on this machine) in the `DataLoader` init to improve performance.\n",
      "  warnings.warn(*args, **kwargs)\n"
     ]
    },
    {
     "data": {
      "application/vnd.jupyter.widget-view+json": {
       "model_id": "410dba6749804592b0252b8b40ce75e4",
       "version_major": 2,
       "version_minor": 0
      },
      "text/plain": [
       "HBox(children=(FloatProgress(value=1.0, bar_style='info', description='Training', layout=Layout(flex='2'), max…"
      ]
     },
     "metadata": {},
     "output_type": "display_data"
    },
    {
     "data": {
      "application/vnd.jupyter.widget-view+json": {
       "model_id": "",
       "version_major": 2,
       "version_minor": 0
      },
      "text/plain": [
       "HBox(children=(FloatProgress(value=1.0, bar_style='info', description='Validating', layout=Layout(flex='2'), m…"
      ]
     },
     "metadata": {},
     "output_type": "display_data"
    },
    {
     "data": {
      "application/vnd.jupyter.widget-view+json": {
       "model_id": "",
       "version_major": 2,
       "version_minor": 0
      },
      "text/plain": [
       "HBox(children=(FloatProgress(value=1.0, bar_style='info', description='Validating', layout=Layout(flex='2'), m…"
      ]
     },
     "metadata": {},
     "output_type": "display_data"
    },
    {
     "data": {
      "application/vnd.jupyter.widget-view+json": {
       "model_id": "",
       "version_major": 2,
       "version_minor": 0
      },
      "text/plain": [
       "HBox(children=(FloatProgress(value=1.0, bar_style='info', description='Validating', layout=Layout(flex='2'), m…"
      ]
     },
     "metadata": {},
     "output_type": "display_data"
    },
    {
     "data": {
      "application/vnd.jupyter.widget-view+json": {
       "model_id": "",
       "version_major": 2,
       "version_minor": 0
      },
      "text/plain": [
       "HBox(children=(FloatProgress(value=1.0, bar_style='info', description='Validating', layout=Layout(flex='2'), m…"
      ]
     },
     "metadata": {},
     "output_type": "display_data"
    },
    {
     "data": {
      "application/vnd.jupyter.widget-view+json": {
       "model_id": "",
       "version_major": 2,
       "version_minor": 0
      },
      "text/plain": [
       "HBox(children=(FloatProgress(value=1.0, bar_style='info', description='Validating', layout=Layout(flex='2'), m…"
      ]
     },
     "metadata": {},
     "output_type": "display_data"
    },
    {
     "name": "stdout",
     "output_type": "stream",
     "text": [
      "\n"
     ]
    },
    {
     "data": {
      "text/plain": [
       "1"
      ]
     },
     "execution_count": 352,
     "metadata": {},
     "output_type": "execute_result"
    }
   ],
   "source": [
    "t = pl.Trainer(max_epochs=5, overfit_batches=1)\n",
    "t.fit(module, sdata)"
   ]
  },
  {
   "cell_type": "code",
   "execution_count": 355,
   "metadata": {
    "ExecuteTime": {
     "end_time": "2020-08-16T05:36:53.571455Z",
     "start_time": "2020-08-16T05:36:53.276145Z"
    }
   },
   "outputs": [
    {
     "data": {
      "text/plain": [
       "<matplotlib.axes._subplots.AxesSubplot at 0x1a4b1a2748>"
      ]
     },
     "execution_count": 355,
     "metadata": {},
     "output_type": "execute_result"
    },
    {
     "data": {
      "image/png": "[encoded data removed]",
      "text/plain": [
       "<Figure size 288x288 with 1 Axes>"
      ]
     },
     "metadata": {
      "needs_background": "light"
     },
     "output_type": "display_data"
    }
   ],
   "source": [
    "show_image(x[0])"
   ]
  },
  {
   "cell_type": "code",
   "execution_count": 356,
   "metadata": {
    "ExecuteTime": {
     "end_time": "2020-08-16T05:37:22.835376Z",
     "start_time": "2020-08-16T05:37:22.725338Z"
    }
   },
   "outputs": [],
   "source": [
    "with torch.no_grad():\n",
    "    yhat = net(x)"
   ]
  },
  {
   "cell_type": "code",
   "execution_count": 360,
   "metadata": {
    "ExecuteTime": {
     "end_time": "2020-08-16T05:38:00.945208Z",
     "start_time": "2020-08-16T05:38:00.863965Z"
    }
   },
   "outputs": [
    {
     "data": {
      "text/plain": [
       "tensor([18, 18])"
      ]
     },
     "execution_count": 360,
     "metadata": {},
     "output_type": "execute_result"
    }
   ],
   "source": [
    "F.softmax(yhat, dim=-1).argmax(-1)"
   ]
  },
  {
   "cell_type": "code",
   "execution_count": 361,
   "metadata": {
    "ExecuteTime": {
     "end_time": "2020-08-16T05:38:10.836184Z",
     "start_time": "2020-08-16T05:38:10.741818Z"
    }
   },
   "outputs": [
    {
     "data": {
      "text/plain": [
       "tensor([0, 0])"
      ]
     },
     "execution_count": 361,
     "metadata": {},
     "output_type": "execute_result"
    }
   ],
   "source": [
    "y"
   ]
  },
  {
   "cell_type": "markdown",
   "metadata": {},
   "source": [
    "## Incendio\n",
    "\n",
    "Supervised problem. Finally works on small subset!"
   ]
  },
  {
   "cell_type": "code",
   "execution_count": 4,
   "metadata": {
    "ExecuteTime": {
     "end_time": "2020-08-17T04:11:54.177392Z",
     "start_time": "2020-08-17T04:11:54.079238Z"
    }
   },
   "outputs": [],
   "source": [
    "from copy import copy\n",
    "\n",
    "from incendio.core import Trainer"
   ]
  },
  {
   "cell_type": "code",
   "execution_count": 434,
   "metadata": {
    "ExecuteTime": {
     "end_time": "2020-08-16T06:12:42.311085Z",
     "start_time": "2020-08-16T06:12:42.199296Z"
    }
   },
   "outputs": [],
   "source": [
    "def ds_subset(ds, n, random=False, attr='samples'):\n",
    "    ds = copy(ds)\n",
    "    samples = getattr(ds, attr)\n",
    "    setattr(ds, attr, [samples[i] for i in np.random.randint(0, len(ds), n)] \\\n",
    "            if random else samples[:n])\n",
    "    return ds"
   ]
  },
  {
   "cell_type": "code",
   "execution_count": 437,
   "metadata": {
    "ExecuteTime": {
     "end_time": "2020-08-16T06:14:45.544330Z",
     "start_time": "2020-08-16T06:14:45.440633Z"
    }
   },
   "outputs": [
    {
     "data": {
      "text/plain": [
       "Dataset ImageFolder\n",
       "    Number of datapoints: 40\n",
       "    Root location: data/imagewang-160/train\n",
       "    StandardTransform\n",
       "Transform: Compose(\n",
       "               RandomResizedCrop(size=(128, 128), scale=(0.9, 1.0), ratio=(0.75, 1.3333), interpolation=PIL.Image.BILINEAR)\n",
       "               RandomHorizontalFlip(p=0.5)\n",
       "               RandomRotation(degrees=(-10, 10), resample=False, expand=False)\n",
       "               ToTensor()\n",
       "           )"
      ]
     },
     "execution_count": 437,
     "metadata": {},
     "output_type": "execute_result"
    }
   ],
   "source": [
    "dst = ds_subset(sdata.ds_train, 40, True)\n",
    "dsv = ds_subset(sdata.ds_val, 4, True)\n",
    "dst"
   ]
  },
  {
   "cell_type": "code",
   "execution_count": 438,
   "metadata": {
    "ExecuteTime": {
     "end_time": "2020-08-16T06:15:08.072704Z",
     "start_time": "2020-08-16T06:15:07.975589Z"
    }
   },
   "outputs": [],
   "source": [
    "train_bs, val_bs = 8, 4\n",
    "# No shuffling for debugging purposes.\n",
    "dlt = DataLoader(dst, batch_size=train_bs, shuffle=False)\n",
    "dlv = DataLoader(dsv, batch_size=val_bs, shuffle=False)"
   ]
  },
  {
   "cell_type": "code",
   "execution_count": 439,
   "metadata": {
    "ExecuteTime": {
     "end_time": "2020-08-16T06:15:10.234350Z",
     "start_time": "2020-08-16T06:15:10.033059Z"
    }
   },
   "outputs": [
    {
     "name": "stdout",
     "output_type": "stream",
     "text": [
      "[torch.Size([8, 3, 128, 128]), torch.Size([8])] tensor([14, 15,  8, 17, 14,  0,  1,  8])\n",
      "[torch.Size([8, 3, 128, 128]), torch.Size([8])] tensor([16, 15,  8, 14, 14, 12, 14, 13])\n",
      "[torch.Size([8, 3, 128, 128]), torch.Size([8])] tensor([ 8, 13, 18,  8,  8, 15, 13,  0])\n",
      "[torch.Size([8, 3, 128, 128]), torch.Size([8])] tensor([18, 16, 15, 18, 11, 14, 14, 15])\n",
      "[torch.Size([8, 3, 128, 128]), torch.Size([8])] tensor([10, 17, 15, 15, 12,  0, 14, 14])\n"
     ]
    }
   ],
   "source": [
    "for *x, y in dlt:\n",
    "    print(smap(*x, y), y)"
   ]
  },
  {
   "cell_type": "code",
   "execution_count": 440,
   "metadata": {
    "ExecuteTime": {
     "end_time": "2020-08-16T06:15:16.678588Z",
     "start_time": "2020-08-16T06:15:16.617291Z"
    }
   },
   "outputs": [],
   "source": [
    "net = SupervisedEncoderClassifier()"
   ]
  },
  {
   "cell_type": "code",
   "execution_count": 441,
   "metadata": {
    "ExecuteTime": {
     "end_time": "2020-08-16T06:15:17.062779Z",
     "start_time": "2020-08-16T06:15:17.002246Z"
    }
   },
   "outputs": [],
   "source": [
    "t = Trainer(net, dst, dsv, dlt, dlv, F.cross_entropy, 'multiclass', \n",
    "            'data/models/v0')"
   ]
  },
  {
   "cell_type": "code",
   "execution_count": 442,
   "metadata": {
    "ExecuteTime": {
     "end_time": "2020-08-16T06:15:39.828745Z",
     "start_time": "2020-08-16T06:15:18.604079Z"
    }
   },
   "outputs": [
    {
     "name": "stdout",
     "output_type": "stream",
     "text": [
      "2020-08-15 23:15:18,657 [INFO]: Adam (\n",
      "Parameter Group 0\n",
      "    amsgrad: False\n",
      "    betas: (0.9, 0.999)\n",
      "    eps: 0.001\n",
      "    lr: 0.003\n",
      "    weight_decay: 0\n",
      ")\n"
     ]
    },
    {
     "data": {
      "application/vnd.jupyter.widget-view+json": {
       "model_id": "80a3f2be39174fe09230606c72ad1dd0",
       "version_major": 2,
       "version_minor": 0
      },
      "text/plain": [
       "HBox(children=(FloatProgress(value=0.0, max=5.0), HTML(value='')))"
      ]
     },
     "metadata": {},
     "output_type": "display_data"
    },
    {
     "name": "stdout",
     "output_type": "stream",
     "text": [
      "\n"
     ]
    },
    {
     "data": {
      "application/vnd.jupyter.widget-view+json": {
       "model_id": "c088cc14dc3040bcae8166cd815fea02",
       "version_major": 2,
       "version_minor": 0
      },
      "text/plain": [
       "HBox(children=(FloatProgress(value=0.0, max=1.0), HTML(value='')))"
      ]
     },
     "metadata": {},
     "output_type": "display_data"
    },
    {
     "name": "stdout",
     "output_type": "stream",
     "text": [
      "\n",
      "\n",
      "2020-08-15 23:15:20,367\n",
      " \n",
      "=====\n",
      "\n",
      "Epoch 0\n",
      "\n",
      "| Metric   |   Train |   Validation |\n",
      "|----------|---------|--------------|\n",
      "| loss     |  3.5978 |       3.0423 |\n",
      "\n",
      "=====\n"
     ]
    },
    {
     "data": {
      "application/vnd.jupyter.widget-view+json": {
       "model_id": "3bbcbe4f039342bbae1d5e04279db612",
       "version_major": 2,
       "version_minor": 0
      },
      "text/plain": [
       "HBox(children=(FloatProgress(value=0.0, max=5.0), HTML(value='')))"
      ]
     },
     "metadata": {},
     "output_type": "display_data"
    },
    {
     "name": "stdout",
     "output_type": "stream",
     "text": [
      "\n"
     ]
    },
    {
     "data": {
      "application/vnd.jupyter.widget-view+json": {
       "model_id": "653a1fd5562f4fb9891a21120732363b",
       "version_major": 2,
       "version_minor": 0
      },
      "text/plain": [
       "HBox(children=(FloatProgress(value=0.0, max=1.0), HTML(value='')))"
      ]
     },
     "metadata": {},
     "output_type": "display_data"
    },
    {
     "name": "stdout",
     "output_type": "stream",
     "text": [
      "\n",
      "\n",
      "2020-08-15 23:15:22,601\n",
      " \n",
      "=====\n",
      "\n",
      "Epoch 1\n",
      "\n",
      "| Metric   |   Train |   Validation |\n",
      "|----------|---------|--------------|\n",
      "| loss     |  2.0457 |       4.7251 |\n",
      "\n",
      "=====\n"
     ]
    },
    {
     "data": {
      "application/vnd.jupyter.widget-view+json": {
       "model_id": "6f3cb7d8eede48729e503fcb339f0723",
       "version_major": 2,
       "version_minor": 0
      },
      "text/plain": [
       "HBox(children=(FloatProgress(value=0.0, max=5.0), HTML(value='')))"
      ]
     },
     "metadata": {},
     "output_type": "display_data"
    },
    {
     "name": "stdout",
     "output_type": "stream",
     "text": [
      "\n"
     ]
    },
    {
     "data": {
      "application/vnd.jupyter.widget-view+json": {
       "model_id": "30c5c8efeb62471ba797dccba0753a48",
       "version_major": 2,
       "version_minor": 0
      },
      "text/plain": [
       "HBox(children=(FloatProgress(value=0.0, max=1.0), HTML(value='')))"
      ]
     },
     "metadata": {},
     "output_type": "display_data"
    },
    {
     "name": "stdout",
     "output_type": "stream",
     "text": [
      "\n",
      "\n",
      "2020-08-15 23:15:24,867\n",
      " \n",
      "=====\n",
      "\n",
      "Epoch 2\n",
      "\n",
      "| Metric   |   Train |   Validation |\n",
      "|----------|---------|--------------|\n",
      "| loss     |  1.5868 |       5.0436 |\n",
      "\n",
      "=====\n"
     ]
    },
    {
     "data": {
      "application/vnd.jupyter.widget-view+json": {
       "model_id": "96eb4faaeccd4a78b7ce161f161d03bd",
       "version_major": 2,
       "version_minor": 0
      },
      "text/plain": [
       "HBox(children=(FloatProgress(value=0.0, max=5.0), HTML(value='')))"
      ]
     },
     "metadata": {},
     "output_type": "display_data"
    },
    {
     "name": "stdout",
     "output_type": "stream",
     "text": [
      "\n"
     ]
    },
    {
     "data": {
      "application/vnd.jupyter.widget-view+json": {
       "model_id": "4efb9631ee7d459582dbe52a26fedb47",
       "version_major": 2,
       "version_minor": 0
      },
      "text/plain": [
       "HBox(children=(FloatProgress(value=0.0, max=1.0), HTML(value='')))"
      ]
     },
     "metadata": {},
     "output_type": "display_data"
    },
    {
     "name": "stdout",
     "output_type": "stream",
     "text": [
      "\n",
      "\n",
      "2020-08-15 23:15:27,515\n",
      " \n",
      "=====\n",
      "\n",
      "Epoch 3\n",
      "\n",
      "| Metric   |   Train |   Validation |\n",
      "|----------|---------|--------------|\n",
      "| loss     |  1.3469 |       4.7424 |\n",
      "\n",
      "=====\n"
     ]
    },
    {
     "data": {
      "application/vnd.jupyter.widget-view+json": {
       "model_id": "6e0a84109a074e049f42513c21f4bf71",
       "version_major": 2,
       "version_minor": 0
      },
      "text/plain": [
       "HBox(children=(FloatProgress(value=0.0, max=5.0), HTML(value='')))"
      ]
     },
     "metadata": {},
     "output_type": "display_data"
    },
    {
     "name": "stdout",
     "output_type": "stream",
     "text": [
      "\n"
     ]
    },
    {
     "data": {
      "application/vnd.jupyter.widget-view+json": {
       "model_id": "0835ecfeb2ab4160b40a195ac41de3bc",
       "version_major": 2,
       "version_minor": 0
      },
      "text/plain": [
       "HBox(children=(FloatProgress(value=0.0, max=1.0), HTML(value='')))"
      ]
     },
     "metadata": {},
     "output_type": "display_data"
    },
    {
     "name": "stdout",
     "output_type": "stream",
     "text": [
      "\n",
      "\n",
      "2020-08-15 23:15:29,797\n",
      " \n",
      "=====\n",
      "\n",
      "Epoch 4\n",
      "\n",
      "| Metric   |   Train |   Validation |\n",
      "|----------|---------|--------------|\n",
      "| loss     |  1.1580 |       4.7005 |\n",
      "\n",
      "=====\n"
     ]
    },
    {
     "data": {
      "application/vnd.jupyter.widget-view+json": {
       "model_id": "90d8b2490af24d878cd4d58123d1cee0",
       "version_major": 2,
       "version_minor": 0
      },
      "text/plain": [
       "HBox(children=(FloatProgress(value=0.0, max=5.0), HTML(value='')))"
      ]
     },
     "metadata": {},
     "output_type": "display_data"
    },
    {
     "name": "stdout",
     "output_type": "stream",
     "text": [
      "\n"
     ]
    },
    {
     "data": {
      "application/vnd.jupyter.widget-view+json": {
       "model_id": "796c74ec76604c45ae2bff6432411e0b",
       "version_major": 2,
       "version_minor": 0
      },
      "text/plain": [
       "HBox(children=(FloatProgress(value=0.0, max=1.0), HTML(value='')))"
      ]
     },
     "metadata": {},
     "output_type": "display_data"
    },
    {
     "name": "stdout",
     "output_type": "stream",
     "text": [
      "\n",
      "\n",
      "2020-08-15 23:15:31,752\n",
      " \n",
      "=====\n",
      "\n",
      "Epoch 5\n",
      "\n",
      "| Metric   |   Train |   Validation |\n",
      "|----------|---------|--------------|\n",
      "| loss     |  1.0070 |       5.0885 |\n",
      "\n",
      "=====\n"
     ]
    },
    {
     "data": {
      "application/vnd.jupyter.widget-view+json": {
       "model_id": "aa3a197c9669443397897a4aac9fc086",
       "version_major": 2,
       "version_minor": 0
      },
      "text/plain": [
       "HBox(children=(FloatProgress(value=0.0, max=5.0), HTML(value='')))"
      ]
     },
     "metadata": {},
     "output_type": "display_data"
    },
    {
     "name": "stdout",
     "output_type": "stream",
     "text": [
      "\n"
     ]
    },
    {
     "data": {
      "application/vnd.jupyter.widget-view+json": {
       "model_id": "16df5c91ce83409dbc67730b48823c85",
       "version_major": 2,
       "version_minor": 0
      },
      "text/plain": [
       "HBox(children=(FloatProgress(value=0.0, max=1.0), HTML(value='')))"
      ]
     },
     "metadata": {},
     "output_type": "display_data"
    },
    {
     "name": "stdout",
     "output_type": "stream",
     "text": [
      "\n",
      "\n",
      "2020-08-15 23:15:33,580\n",
      " \n",
      "=====\n",
      "\n",
      "Epoch 6\n",
      "\n",
      "| Metric   |   Train |   Validation |\n",
      "|----------|---------|--------------|\n",
      "| loss     |  0.7909 |       4.7962 |\n",
      "\n",
      "=====\n"
     ]
    },
    {
     "data": {
      "application/vnd.jupyter.widget-view+json": {
       "model_id": "b20e6d39273c4ccbab84fec8a04f9169",
       "version_major": 2,
       "version_minor": 0
      },
      "text/plain": [
       "HBox(children=(FloatProgress(value=0.0, max=5.0), HTML(value='')))"
      ]
     },
     "metadata": {},
     "output_type": "display_data"
    },
    {
     "name": "stdout",
     "output_type": "stream",
     "text": [
      "\n"
     ]
    },
    {
     "data": {
      "application/vnd.jupyter.widget-view+json": {
       "model_id": "888e020749c54a1eb32595194b57e144",
       "version_major": 2,
       "version_minor": 0
      },
      "text/plain": [
       "HBox(children=(FloatProgress(value=0.0, max=1.0), HTML(value='')))"
      ]
     },
     "metadata": {},
     "output_type": "display_data"
    },
    {
     "name": "stdout",
     "output_type": "stream",
     "text": [
      "\n",
      "\n",
      "2020-08-15 23:15:35,467\n",
      " \n",
      "=====\n",
      "\n",
      "Epoch 7\n",
      "\n",
      "| Metric   |   Train |   Validation |\n",
      "|----------|---------|--------------|\n",
      "| loss     |  0.7043 |       4.5786 |\n",
      "\n",
      "=====\n"
     ]
    },
    {
     "data": {
      "application/vnd.jupyter.widget-view+json": {
       "model_id": "d8cac2fabea941498d15d5d99567408d",
       "version_major": 2,
       "version_minor": 0
      },
      "text/plain": [
       "HBox(children=(FloatProgress(value=0.0, max=5.0), HTML(value='')))"
      ]
     },
     "metadata": {},
     "output_type": "display_data"
    },
    {
     "name": "stdout",
     "output_type": "stream",
     "text": [
      "\n"
     ]
    },
    {
     "data": {
      "application/vnd.jupyter.widget-view+json": {
       "model_id": "a3e494e8384e40bf97c9559060cbb1d0",
       "version_major": 2,
       "version_minor": 0
      },
      "text/plain": [
       "HBox(children=(FloatProgress(value=0.0, max=1.0), HTML(value='')))"
      ]
     },
     "metadata": {},
     "output_type": "display_data"
    },
    {
     "name": "stdout",
     "output_type": "stream",
     "text": [
      "\n",
      "\n",
      "2020-08-15 23:15:37,684\n",
      " \n",
      "=====\n",
      "\n",
      "Epoch 8\n",
      "\n",
      "| Metric   |   Train |   Validation |\n",
      "|----------|---------|--------------|\n",
      "| loss     |  0.5834 |       6.2987 |\n",
      "\n",
      "=====\n"
     ]
    },
    {
     "data": {
      "application/vnd.jupyter.widget-view+json": {
       "model_id": "dc3f388808754d739b65f22020b585b4",
       "version_major": 2,
       "version_minor": 0
      },
      "text/plain": [
       "HBox(children=(FloatProgress(value=0.0, max=5.0), HTML(value='')))"
      ]
     },
     "metadata": {},
     "output_type": "display_data"
    },
    {
     "name": "stdout",
     "output_type": "stream",
     "text": [
      "\n"
     ]
    },
    {
     "data": {
      "application/vnd.jupyter.widget-view+json": {
       "model_id": "838b188a463246b09e23a01b92ab5a11",
       "version_major": 2,
       "version_minor": 0
      },
      "text/plain": [
       "HBox(children=(FloatProgress(value=0.0, max=1.0), HTML(value='')))"
      ]
     },
     "metadata": {},
     "output_type": "display_data"
    },
    {
     "name": "stdout",
     "output_type": "stream",
     "text": [
      "\n",
      "\n",
      "2020-08-15 23:15:39,805\n",
      " \n",
      "=====\n",
      "\n",
      "Epoch 9\n",
      "\n",
      "| Metric   |   Train |   Validation |\n",
      "|----------|---------|--------------|\n",
      "| loss     |  0.5468 |       5.8891 |\n",
      "\n",
      "=====\n",
      "\n",
      "2020-08-15 23:15:39,820\n",
      " Training complete. Model in eval mode.\n"
     ]
    }
   ],
   "source": [
    "t.fit(10)"
   ]
  },
  {
   "cell_type": "code",
   "execution_count": 443,
   "metadata": {
    "ExecuteTime": {
     "end_time": "2020-08-16T06:15:45.491068Z",
     "start_time": "2020-08-16T06:15:45.382078Z"
    }
   },
   "outputs": [
    {
     "data": {
      "text/plain": [
       "[torch.Size([8, 3, 128, 128]), torch.Size([8])]"
      ]
     },
     "execution_count": 443,
     "metadata": {},
     "output_type": "execute_result"
    }
   ],
   "source": [
    "*x, y = next(iter(dlt))\n",
    "smap(*x, y)"
   ]
  },
  {
   "cell_type": "code",
   "execution_count": 444,
   "metadata": {
    "ExecuteTime": {
     "end_time": "2020-08-16T06:15:47.280836Z",
     "start_time": "2020-08-16T06:15:47.203185Z"
    }
   },
   "outputs": [
    {
     "data": {
      "text/plain": [
       "tensor([14, 15,  8, 17, 14,  0,  1,  8])"
      ]
     },
     "execution_count": 444,
     "metadata": {},
     "output_type": "execute_result"
    }
   ],
   "source": [
    "y"
   ]
  },
  {
   "cell_type": "code",
   "execution_count": 446,
   "metadata": {
    "ExecuteTime": {
     "end_time": "2020-08-16T06:16:16.624306Z",
     "start_time": "2020-08-16T06:16:16.396984Z"
    }
   },
   "outputs": [
    {
     "data": {
      "text/plain": [
       "tensor([14, 15, 18, 15, 14,  0, 12,  8])"
      ]
     },
     "execution_count": 446,
     "metadata": {},
     "output_type": "execute_result"
    }
   ],
   "source": [
    "F.softmax(net(*x), dim=-1).argmax(-1)"
   ]
  },
  {
   "cell_type": "code",
   "execution_count": 447,
   "metadata": {
    "ExecuteTime": {
     "end_time": "2020-08-16T06:16:20.445031Z",
     "start_time": "2020-08-16T06:16:20.244864Z"
    }
   },
   "outputs": [
    {
     "data": {
      "text/plain": [
       "tensor(1.0842, grad_fn=<NllLossBackward>)"
      ]
     },
     "execution_count": 447,
     "metadata": {},
     "output_type": "execute_result"
    }
   ],
   "source": [
    "F.cross_entropy(net(*x), y)"
   ]
  },
  {
   "cell_type": "markdown",
   "metadata": {},
   "source": [
    "## Incendio - Unsupervised Scale Dataset (multi-label classification)\n",
    "\n",
    "Use new classification mode to try out scale dataset unsupervised task."
   ]
  },
  {
   "cell_type": "code",
   "execution_count": 5,
   "metadata": {
    "ExecuteTime": {
     "end_time": "2020-08-17T04:12:08.929864Z",
     "start_time": "2020-08-17T04:12:08.805288Z"
    }
   },
   "outputs": [],
   "source": [
    "from img_wang.models import MLPHead\n",
    "from incendio.callbacks import MetricHistory"
   ]
  },
  {
   "cell_type": "code",
   "execution_count": 6,
   "metadata": {
    "ExecuteTime": {
     "end_time": "2020-08-17T04:12:09.546276Z",
     "start_time": "2020-08-17T04:12:09.329738Z"
    }
   },
   "outputs": [
    {
     "data": {
      "text/plain": [
       "[3, 3, 1, 1]"
      ]
     },
     "execution_count": 6,
     "metadata": {},
     "output_type": "execute_result"
    }
   ],
   "source": [
    "dst, dsv, dlt, dlv = get_databunch('data/imagewang-160/unsup', mode='scale', \n",
    "                                   bs=3, train_pct=.5, max_train_len=3,\n",
    "                                   max_val_len=3, regression=False)\n",
    "lmap(len, dst, dsv, dlt, dlv)"
   ]
  },
  {
   "cell_type": "code",
   "execution_count": 9,
   "metadata": {
    "ExecuteTime": {
     "end_time": "2020-08-17T04:12:15.850348Z",
     "start_time": "2020-08-17T04:12:15.772251Z"
    }
   },
   "outputs": [
    {
     "data": {
      "text/plain": [
       "[torch.Size([3, 128, 128]),\n",
       " torch.Size([3, 128, 128]),\n",
       " torch.Size([3, 128, 128]),\n",
       " torch.Size([3, 128, 128]),\n",
       " torch.Size([3])]"
      ]
     },
     "execution_count": 9,
     "metadata": {},
     "output_type": "execute_result"
    }
   ],
   "source": [
    "*x, y = dst[0]\n",
    "smap(*x, y)"
   ]
  },
  {
   "cell_type": "code",
   "execution_count": 12,
   "metadata": {
    "ExecuteTime": {
     "end_time": "2020-08-17T04:12:47.590667Z",
     "start_time": "2020-08-17T04:12:47.185485Z"
    }
   },
   "outputs": [
    {
     "data": {
      "image/png": "[encoded data removed]",
      "text/plain": [
       "<Figure size 864x216 with 4 Axes>"
      ]
     },
     "metadata": {
      "needs_background": "light"
     },
     "output_type": "display_data"
    }
   ],
   "source": [
    "show_images(x, titles=['raw']+y.tolist())"
   ]
  },
  {
   "cell_type": "code",
   "execution_count": 14,
   "metadata": {
    "ExecuteTime": {
     "end_time": "2020-08-17T04:12:58.647073Z",
     "start_time": "2020-08-17T04:12:58.541361Z"
    }
   },
   "outputs": [
    {
     "data": {
      "text/plain": [
       "[torch.Size([3, 3, 128, 128]),\n",
       " torch.Size([3, 3, 128, 128]),\n",
       " torch.Size([3, 3, 128, 128]),\n",
       " torch.Size([3, 3, 128, 128]),\n",
       " torch.Size([3, 3])]"
      ]
     },
     "execution_count": 14,
     "metadata": {},
     "output_type": "execute_result"
    }
   ],
   "source": [
    "*xb, yb = next(iter(dlt))\n",
    "smap(*xb, yb)"
   ]
  },
  {
   "cell_type": "code",
   "execution_count": 22,
   "metadata": {
    "ExecuteTime": {
     "end_time": "2020-08-17T04:18:26.785269Z",
     "start_time": "2020-08-17T04:18:26.609856Z"
    }
   },
   "outputs": [
    {
     "name": "stderr",
     "output_type": "stream",
     "text": [
      "/Users/hmamin/img_wang/lib/img_wang/models.py:95: UserWarning: Temperature is ignored when using sigmoid.\n",
      "  warnings.warn('Temperature is ignored when using sigmoid.')\n"
     ]
    }
   ],
   "source": [
    "net = Unmixer(\n",
    "    Encoder(fs=(8, 32), strides=(1, 1)),\n",
    "    MLPHead(64, last_act=None)\n",
    ")"
   ]
  },
  {
   "cell_type": "code",
   "execution_count": 23,
   "metadata": {
    "ExecuteTime": {
     "end_time": "2020-08-17T04:18:31.797374Z",
     "start_time": "2020-08-17T04:18:31.477493Z"
    }
   },
   "outputs": [
    {
     "data": {
      "text/plain": [
       "tensor([[ 3.4618,  3.4337, -0.3607],\n",
       "        [-0.3456, -0.5568,  1.4385],\n",
       "        [ 2.1709,  1.6732, -0.2051]], grad_fn=<SqueezeBackward1>)"
      ]
     },
     "execution_count": 23,
     "metadata": {},
     "output_type": "execute_result"
    }
   ],
   "source": [
    "net(*xb)"
   ]
  },
  {
   "cell_type": "code",
   "execution_count": 24,
   "metadata": {
    "ExecuteTime": {
     "end_time": "2020-08-17T04:18:38.209654Z",
     "start_time": "2020-08-17T04:18:38.141881Z"
    }
   },
   "outputs": [],
   "source": [
    "t = Trainer(net, dst, dsv, dlt, dlv, F.binary_cross_entropy_with_logits,\n",
    "            'binary', 'data/models/v0', callbacks=[MetricHistory()])"
   ]
  },
  {
   "cell_type": "code",
   "execution_count": 25,
   "metadata": {
    "ExecuteTime": {
     "end_time": "2020-08-17T04:18:58.122811Z",
     "start_time": "2020-08-17T04:18:40.556148Z"
    }
   },
   "outputs": [
    {
     "name": "stdout",
     "output_type": "stream",
     "text": [
      "2020-08-16 21:18:40,673 [INFO]: Adam (\n",
      "Parameter Group 0\n",
      "    amsgrad: False\n",
      "    betas: (0.9, 0.999)\n",
      "    eps: 0.001\n",
      "    lr: 0.003\n",
      "    weight_decay: 0\n",
      ")\n"
     ]
    },
    {
     "data": {
      "application/vnd.jupyter.widget-view+json": {
       "model_id": "a32eae6fbe58450681b1ee309056c2f0",
       "version_major": 2,
       "version_minor": 0
      },
      "text/plain": [
       "HBox(children=(FloatProgress(value=0.0, max=1.0), HTML(value='')))"
      ]
     },
     "metadata": {},
     "output_type": "display_data"
    },
    {
     "name": "stdout",
     "output_type": "stream",
     "text": [
      "\n"
     ]
    },
    {
     "data": {
      "application/vnd.jupyter.widget-view+json": {
       "model_id": "adf84cf991bb464dbe54a29a95ceb329",
       "version_major": 2,
       "version_minor": 0
      },
      "text/plain": [
       "HBox(children=(FloatProgress(value=0.0, max=1.0), HTML(value='')))"
      ]
     },
     "metadata": {},
     "output_type": "display_data"
    },
    {
     "name": "stdout",
     "output_type": "stream",
     "text": [
      "\n",
      "\n",
      "2020-08-16 21:18:41,974\n",
      " \n",
      "=====\n",
      "\n",
      "Epoch 0\n",
      "\n",
      "| Metric   |   Train |   Validation |\n",
      "|----------|---------|--------------|\n",
      "| loss     |  0.3153 |       0.6926 |\n",
      "\n",
      "=====\n"
     ]
    },
    {
     "data": {
      "application/vnd.jupyter.widget-view+json": {
       "model_id": "929c2f0577cc4381beb8b285e366c384",
       "version_major": 2,
       "version_minor": 0
      },
      "text/plain": [
       "HBox(children=(FloatProgress(value=0.0, max=1.0), HTML(value='')))"
      ]
     },
     "metadata": {},
     "output_type": "display_data"
    },
    {
     "name": "stdout",
     "output_type": "stream",
     "text": [
      "\n"
     ]
    },
    {
     "data": {
      "application/vnd.jupyter.widget-view+json": {
       "model_id": "14e08c47f44048b48e72f39e38a4dce7",
       "version_major": 2,
       "version_minor": 0
      },
      "text/plain": [
       "HBox(children=(FloatProgress(value=0.0, max=1.0), HTML(value='')))"
      ]
     },
     "metadata": {},
     "output_type": "display_data"
    },
    {
     "name": "stdout",
     "output_type": "stream",
     "text": [
      "\n",
      "\n",
      "2020-08-16 21:18:43,341\n",
      " \n",
      "=====\n",
      "\n",
      "Epoch 1\n",
      "\n",
      "| Metric   |   Train |   Validation |\n",
      "|----------|---------|--------------|\n",
      "| loss     |  0.1622 |       0.6823 |\n",
      "\n",
      "=====\n"
     ]
    },
    {
     "data": {
      "application/vnd.jupyter.widget-view+json": {
       "model_id": "7c954ce860a14ce88d4334d78d6c37e8",
       "version_major": 2,
       "version_minor": 0
      },
      "text/plain": [
       "HBox(children=(FloatProgress(value=0.0, max=1.0), HTML(value='')))"
      ]
     },
     "metadata": {},
     "output_type": "display_data"
    },
    {
     "name": "stdout",
     "output_type": "stream",
     "text": [
      "\n"
     ]
    },
    {
     "data": {
      "application/vnd.jupyter.widget-view+json": {
       "model_id": "b4550c0244a24796bb20dda9f568b49c",
       "version_major": 2,
       "version_minor": 0
      },
      "text/plain": [
       "HBox(children=(FloatProgress(value=0.0, max=1.0), HTML(value='')))"
      ]
     },
     "metadata": {},
     "output_type": "display_data"
    },
    {
     "name": "stdout",
     "output_type": "stream",
     "text": [
      "\n",
      "\n",
      "2020-08-16 21:18:45,412\n",
      " \n",
      "=====\n",
      "\n",
      "Epoch 2\n",
      "\n",
      "| Metric   |   Train |   Validation |\n",
      "|----------|---------|--------------|\n",
      "| loss     |  0.1005 |       0.6528 |\n",
      "\n",
      "=====\n"
     ]
    },
    {
     "data": {
      "application/vnd.jupyter.widget-view+json": {
       "model_id": "fb18d84ee14544c2a6b0d4fff00b6ffe",
       "version_major": 2,
       "version_minor": 0
      },
      "text/plain": [
       "HBox(children=(FloatProgress(value=0.0, max=1.0), HTML(value='')))"
      ]
     },
     "metadata": {},
     "output_type": "display_data"
    },
    {
     "name": "stdout",
     "output_type": "stream",
     "text": [
      "\n"
     ]
    },
    {
     "data": {
      "application/vnd.jupyter.widget-view+json": {
       "model_id": "3a98ce87eddf4a15a16f85be1d259c5a",
       "version_major": 2,
       "version_minor": 0
      },
      "text/plain": [
       "HBox(children=(FloatProgress(value=0.0, max=1.0), HTML(value='')))"
      ]
     },
     "metadata": {},
     "output_type": "display_data"
    },
    {
     "name": "stdout",
     "output_type": "stream",
     "text": [
      "\n",
      "\n",
      "2020-08-16 21:18:47,231\n",
      " \n",
      "=====\n",
      "\n",
      "Epoch 3\n",
      "\n",
      "| Metric   |   Train |   Validation |\n",
      "|----------|---------|--------------|\n",
      "| loss     |  0.0667 |       0.5808 |\n",
      "\n",
      "=====\n"
     ]
    },
    {
     "data": {
      "application/vnd.jupyter.widget-view+json": {
       "model_id": "2c48d244f1484465b73d0f7072620968",
       "version_major": 2,
       "version_minor": 0
      },
      "text/plain": [
       "HBox(children=(FloatProgress(value=0.0, max=1.0), HTML(value='')))"
      ]
     },
     "metadata": {},
     "output_type": "display_data"
    },
    {
     "name": "stdout",
     "output_type": "stream",
     "text": [
      "\n"
     ]
    },
    {
     "data": {
      "application/vnd.jupyter.widget-view+json": {
       "model_id": "51953e05458640f2a283a03f727ac80c",
       "version_major": 2,
       "version_minor": 0
      },
      "text/plain": [
       "HBox(children=(FloatProgress(value=0.0, max=1.0), HTML(value='')))"
      ]
     },
     "metadata": {},
     "output_type": "display_data"
    },
    {
     "name": "stdout",
     "output_type": "stream",
     "text": [
      "\n",
      "\n",
      "2020-08-16 21:18:48,931\n",
      " \n",
      "=====\n",
      "\n",
      "Epoch 4\n",
      "\n",
      "| Metric   |   Train |   Validation |\n",
      "|----------|---------|--------------|\n",
      "| loss     |  0.0709 |       0.4467 |\n",
      "\n",
      "=====\n"
     ]
    },
    {
     "data": {
      "application/vnd.jupyter.widget-view+json": {
       "model_id": "b12d1e0afd5a4d6f8518b714ee2b204c",
       "version_major": 2,
       "version_minor": 0
      },
      "text/plain": [
       "HBox(children=(FloatProgress(value=0.0, max=1.0), HTML(value='')))"
      ]
     },
     "metadata": {},
     "output_type": "display_data"
    },
    {
     "name": "stdout",
     "output_type": "stream",
     "text": [
      "\n"
     ]
    },
    {
     "data": {
      "application/vnd.jupyter.widget-view+json": {
       "model_id": "1ee2a4b59e644879bcf06573a1b781ab",
       "version_major": 2,
       "version_minor": 0
      },
      "text/plain": [
       "HBox(children=(FloatProgress(value=0.0, max=1.0), HTML(value='')))"
      ]
     },
     "metadata": {},
     "output_type": "display_data"
    },
    {
     "name": "stdout",
     "output_type": "stream",
     "text": [
      "\n",
      "\n",
      "2020-08-16 21:18:50,466\n",
      " \n",
      "=====\n",
      "\n",
      "Epoch 5\n",
      "\n",
      "| Metric   |   Train |   Validation |\n",
      "|----------|---------|--------------|\n",
      "| loss     |  0.0576 |       0.3712 |\n",
      "\n",
      "=====\n"
     ]
    },
    {
     "data": {
      "application/vnd.jupyter.widget-view+json": {
       "model_id": "05f976942e8e42eebcb3957bedf6fe3c",
       "version_major": 2,
       "version_minor": 0
      },
      "text/plain": [
       "HBox(children=(FloatProgress(value=0.0, max=1.0), HTML(value='')))"
      ]
     },
     "metadata": {},
     "output_type": "display_data"
    },
    {
     "name": "stdout",
     "output_type": "stream",
     "text": [
      "\n"
     ]
    },
    {
     "data": {
      "application/vnd.jupyter.widget-view+json": {
       "model_id": "8003a7eec2d140d3ba6f4f2770066b34",
       "version_major": 2,
       "version_minor": 0
      },
      "text/plain": [
       "HBox(children=(FloatProgress(value=0.0, max=1.0), HTML(value='')))"
      ]
     },
     "metadata": {},
     "output_type": "display_data"
    },
    {
     "name": "stdout",
     "output_type": "stream",
     "text": [
      "\n",
      "\n",
      "2020-08-16 21:18:52,044\n",
      " \n",
      "=====\n",
      "\n",
      "Epoch 6\n",
      "\n",
      "| Metric   |   Train |   Validation |\n",
      "|----------|---------|--------------|\n",
      "| loss     |  0.0182 |       0.1691 |\n",
      "\n",
      "=====\n"
     ]
    },
    {
     "data": {
      "application/vnd.jupyter.widget-view+json": {
       "model_id": "300f14ff17f04cbd867d4fca6fc01ca7",
       "version_major": 2,
       "version_minor": 0
      },
      "text/plain": [
       "HBox(children=(FloatProgress(value=0.0, max=1.0), HTML(value='')))"
      ]
     },
     "metadata": {},
     "output_type": "display_data"
    },
    {
     "name": "stdout",
     "output_type": "stream",
     "text": [
      "\n"
     ]
    },
    {
     "data": {
      "application/vnd.jupyter.widget-view+json": {
       "model_id": "509ee2fe7c8448ca98e6b807a10ee364",
       "version_major": 2,
       "version_minor": 0
      },
      "text/plain": [
       "HBox(children=(FloatProgress(value=0.0, max=1.0), HTML(value='')))"
      ]
     },
     "metadata": {},
     "output_type": "display_data"
    },
    {
     "name": "stdout",
     "output_type": "stream",
     "text": [
      "\n",
      "\n",
      "2020-08-16 21:18:53,991\n",
      " \n",
      "=====\n",
      "\n",
      "Epoch 7\n",
      "\n",
      "| Metric   |   Train |   Validation |\n",
      "|----------|---------|--------------|\n",
      "| loss     |  0.0196 |       0.0919 |\n",
      "\n",
      "=====\n"
     ]
    },
    {
     "data": {
      "application/vnd.jupyter.widget-view+json": {
       "model_id": "65b01a9203854a7c8e5d9967ee5de64b",
       "version_major": 2,
       "version_minor": 0
      },
      "text/plain": [
       "HBox(children=(FloatProgress(value=0.0, max=1.0), HTML(value='')))"
      ]
     },
     "metadata": {},
     "output_type": "display_data"
    },
    {
     "name": "stdout",
     "output_type": "stream",
     "text": [
      "\n"
     ]
    },
    {
     "data": {
      "application/vnd.jupyter.widget-view+json": {
       "model_id": "8521ccdfd8b1428481a2bc99794cf6ba",
       "version_major": 2,
       "version_minor": 0
      },
      "text/plain": [
       "HBox(children=(FloatProgress(value=0.0, max=1.0), HTML(value='')))"
      ]
     },
     "metadata": {},
     "output_type": "display_data"
    },
    {
     "name": "stdout",
     "output_type": "stream",
     "text": [
      "\n",
      "\n",
      "2020-08-16 21:18:55,707\n",
      " \n",
      "=====\n",
      "\n",
      "Epoch 8\n",
      "\n",
      "| Metric   |   Train |   Validation |\n",
      "|----------|---------|--------------|\n",
      "| loss     |  0.0203 |       0.0690 |\n",
      "\n",
      "=====\n"
     ]
    },
    {
     "data": {
      "application/vnd.jupyter.widget-view+json": {
       "model_id": "d5e9a68f8f7045bf84d1c4174c5f8a5c",
       "version_major": 2,
       "version_minor": 0
      },
      "text/plain": [
       "HBox(children=(FloatProgress(value=0.0, max=1.0), HTML(value='')))"
      ]
     },
     "metadata": {},
     "output_type": "display_data"
    },
    {
     "name": "stdout",
     "output_type": "stream",
     "text": [
      "\n"
     ]
    },
    {
     "data": {
      "application/vnd.jupyter.widget-view+json": {
       "model_id": "710c1fad17c240d0a2fd81798c0f3810",
       "version_major": 2,
       "version_minor": 0
      },
      "text/plain": [
       "HBox(children=(FloatProgress(value=0.0, max=1.0), HTML(value='')))"
      ]
     },
     "metadata": {},
     "output_type": "display_data"
    },
    {
     "name": "stdout",
     "output_type": "stream",
     "text": [
      "\n",
      "\n",
      "2020-08-16 21:18:57,397\n",
      " \n",
      "=====\n",
      "\n",
      "Epoch 9\n",
      "\n",
      "| Metric   |   Train |   Validation |\n",
      "|----------|---------|--------------|\n",
      "| loss     |  0.0057 |       0.0489 |\n",
      "\n",
      "=====\n",
      "\n",
      "2020-08-16 21:18:57,402\n",
      " Training complete. Model in eval mode.\n"
     ]
    },
    {
     "data": {
      "image/png": "[encoded data removed]",
      "text/plain": [
       "<Figure size 864x216 with 1 Axes>"
      ]
     },
     "metadata": {
      "needs_background": "light"
     },
     "output_type": "display_data"
    }
   ],
   "source": [
    "t.fit(10)"
   ]
  },
  {
   "cell_type": "code",
   "execution_count": 26,
   "metadata": {
    "ExecuteTime": {
     "end_time": "2020-08-17T04:19:03.013827Z",
     "start_time": "2020-08-17T04:19:02.444374Z"
    }
   },
   "outputs": [
    {
     "data": {
      "text/plain": [
       "tensor([[1.0000, 1.0000, 0.0517],\n",
       "        [1.0000, 0.0901, 1.0000],\n",
       "        [1.0000, 0.9986, 0.1756]], grad_fn=<SigmoidBackward>)"
      ]
     },
     "execution_count": 26,
     "metadata": {},
     "output_type": "execute_result"
    }
   ],
   "source": [
    "torch.sigmoid(t.net(*xb))"
   ]
  },
  {
   "cell_type": "code",
   "execution_count": 27,
   "metadata": {
    "ExecuteTime": {
     "end_time": "2020-08-17T04:19:04.439749Z",
     "start_time": "2020-08-17T04:19:04.366909Z"
    },
    "scrolled": true
   },
   "outputs": [
    {
     "data": {
      "text/plain": [
       "tensor([[1., 1., 0.],\n",
       "        [1., 0., 1.],\n",
       "        [1., 1., 0.]])"
      ]
     },
     "execution_count": 27,
     "metadata": {},
     "output_type": "execute_result"
    }
   ],
   "source": [
    "yb"
   ]
  },
  {
   "cell_type": "code",
   "execution_count": null,
   "metadata": {},
   "outputs": [],
   "source": []
  },
  {
   "cell_type": "markdown",
   "metadata": {},
   "source": [
    "## Incendio - Unsupervised Scale Dataset (multi-label classification)\n",
    "\n",
    "Use new classification mode to try out scale dataset unsupervised task."
   ]
  },
  {
   "cell_type": "code",
   "execution_count": 34,
   "metadata": {
    "ExecuteTime": {
     "end_time": "2020-08-17T04:22:21.289652Z",
     "start_time": "2020-08-17T04:22:20.941805Z"
    }
   },
   "outputs": [],
   "source": [
    "from img_wang.models import MLPHead\n",
    "from incendio.callbacks import MetricHistory"
   ]
  },
  {
   "cell_type": "code",
   "execution_count": 35,
   "metadata": {
    "ExecuteTime": {
     "end_time": "2020-08-17T04:22:22.611226Z",
     "start_time": "2020-08-17T04:22:22.277920Z"
    }
   },
   "outputs": [
    {
     "data": {
      "text/plain": [
       "[4, 4, 2, 2]"
      ]
     },
     "execution_count": 35,
     "metadata": {},
     "output_type": "execute_result"
    }
   ],
   "source": [
    "dst, dsv, dlt, dlv = get_databunch('data/imagewang-160/unsup', mode='mixup', \n",
    "                                   bs=2, train_pct=.5, max_train_len=6,\n",
    "                                   max_val_len=6, regression=False)\n",
    "lmap(len, dst, dsv, dlt, dlv)"
   ]
  },
  {
   "cell_type": "code",
   "execution_count": 36,
   "metadata": {
    "ExecuteTime": {
     "end_time": "2020-08-17T04:22:23.549192Z",
     "start_time": "2020-08-17T04:22:23.478300Z"
    }
   },
   "outputs": [
    {
     "data": {
      "text/plain": [
       "[torch.Size([3, 128, 128]),\n",
       " torch.Size([3, 128, 128]),\n",
       " torch.Size([3, 128, 128]),\n",
       " torch.Size([3, 128, 128]),\n",
       " torch.Size([3])]"
      ]
     },
     "execution_count": 36,
     "metadata": {},
     "output_type": "execute_result"
    }
   ],
   "source": [
    "*x, y = dst[0]\n",
    "smap(*x, y)"
   ]
  },
  {
   "cell_type": "code",
   "execution_count": 37,
   "metadata": {
    "ExecuteTime": {
     "end_time": "2020-08-17T04:22:30.378578Z",
     "start_time": "2020-08-17T04:22:29.788415Z"
    }
   },
   "outputs": [
    {
     "data": {
      "image/png": "[encoded data removed]",
      "text/plain": [
       "<Figure size 864x216 with 4 Axes>"
      ]
     },
     "metadata": {
      "needs_background": "light"
     },
     "output_type": "display_data"
    }
   ],
   "source": [
    "show_images(x, titles=['new']+y.tolist())"
   ]
  },
  {
   "cell_type": "code",
   "execution_count": 38,
   "metadata": {
    "ExecuteTime": {
     "end_time": "2020-08-17T04:22:39.642906Z",
     "start_time": "2020-08-17T04:22:39.555212Z"
    }
   },
   "outputs": [
    {
     "data": {
      "text/plain": [
       "[torch.Size([2, 3, 128, 128]),\n",
       " torch.Size([2, 3, 128, 128]),\n",
       " torch.Size([2, 3, 128, 128]),\n",
       " torch.Size([2, 3, 128, 128]),\n",
       " torch.Size([2, 3])]"
      ]
     },
     "execution_count": 38,
     "metadata": {},
     "output_type": "execute_result"
    }
   ],
   "source": [
    "*xb, yb = next(iter(dlt))\n",
    "smap(*xb, yb)"
   ]
  },
  {
   "cell_type": "code",
   "execution_count": 46,
   "metadata": {
    "ExecuteTime": {
     "end_time": "2020-08-17T04:24:52.209653Z",
     "start_time": "2020-08-17T04:24:52.117645Z"
    }
   },
   "outputs": [],
   "source": [
    "net = Unmixer(\n",
    "    Encoder(fs=(8, 32, 128), strides=(1, 1, 1)),\n",
    "    MLPHead(256, last_act=None)\n",
    ")"
   ]
  },
  {
   "cell_type": "code",
   "execution_count": 47,
   "metadata": {
    "ExecuteTime": {
     "end_time": "2020-08-17T04:24:54.355014Z",
     "start_time": "2020-08-17T04:24:53.133086Z"
    }
   },
   "outputs": [
    {
     "data": {
      "text/plain": [
       "tensor([[-2.2372, -0.9814, -1.5090],\n",
       "        [-0.9710, -0.0075, -0.9996]], grad_fn=<SqueezeBackward1>)"
      ]
     },
     "execution_count": 47,
     "metadata": {},
     "output_type": "execute_result"
    }
   ],
   "source": [
    "net(*xb)"
   ]
  },
  {
   "cell_type": "code",
   "execution_count": 48,
   "metadata": {
    "ExecuteTime": {
     "end_time": "2020-08-17T04:25:00.768926Z",
     "start_time": "2020-08-17T04:25:00.685475Z"
    }
   },
   "outputs": [],
   "source": [
    "t = Trainer(net, dst, dsv, dlt, dlv, F.binary_cross_entropy_with_logits,\n",
    "            'binary', 'data/models/v0', callbacks=[MetricHistory()])"
   ]
  },
  {
   "cell_type": "code",
   "execution_count": 49,
   "metadata": {
    "ExecuteTime": {
     "end_time": "2020-08-17T04:26:19.635153Z",
     "start_time": "2020-08-17T04:25:01.405907Z"
    }
   },
   "outputs": [
    {
     "name": "stdout",
     "output_type": "stream",
     "text": [
      "2020-08-16 21:25:01,465 [INFO]: Adam (\n",
      "Parameter Group 0\n",
      "    amsgrad: False\n",
      "    betas: (0.9, 0.999)\n",
      "    eps: 0.001\n",
      "    lr: 0.003\n",
      "    weight_decay: 0\n",
      ")\n"
     ]
    },
    {
     "data": {
      "application/vnd.jupyter.widget-view+json": {
       "model_id": "7e0211ff0ffa4b4780b0a60f5435fe24",
       "version_major": 2,
       "version_minor": 0
      },
      "text/plain": [
       "HBox(children=(FloatProgress(value=0.0, max=2.0), HTML(value='')))"
      ]
     },
     "metadata": {},
     "output_type": "display_data"
    },
    {
     "name": "stdout",
     "output_type": "stream",
     "text": [
      "\n"
     ]
    },
    {
     "data": {
      "application/vnd.jupyter.widget-view+json": {
       "model_id": "19058f04f7ec43e7b68a66a96c3286d7",
       "version_major": 2,
       "version_minor": 0
      },
      "text/plain": [
       "HBox(children=(FloatProgress(value=0.0, max=2.0), HTML(value='')))"
      ]
     },
     "metadata": {},
     "output_type": "display_data"
    },
    {
     "name": "stdout",
     "output_type": "stream",
     "text": [
      "\n",
      "\n",
      "2020-08-16 21:25:09,132\n",
      " \n",
      "=====\n",
      "\n",
      "Epoch 0\n",
      "\n",
      "| Metric   |   Train |   Validation |\n",
      "|----------|---------|--------------|\n",
      "| loss     |  7.2365 |       0.6909 |\n",
      "\n",
      "=====\n"
     ]
    },
    {
     "data": {
      "application/vnd.jupyter.widget-view+json": {
       "model_id": "f6c26bdaae2541dc9a93401af9e039a3",
       "version_major": 2,
       "version_minor": 0
      },
      "text/plain": [
       "HBox(children=(FloatProgress(value=0.0, max=2.0), HTML(value='')))"
      ]
     },
     "metadata": {},
     "output_type": "display_data"
    },
    {
     "name": "stdout",
     "output_type": "stream",
     "text": [
      "\n"
     ]
    },
    {
     "data": {
      "application/vnd.jupyter.widget-view+json": {
       "model_id": "b46b19d3b6be45a0ab68dabc48e02474",
       "version_major": 2,
       "version_minor": 0
      },
      "text/plain": [
       "HBox(children=(FloatProgress(value=0.0, max=2.0), HTML(value='')))"
      ]
     },
     "metadata": {},
     "output_type": "display_data"
    },
    {
     "name": "stdout",
     "output_type": "stream",
     "text": [
      "\n",
      "\n",
      "2020-08-16 21:25:16,256\n",
      " \n",
      "=====\n",
      "\n",
      "Epoch 1\n",
      "\n",
      "| Metric   |   Train |   Validation |\n",
      "|----------|---------|--------------|\n",
      "| loss     |  3.0412 |       0.6423 |\n",
      "\n",
      "=====\n"
     ]
    },
    {
     "data": {
      "application/vnd.jupyter.widget-view+json": {
       "model_id": "8378ff331a754ab4ad7188d8d316963f",
       "version_major": 2,
       "version_minor": 0
      },
      "text/plain": [
       "HBox(children=(FloatProgress(value=0.0, max=2.0), HTML(value='')))"
      ]
     },
     "metadata": {},
     "output_type": "display_data"
    },
    {
     "name": "stdout",
     "output_type": "stream",
     "text": [
      "\n"
     ]
    },
    {
     "data": {
      "application/vnd.jupyter.widget-view+json": {
       "model_id": "a71f0159285c49ab905e6b4f7b1917b8",
       "version_major": 2,
       "version_minor": 0
      },
      "text/plain": [
       "HBox(children=(FloatProgress(value=0.0, max=2.0), HTML(value='')))"
      ]
     },
     "metadata": {},
     "output_type": "display_data"
    },
    {
     "name": "stdout",
     "output_type": "stream",
     "text": [
      "\n",
      "\n",
      "2020-08-16 21:25:23,203\n",
      " \n",
      "=====\n",
      "\n",
      "Epoch 2\n",
      "\n",
      "| Metric   |   Train |   Validation |\n",
      "|----------|---------|--------------|\n",
      "| loss     |  0.8503 |       0.6649 |\n",
      "\n",
      "=====\n"
     ]
    },
    {
     "data": {
      "application/vnd.jupyter.widget-view+json": {
       "model_id": "680d349e44a7477a95f81b03eefd342f",
       "version_major": 2,
       "version_minor": 0
      },
      "text/plain": [
       "HBox(children=(FloatProgress(value=0.0, max=2.0), HTML(value='')))"
      ]
     },
     "metadata": {},
     "output_type": "display_data"
    },
    {
     "name": "stdout",
     "output_type": "stream",
     "text": [
      "\n"
     ]
    },
    {
     "data": {
      "application/vnd.jupyter.widget-view+json": {
       "model_id": "85ff3d903e9048d58b0b41c89c1f98c5",
       "version_major": 2,
       "version_minor": 0
      },
      "text/plain": [
       "HBox(children=(FloatProgress(value=0.0, max=2.0), HTML(value='')))"
      ]
     },
     "metadata": {},
     "output_type": "display_data"
    },
    {
     "name": "stdout",
     "output_type": "stream",
     "text": [
      "\n",
      "\n",
      "2020-08-16 21:25:29,915\n",
      " \n",
      "=====\n",
      "\n",
      "Epoch 3\n",
      "\n",
      "| Metric   |   Train |   Validation |\n",
      "|----------|---------|--------------|\n",
      "| loss     |  0.6596 |       0.6459 |\n",
      "\n",
      "=====\n"
     ]
    },
    {
     "data": {
      "application/vnd.jupyter.widget-view+json": {
       "model_id": "fd4efff74ffc49578b3e194df2014e0c",
       "version_major": 2,
       "version_minor": 0
      },
      "text/plain": [
       "HBox(children=(FloatProgress(value=0.0, max=2.0), HTML(value='')))"
      ]
     },
     "metadata": {},
     "output_type": "display_data"
    },
    {
     "name": "stdout",
     "output_type": "stream",
     "text": [
      "\n"
     ]
    },
    {
     "data": {
      "application/vnd.jupyter.widget-view+json": {
       "model_id": "4512db8aa99e422baaebfda74262b8ec",
       "version_major": 2,
       "version_minor": 0
      },
      "text/plain": [
       "HBox(children=(FloatProgress(value=0.0, max=2.0), HTML(value='')))"
      ]
     },
     "metadata": {},
     "output_type": "display_data"
    },
    {
     "name": "stdout",
     "output_type": "stream",
     "text": [
      "\n",
      "\n",
      "2020-08-16 21:25:36,803\n",
      " \n",
      "=====\n",
      "\n",
      "Epoch 4\n",
      "\n",
      "| Metric   |   Train |   Validation |\n",
      "|----------|---------|--------------|\n",
      "| loss     |  0.6658 |       0.6489 |\n",
      "\n",
      "=====\n"
     ]
    },
    {
     "data": {
      "application/vnd.jupyter.widget-view+json": {
       "model_id": "95e8db1bea494daea8de1823cd2833e1",
       "version_major": 2,
       "version_minor": 0
      },
      "text/plain": [
       "HBox(children=(FloatProgress(value=0.0, max=2.0), HTML(value='')))"
      ]
     },
     "metadata": {},
     "output_type": "display_data"
    },
    {
     "name": "stdout",
     "output_type": "stream",
     "text": [
      "\n"
     ]
    },
    {
     "data": {
      "application/vnd.jupyter.widget-view+json": {
       "model_id": "8c2d1f5eaf6a4c0eb5d95cd94c8440fc",
       "version_major": 2,
       "version_minor": 0
      },
      "text/plain": [
       "HBox(children=(FloatProgress(value=0.0, max=2.0), HTML(value='')))"
      ]
     },
     "metadata": {},
     "output_type": "display_data"
    },
    {
     "name": "stdout",
     "output_type": "stream",
     "text": [
      "\n",
      "\n",
      "2020-08-16 21:25:44,120\n",
      " \n",
      "=====\n",
      "\n",
      "Epoch 5\n",
      "\n",
      "| Metric   |   Train |   Validation |\n",
      "|----------|---------|--------------|\n",
      "| loss     |  0.7025 |       0.6553 |\n",
      "\n",
      "=====\n"
     ]
    },
    {
     "data": {
      "application/vnd.jupyter.widget-view+json": {
       "model_id": "92b323c75dbb4aeaa7daa4480836ed24",
       "version_major": 2,
       "version_minor": 0
      },
      "text/plain": [
       "HBox(children=(FloatProgress(value=0.0, max=2.0), HTML(value='')))"
      ]
     },
     "metadata": {},
     "output_type": "display_data"
    },
    {
     "name": "stdout",
     "output_type": "stream",
     "text": [
      "\n"
     ]
    },
    {
     "data": {
      "application/vnd.jupyter.widget-view+json": {
       "model_id": "1294bf50671c46a2aa4058cf65bd1f02",
       "version_major": 2,
       "version_minor": 0
      },
      "text/plain": [
       "HBox(children=(FloatProgress(value=0.0, max=2.0), HTML(value='')))"
      ]
     },
     "metadata": {},
     "output_type": "display_data"
    },
    {
     "name": "stdout",
     "output_type": "stream",
     "text": [
      "\n",
      "\n",
      "2020-08-16 21:25:52,577\n",
      " \n",
      "=====\n",
      "\n",
      "Epoch 6\n",
      "\n",
      "| Metric   |   Train |   Validation |\n",
      "|----------|---------|--------------|\n",
      "| loss     |  0.6735 |       0.6277 |\n",
      "\n",
      "=====\n"
     ]
    },
    {
     "data": {
      "application/vnd.jupyter.widget-view+json": {
       "model_id": "b59c9d75150a438281b809ef0a72469c",
       "version_major": 2,
       "version_minor": 0
      },
      "text/plain": [
       "HBox(children=(FloatProgress(value=0.0, max=2.0), HTML(value='')))"
      ]
     },
     "metadata": {},
     "output_type": "display_data"
    },
    {
     "name": "stdout",
     "output_type": "stream",
     "text": [
      "\n"
     ]
    },
    {
     "data": {
      "application/vnd.jupyter.widget-view+json": {
       "model_id": "e09fc87949954aedb2c18f516ac80f72",
       "version_major": 2,
       "version_minor": 0
      },
      "text/plain": [
       "HBox(children=(FloatProgress(value=0.0, max=2.0), HTML(value='')))"
      ]
     },
     "metadata": {},
     "output_type": "display_data"
    },
    {
     "name": "stdout",
     "output_type": "stream",
     "text": [
      "\n",
      "\n",
      "2020-08-16 21:26:01,682\n",
      " \n",
      "=====\n",
      "\n",
      "Epoch 7\n",
      "\n",
      "| Metric   |   Train |   Validation |\n",
      "|----------|---------|--------------|\n",
      "| loss     |  0.6304 |       0.6439 |\n",
      "\n",
      "=====\n"
     ]
    },
    {
     "data": {
      "application/vnd.jupyter.widget-view+json": {
       "model_id": "13f6bb70a7e4495390240c516aea9e95",
       "version_major": 2,
       "version_minor": 0
      },
      "text/plain": [
       "HBox(children=(FloatProgress(value=0.0, max=2.0), HTML(value='')))"
      ]
     },
     "metadata": {},
     "output_type": "display_data"
    },
    {
     "name": "stdout",
     "output_type": "stream",
     "text": [
      "\n"
     ]
    },
    {
     "data": {
      "application/vnd.jupyter.widget-view+json": {
       "model_id": "1860a3dbddab40fb8332dcb9d6553068",
       "version_major": 2,
       "version_minor": 0
      },
      "text/plain": [
       "HBox(children=(FloatProgress(value=0.0, max=2.0), HTML(value='')))"
      ]
     },
     "metadata": {},
     "output_type": "display_data"
    },
    {
     "name": "stdout",
     "output_type": "stream",
     "text": [
      "\n",
      "\n",
      "2020-08-16 21:26:10,626\n",
      " \n",
      "=====\n",
      "\n",
      "Epoch 8\n",
      "\n",
      "| Metric   |   Train |   Validation |\n",
      "|----------|---------|--------------|\n",
      "| loss     |  0.6551 |       0.6400 |\n",
      "\n",
      "=====\n"
     ]
    },
    {
     "data": {
      "application/vnd.jupyter.widget-view+json": {
       "model_id": "dc483334ea3b48fb905ea8d4ede84111",
       "version_major": 2,
       "version_minor": 0
      },
      "text/plain": [
       "HBox(children=(FloatProgress(value=0.0, max=2.0), HTML(value='')))"
      ]
     },
     "metadata": {},
     "output_type": "display_data"
    },
    {
     "name": "stdout",
     "output_type": "stream",
     "text": [
      "\n"
     ]
    },
    {
     "data": {
      "application/vnd.jupyter.widget-view+json": {
       "model_id": "002ea9625fb94b83832e2947fd028171",
       "version_major": 2,
       "version_minor": 0
      },
      "text/plain": [
       "HBox(children=(FloatProgress(value=0.0, max=2.0), HTML(value='')))"
      ]
     },
     "metadata": {},
     "output_type": "display_data"
    },
    {
     "name": "stdout",
     "output_type": "stream",
     "text": [
      "\n",
      "\n",
      "2020-08-16 21:26:18,925\n",
      " \n",
      "=====\n",
      "\n",
      "Epoch 9\n",
      "\n",
      "| Metric   |   Train |   Validation |\n",
      "|----------|---------|--------------|\n",
      "| loss     |  0.6450 |       0.6167 |\n",
      "\n",
      "=====\n",
      "\n",
      "2020-08-16 21:26:18,928\n",
      " Training complete. Model in eval mode.\n"
     ]
    },
    {
     "data": {
      "image/png": "[encoded data removed]",
      "text/plain": [
       "<Figure size 864x216 with 1 Axes>"
      ]
     },
     "metadata": {
      "needs_background": "light"
     },
     "output_type": "display_data"
    }
   ],
   "source": [
    "t.fit(10)"
   ]
  },
  {
   "cell_type": "code",
   "execution_count": 50,
   "metadata": {
    "ExecuteTime": {
     "end_time": "2020-08-17T04:26:27.783148Z",
     "start_time": "2020-08-17T04:26:26.521717Z"
    }
   },
   "outputs": [
    {
     "data": {
      "text/plain": [
       "tensor([[0.6355, 0.6413, 0.6569],\n",
       "        [0.6140, 0.6591, 0.6511]], grad_fn=<SigmoidBackward>)"
      ]
     },
     "execution_count": 50,
     "metadata": {},
     "output_type": "execute_result"
    }
   ],
   "source": [
    "torch.sigmoid(t.net(*xb))"
   ]
  },
  {
   "cell_type": "code",
   "execution_count": 51,
   "metadata": {
    "ExecuteTime": {
     "end_time": "2020-08-17T04:26:28.617514Z",
     "start_time": "2020-08-17T04:26:28.433103Z"
    },
    "scrolled": true
   },
   "outputs": [
    {
     "data": {
      "text/plain": [
       "tensor([[1., 0., 1.],\n",
       "        [0., 1., 1.]])"
      ]
     },
     "execution_count": 51,
     "metadata": {},
     "output_type": "execute_result"
    }
   ],
   "source": [
    "yb"
   ]
  }
 ],
 "metadata": {
  "kernelspec": {
   "display_name": "Python 3",
   "language": "python",
   "name": "python3"
  },
  "language_info": {
   "codemirror_mode": {
    "name": "ipython",
    "version": 3
   },
   "file_extension": ".py",
   "mimetype": "text/x-python",
   "name": "python",
   "nbconvert_exporter": "python",
   "pygments_lexer": "ipython3",
   "version": "3.7.3"
  }
 },
 "nbformat": 4,
 "nbformat_minor": 2
}
