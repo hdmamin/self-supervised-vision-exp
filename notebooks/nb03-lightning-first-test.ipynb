{
 "cells": [
  {
   "cell_type": "code",
   "execution_count": 1,
   "metadata": {
    "ExecuteTime": {
     "end_time": "2020-08-17T04:11:30.073495Z",
     "start_time": "2020-08-17T04:11:30.050610Z"
    }
   },
   "outputs": [],
   "source": [
    "%load_ext autoreload\n",
    "%autoreload 2"
   ]
  },
  {
   "cell_type": "code",
   "execution_count": 2,
   "metadata": {
    "ExecuteTime": {
     "end_time": "2020-08-17T04:11:37.595931Z",
     "start_time": "2020-08-17T04:11:31.027032Z"
    }
   },
   "outputs": [
    {
     "name": "stderr",
     "output_type": "stream",
     "text": [
      "/Users/hmamin/pythonhm/htools/htools/core.py:2: DeprecationWarning: Using or importing the ABCs from 'collections' instead of from 'collections.abc' is deprecated, and in 3.8 it will stop working\n",
      "  from collections import Counter, Sequence, Iterable, \\\n",
      "/Users/hmamin/anaconda3/lib/python3.7/site-packages/incendio/callbacks.py:24: UserWarning: Accio not available.\n",
      "  warnings.warn('Accio not available.')\n"
     ]
    }
   ],
   "source": [
    "import albumentations as A\n",
    "from albumentations.pytorch import transforms\n",
    "from fastai2.vision.all import get_image_files, AdaptiveConcatPool2d, \\\n",
    "    aug_transforms, show_image, show_images, load_image, PoolFlatten, \\\n",
    "    PoolType\n",
    "from itertools import zip_longest\n",
    "import matplotlib.pyplot as plt\n",
    "import numpy as np\n",
    "import os\n",
    "import pandas as pd\n",
    "from pathlib import Path\n",
    "import pytorch_lightning as pl\n",
    "# from pytorch_lightning.logging.comet import CometLogger\n",
    "# from pytorch_lightning.loggers import MLFlowLogger\n",
    "import torch\n",
    "import torch.nn as nn\n",
    "import torch.nn.functional as F\n",
    "from torch.utils.data import DataLoader\n",
    "from torchvision.datasets import ImageFolder\n",
    "import torchvision as tv\n",
    "import warnings\n",
    "\n",
    "from htools import *\n",
    "from incendio.optimizers import variable_lr_optimizer\n",
    "from img_wang.data import get_databunch, load_img\n",
    "from img_wang.models import Unmixer, Encoder"
   ]
  },
  {
   "cell_type": "code",
   "execution_count": 3,
   "metadata": {
    "ExecuteTime": {
     "end_time": "2020-08-17T04:11:44.729363Z",
     "start_time": "2020-08-17T04:11:44.596134Z"
    }
   },
   "outputs": [
    {
     "name": "stdout",
     "output_type": "stream",
     "text": [
      "Current directory: /Users/hmamin/img_wang\n"
     ]
    }
   ],
   "source": [
    "cd_root()"
   ]
  },
  {
   "cell_type": "code",
   "execution_count": 350,
   "metadata": {
    "ExecuteTime": {
     "end_time": "2020-08-16T05:36:29.537532Z",
     "start_time": "2020-08-16T05:36:29.438359Z"
    }
   },
   "outputs": [],
   "source": [
    "class UnmixerPL(pl.LightningModule):\n",
    "    \n",
    "    def __init__(self, net=None, loss=F.mse_loss):\n",
    "        super().__init__()\n",
    "        self.net = net or Unmixer()\n",
    "        self.loss = loss\n",
    "        \n",
    "    def forward(self, *x):\n",
    "        return self.net(*x)\n",
    "    \n",
    "    def training_step(self, batch, batch_i):\n",
    "        *x, y = batch\n",
    "        y_hat = self(*x)\n",
    "        loss = self.loss(y_hat, y)\n",
    "        return {'loss': loss}\n",
    "    \n",
    "    def validation_step(self, batch, batch_i):\n",
    "        *x, y = batch\n",
    "        y_hat = self(*x)\n",
    "        loss = self.loss(y_hat, y)\n",
    "        res = pl.EvalResult(checkpoint_on=loss)\n",
    "        res.log('val_loss', loss)\n",
    "        return res\n",
    "    \n",
    "    def configure_optimizers(self):\n",
    "        return variable_lr_optimizer(self.net)"
   ]
  },
  {
   "cell_type": "code",
   "execution_count": 21,
   "metadata": {
    "ExecuteTime": {
     "end_time": "2020-08-15T03:51:37.109281Z",
     "start_time": "2020-08-15T03:51:36.882728Z"
    }
   },
   "outputs": [],
   "source": [
    "class MixupDataPL(pl.LightningDataModule):\n",
    "    \n",
    "    def __init__(self, dir_=None, paths=None,\n",
    "                 mode:('mixup', 'scale', 'quadrant')='mixup', bs=32,\n",
    "                 valid_bs_mult=1, train_pct=.9, shuffle_train=True,\n",
    "                 drop_last=True, random_state=0, **ds_kwargs):\n",
    "        self.dst, self.dsv, self.dlt, self.dlv = get_databunch(\n",
    "            dir_, paths, mode, bs, valid_bs_mult, train_pct, shuffle_train,\n",
    "            drop_last, random_state, **ds_kwargs\n",
    "        )\n",
    "        \n",
    "    def train_dataloader(self):\n",
    "        return self.dlt\n",
    "    \n",
    "    def val_dataloader(self):\n",
    "        return self.dlv"
   ]
  },
  {
   "cell_type": "code",
   "execution_count": 6,
   "metadata": {
    "ExecuteTime": {
     "end_time": "2020-08-14T05:13:41.523160Z",
     "start_time": "2020-08-14T05:13:41.459022Z"
    }
   },
   "outputs": [],
   "source": [
    "dir_u = Path('data/imagewang-160/unsup/')"
   ]
  },
  {
   "cell_type": "code",
   "execution_count": 11,
   "metadata": {
    "ExecuteTime": {
     "end_time": "2020-08-14T05:16:55.561227Z",
     "start_time": "2020-08-14T05:16:55.329890Z"
    }
   },
   "outputs": [],
   "source": [
    "paths_xtiny = get_image_files(dir_u)[:4]\n",
    "data = MixupDataPL(paths=paths_xtiny, mode='scale', bs=2, train_pct=.5, n=1)\n",
    "module = UnmixerPL()"
   ]
  },
  {
   "cell_type": "code",
   "execution_count": 12,
   "metadata": {
    "ExecuteTime": {
     "end_time": "2020-08-14T05:16:55.677355Z",
     "start_time": "2020-08-14T05:16:55.628023Z"
    }
   },
   "outputs": [
    {
     "name": "stderr",
     "output_type": "stream",
     "text": [
      "CometLogger will be initialized in online mode\n"
     ]
    }
   ],
   "source": [
    "with open('/Users/hmamin/.comet.config', 'r') as f:\n",
    "    comet_key = f.readlines()[-1].split('=')[-1].strip()\n",
    "logger = CometLogger(api_key=comet_key, project_name='imagewang')"
   ]
  },
  {
   "cell_type": "code",
   "execution_count": 13,
   "metadata": {
    "ExecuteTime": {
     "end_time": "2020-08-14T05:16:56.167264Z",
     "start_time": "2020-08-14T05:16:56.116407Z"
    }
   },
   "outputs": [],
   "source": [
    "mlf_logger = MLFlowLogger(experiment_name='debug-img-wang', \n",
    "                          tracking_uri='http://127.0.0.1:5000')"
   ]
  },
  {
   "cell_type": "code",
   "execution_count": 14,
   "metadata": {
    "ExecuteTime": {
     "end_time": "2020-08-14T05:16:58.636963Z",
     "start_time": "2020-08-14T05:16:56.796740Z"
    }
   },
   "outputs": [
    {
     "name": "stderr",
     "output_type": "stream",
     "text": [
      "GPU available: False, used: False\n",
      "TPU available: False, using: 0 TPU cores\n",
      "\n",
      "  | Name | Type    | Params\n",
      "---------------------------------\n",
      "0 | net  | Unmixer | 394 K \n"
     ]
    },
    {
     "data": {
      "application/vnd.jupyter.widget-view+json": {
       "model_id": "635cbabb8a3b4a4d976be6fd84b349aa",
       "version_major": 2,
       "version_minor": 0
      },
      "text/plain": [
       "HBox(children=(FloatProgress(value=1.0, bar_style='info', description='Validation sanity check', layout=Layout…"
      ]
     },
     "metadata": {},
     "output_type": "display_data"
    },
    {
     "data": {
      "application/vnd.jupyter.widget-view+json": {
       "model_id": "4aec0e96642a40ccbfb5c6851f852345",
       "version_major": 2,
       "version_minor": 0
      },
      "text/plain": [
       "HBox(children=(FloatProgress(value=1.0, bar_style='info', description='Training', layout=Layout(flex='2'), max…"
      ]
     },
     "metadata": {},
     "output_type": "display_data"
    },
    {
     "data": {
      "application/vnd.jupyter.widget-view+json": {
       "model_id": "",
       "version_major": 2,
       "version_minor": 0
      },
      "text/plain": [
       "HBox(children=(FloatProgress(value=1.0, bar_style='info', description='Validating', layout=Layout(flex='2'), m…"
      ]
     },
     "metadata": {},
     "output_type": "display_data"
    },
    {
     "data": {
      "application/vnd.jupyter.widget-view+json": {
       "model_id": "",
       "version_major": 2,
       "version_minor": 0
      },
      "text/plain": [
       "HBox(children=(FloatProgress(value=1.0, bar_style='info', description='Validating', layout=Layout(flex='2'), m…"
      ]
     },
     "metadata": {},
     "output_type": "display_data"
    },
    {
     "data": {
      "application/vnd.jupyter.widget-view+json": {
       "model_id": "",
       "version_major": 2,
       "version_minor": 0
      },
      "text/plain": [
       "HBox(children=(FloatProgress(value=1.0, bar_style='info', description='Validating', layout=Layout(flex='2'), m…"
      ]
     },
     "metadata": {},
     "output_type": "display_data"
    },
    {
     "data": {
      "application/vnd.jupyter.widget-view+json": {
       "model_id": "",
       "version_major": 2,
       "version_minor": 0
      },
      "text/plain": [
       "HBox(children=(FloatProgress(value=1.0, bar_style='info', description='Validating', layout=Layout(flex='2'), m…"
      ]
     },
     "metadata": {},
     "output_type": "display_data"
    },
    {
     "data": {
      "application/vnd.jupyter.widget-view+json": {
       "model_id": "",
       "version_major": 2,
       "version_minor": 0
      },
      "text/plain": [
       "HBox(children=(FloatProgress(value=1.0, bar_style='info', description='Validating', layout=Layout(flex='2'), m…"
      ]
     },
     "metadata": {},
     "output_type": "display_data"
    },
    {
     "name": "stdout",
     "output_type": "stream",
     "text": [
      "\n"
     ]
    },
    {
     "data": {
      "text/plain": [
       "1"
      ]
     },
     "execution_count": 14,
     "metadata": {},
     "output_type": "execute_result"
    }
   ],
   "source": [
    "t = pl.Trainer(max_epochs=5, logger=mlf_logger, log_save_interval=1)\n",
    "t.fit(module, data)"
   ]
  },
  {
   "cell_type": "markdown",
   "metadata": {},
   "source": [
    "## Supervised Task\n",
    "\n",
    "Try out the slightly more straightforward supervised task to see if that trains as expected with incendio and/or lightning. Trying to narrow down possible problems."
   ]
  },
  {
   "cell_type": "code",
   "execution_count": 138,
   "metadata": {
    "ExecuteTime": {
     "end_time": "2020-08-15T04:48:43.810353Z",
     "start_time": "2020-08-15T04:48:43.668714Z"
    }
   },
   "outputs": [],
   "source": [
    "x = load_image('data/imagewang-160/train/n01440764/ILSVRC2012_val_00000293.jpeg')\n",
    "x = np.array(x, dtype=np.float32)"
   ]
  },
  {
   "cell_type": "code",
   "execution_count": 330,
   "metadata": {
    "ExecuteTime": {
     "end_time": "2020-08-16T05:33:38.868065Z",
     "start_time": "2020-08-16T05:33:38.801639Z"
    }
   },
   "outputs": [],
   "source": [
    "class SupervisedDataPL(pl.LightningDataModule):\n",
    "    \n",
    "    def __init__(self, root='data/imagewang-160', bs=32, train_tfms=None,\n",
    "                 val_tfms=None, shape=(128, 128)):\n",
    "        \"\"\"\n",
    "        tfms: list[transform]\n",
    "        \"\"\"\n",
    "        self.root = Path(root)\n",
    "        self.bs = bs\n",
    "        self.train_tfms = tv.transforms.Compose(\n",
    "            train_tfms or \n",
    "            [tv.transforms.RandomResizedCrop(shape, (.9, 1.0)), \n",
    "             tv.transforms.RandomHorizontalFlip(),\n",
    "             tv.transforms.RandomRotation(10),\n",
    "             tv.transforms.ToTensor()]\n",
    "        )\n",
    "        self.val_tfms = tv.transforms.Compose(\n",
    "            val_tfms or \n",
    "            [tv.transforms.Resize(shape),\n",
    "             tv.transforms.ToTensor()])\n",
    "        \n",
    "    def setup(self, stage=''):\n",
    "        self.ds_train = ImageFolder(self.root/'train', self.train_tfms)\n",
    "        self.ds_val = ImageFolder(self.root/'val', self.val_tfms)\n",
    "        self.ds_val.classes = self.ds_train.classes\n",
    "        self.ds_val.class_to_idx = self.ds_train.class_to_idx\n",
    "        self.dl_train = DataLoader(self.ds_train, self.bs, shuffle=True)\n",
    "        self.dl_val = DataLoader(self.ds_val, self.bs)\n",
    "        \n",
    "    def train_dataloader(self):\n",
    "        return self.dl_train\n",
    "    \n",
    "    def val_dataloader(self):\n",
    "        return self.dl_val"
   ]
  },
  {
   "cell_type": "code",
   "execution_count": 136,
   "metadata": {
    "ExecuteTime": {
     "end_time": "2020-08-18T05:47:46.278013Z",
     "start_time": "2020-08-18T05:47:44.684666Z"
    }
   },
   "outputs": [],
   "source": [
    "class SupervisedEncoderClassifier(nn.Module):\n",
    "    \n",
    "    def __init__(self, enc=None, n_classes=20):\n",
    "        super().__init__()\n",
    "        self.n_classes = n_classes\n",
    "        \n",
    "        # Layers\n",
    "        self.enc = enc or Encoder()\n",
    "        self.pool = PoolFlatten('cat')\n",
    "        # Concat pool doubles last feature dimension.\n",
    "        self.fc = nn.Linear(list(self.enc.parameters())[-1].shape[0]*2,\n",
    "                            n_classes)\n",
    "        \n",
    "    def forward(self, x):\n",
    "        x = self.enc(x)\n",
    "        x = self.pool(x)\n",
    "        return self.fc(x).squeeze()"
   ]
  },
  {
   "cell_type": "code",
   "execution_count": 332,
   "metadata": {
    "ExecuteTime": {
     "end_time": "2020-08-16T05:33:40.295397Z",
     "start_time": "2020-08-16T05:33:40.126772Z"
    }
   },
   "outputs": [],
   "source": [
    "sdata = SupervisedDataPL(bs=2)\n",
    "sdata.setup()"
   ]
  },
  {
   "cell_type": "code",
   "execution_count": 333,
   "metadata": {
    "ExecuteTime": {
     "end_time": "2020-08-16T05:33:41.924343Z",
     "start_time": "2020-08-16T05:33:41.849862Z"
    }
   },
   "outputs": [],
   "source": [
    "net = SupervisedEncoderClassifier()"
   ]
  },
  {
   "cell_type": "code",
   "execution_count": 334,
   "metadata": {
    "ExecuteTime": {
     "end_time": "2020-08-16T05:33:42.178426Z",
     "start_time": "2020-08-16T05:33:42.076177Z"
    }
   },
   "outputs": [
    {
     "data": {
      "text/plain": [
       "(torch.Size([2, 3, 128, 128]), torch.Size([2]))"
      ]
     },
     "execution_count": 334,
     "metadata": {},
     "output_type": "execute_result"
    }
   ],
   "source": [
    "x, y = next(iter(sdata.dl_train))\n",
    "x.shape, y.shape"
   ]
  },
  {
   "cell_type": "code",
   "execution_count": 336,
   "metadata": {
    "ExecuteTime": {
     "end_time": "2020-08-16T05:33:50.420253Z",
     "start_time": "2020-08-16T05:33:50.237986Z"
    }
   },
   "outputs": [
    {
     "data": {
      "text/plain": [
       "torch.Size([2, 20])"
      ]
     },
     "execution_count": 336,
     "metadata": {},
     "output_type": "execute_result"
    }
   ],
   "source": [
    "yhat = net(x)\n",
    "yhat.shape"
   ]
  },
  {
   "cell_type": "code",
   "execution_count": 340,
   "metadata": {
    "ExecuteTime": {
     "end_time": "2020-08-16T05:34:21.580235Z",
     "start_time": "2020-08-16T05:34:21.515743Z"
    },
    "scrolled": true
   },
   "outputs": [
    {
     "data": {
      "text/plain": [
       "(torch.float32, torch.int64)"
      ]
     },
     "execution_count": 340,
     "metadata": {},
     "output_type": "execute_result"
    }
   ],
   "source": [
    "yhat.dtype, y.dtype"
   ]
  },
  {
   "cell_type": "code",
   "execution_count": 351,
   "metadata": {
    "ExecuteTime": {
     "end_time": "2020-08-16T05:36:34.353591Z",
     "start_time": "2020-08-16T05:36:34.273734Z"
    }
   },
   "outputs": [],
   "source": [
    "module = UnmixerPL(net, loss=F.cross_entropy)"
   ]
  },
  {
   "cell_type": "code",
   "execution_count": 352,
   "metadata": {
    "ExecuteTime": {
     "end_time": "2020-08-16T05:36:38.184952Z",
     "start_time": "2020-08-16T05:36:36.500114Z"
    }
   },
   "outputs": [
    {
     "name": "stderr",
     "output_type": "stream",
     "text": [
      "GPU available: False, used: False\n",
      "TPU available: False, using: 0 TPU cores\n",
      "\n",
      "  | Name | Type                        | Params\n",
      "-----------------------------------------------------\n",
      "0 | net  | SupervisedEncoderClassifier | 404 K \n"
     ]
    },
    {
     "data": {
      "application/vnd.jupyter.widget-view+json": {
       "model_id": "",
       "version_major": 2,
       "version_minor": 0
      },
      "text/plain": [
       "HBox(children=(FloatProgress(value=1.0, bar_style='info', description='Validation sanity check', layout=Layout…"
      ]
     },
     "metadata": {},
     "output_type": "display_data"
    },
    {
     "name": "stderr",
     "output_type": "stream",
     "text": [
      "/Users/hmamin/anaconda3/lib/python3.7/site-packages/pytorch_lightning/utilities/distributed.py:22: UserWarning: The dataloader, train dataloader, does not have many workers which may be a bottleneck. Consider increasing the value of the `num_workers` argument` (try 4 which is the number of cpus on this machine) in the `DataLoader` init to improve performance.\n",
      "  warnings.warn(*args, **kwargs)\n"
     ]
    },
    {
     "data": {
      "application/vnd.jupyter.widget-view+json": {
       "model_id": "410dba6749804592b0252b8b40ce75e4",
       "version_major": 2,
       "version_minor": 0
      },
      "text/plain": [
       "HBox(children=(FloatProgress(value=1.0, bar_style='info', description='Training', layout=Layout(flex='2'), max…"
      ]
     },
     "metadata": {},
     "output_type": "display_data"
    },
    {
     "data": {
      "application/vnd.jupyter.widget-view+json": {
       "model_id": "",
       "version_major": 2,
       "version_minor": 0
      },
      "text/plain": [
       "HBox(children=(FloatProgress(value=1.0, bar_style='info', description='Validating', layout=Layout(flex='2'), m…"
      ]
     },
     "metadata": {},
     "output_type": "display_data"
    },
    {
     "data": {
      "application/vnd.jupyter.widget-view+json": {
       "model_id": "",
       "version_major": 2,
       "version_minor": 0
      },
      "text/plain": [
       "HBox(children=(FloatProgress(value=1.0, bar_style='info', description='Validating', layout=Layout(flex='2'), m…"
      ]
     },
     "metadata": {},
     "output_type": "display_data"
    },
    {
     "data": {
      "application/vnd.jupyter.widget-view+json": {
       "model_id": "",
       "version_major": 2,
       "version_minor": 0
      },
      "text/plain": [
       "HBox(children=(FloatProgress(value=1.0, bar_style='info', description='Validating', layout=Layout(flex='2'), m…"
      ]
     },
     "metadata": {},
     "output_type": "display_data"
    },
    {
     "data": {
      "application/vnd.jupyter.widget-view+json": {
       "model_id": "",
       "version_major": 2,
       "version_minor": 0
      },
      "text/plain": [
       "HBox(children=(FloatProgress(value=1.0, bar_style='info', description='Validating', layout=Layout(flex='2'), m…"
      ]
     },
     "metadata": {},
     "output_type": "display_data"
    },
    {
     "data": {
      "application/vnd.jupyter.widget-view+json": {
       "model_id": "",
       "version_major": 2,
       "version_minor": 0
      },
      "text/plain": [
       "HBox(children=(FloatProgress(value=1.0, bar_style='info', description='Validating', layout=Layout(flex='2'), m…"
      ]
     },
     "metadata": {},
     "output_type": "display_data"
    },
    {
     "name": "stdout",
     "output_type": "stream",
     "text": [
      "\n"
     ]
    },
    {
     "data": {
      "text/plain": [
       "1"
      ]
     },
     "execution_count": 352,
     "metadata": {},
     "output_type": "execute_result"
    }
   ],
   "source": [
    "t = pl.Trainer(max_epochs=5, overfit_batches=1)\n",
    "t.fit(module, sdata)"
   ]
  },
  {
   "cell_type": "code",
   "execution_count": 355,
   "metadata": {
    "ExecuteTime": {
     "end_time": "2020-08-16T05:36:53.571455Z",
     "start_time": "2020-08-16T05:36:53.276145Z"
    }
   },
   "outputs": [
    {
     "data": {
      "text/plain": [
       "<matplotlib.axes._subplots.AxesSubplot at 0x1a4b1a2748>"
      ]
     },
     "execution_count": 355,
     "metadata": {},
     "output_type": "execute_result"
    },
    {
     "data": {
      "image/png": "[encoded data removed]",
      "text/plain": [
       "<Figure size 288x288 with 1 Axes>"
      ]
     },
     "metadata": {
      "needs_background": "light"
     },
     "output_type": "display_data"
    }
   ],
   "source": [
    "show_image(x[0])"
   ]
  },
  {
   "cell_type": "code",
   "execution_count": 356,
   "metadata": {
    "ExecuteTime": {
     "end_time": "2020-08-16T05:37:22.835376Z",
     "start_time": "2020-08-16T05:37:22.725338Z"
    }
   },
   "outputs": [],
   "source": [
    "with torch.no_grad():\n",
    "    yhat = net(x)"
   ]
  },
  {
   "cell_type": "code",
   "execution_count": 360,
   "metadata": {
    "ExecuteTime": {
     "end_time": "2020-08-16T05:38:00.945208Z",
     "start_time": "2020-08-16T05:38:00.863965Z"
    }
   },
   "outputs": [
    {
     "data": {
      "text/plain": [
       "tensor([18, 18])"
      ]
     },
     "execution_count": 360,
     "metadata": {},
     "output_type": "execute_result"
    }
   ],
   "source": [
    "F.softmax(yhat, dim=-1).argmax(-1)"
   ]
  },
  {
   "cell_type": "code",
   "execution_count": 361,
   "metadata": {
    "ExecuteTime": {
     "end_time": "2020-08-16T05:38:10.836184Z",
     "start_time": "2020-08-16T05:38:10.741818Z"
    }
   },
   "outputs": [
    {
     "data": {
      "text/plain": [
       "tensor([0, 0])"
      ]
     },
     "execution_count": 361,
     "metadata": {},
     "output_type": "execute_result"
    }
   ],
   "source": [
    "y"
   ]
  },
  {
   "cell_type": "markdown",
   "metadata": {},
   "source": [
    "## Incendio\n",
    "\n",
    "Supervised problem. Finally works on small subset!"
   ]
  },
  {
   "cell_type": "code",
   "execution_count": 4,
   "metadata": {
    "ExecuteTime": {
     "end_time": "2020-08-17T04:11:54.177392Z",
     "start_time": "2020-08-17T04:11:54.079238Z"
    }
   },
   "outputs": [],
   "source": [
    "from copy import copy\n",
    "\n",
    "from incendio.core import Trainer"
   ]
  },
  {
   "cell_type": "code",
   "execution_count": 434,
   "metadata": {
    "ExecuteTime": {
     "end_time": "2020-08-16T06:12:42.311085Z",
     "start_time": "2020-08-16T06:12:42.199296Z"
    }
   },
   "outputs": [],
   "source": [
    "def ds_subset(ds, n, random=False, attr='samples'):\n",
    "    ds = copy(ds)\n",
    "    samples = getattr(ds, attr)\n",
    "    setattr(ds, attr, [samples[i] for i in np.random.randint(0, len(ds), n)] \\\n",
    "            if random else samples[:n])\n",
    "    return ds"
   ]
  },
  {
   "cell_type": "code",
   "execution_count": 437,
   "metadata": {
    "ExecuteTime": {
     "end_time": "2020-08-16T06:14:45.544330Z",
     "start_time": "2020-08-16T06:14:45.440633Z"
    }
   },
   "outputs": [
    {
     "data": {
      "text/plain": [
       "Dataset ImageFolder\n",
       "    Number of datapoints: 40\n",
       "    Root location: data/imagewang-160/train\n",
       "    StandardTransform\n",
       "Transform: Compose(\n",
       "               RandomResizedCrop(size=(128, 128), scale=(0.9, 1.0), ratio=(0.75, 1.3333), interpolation=PIL.Image.BILINEAR)\n",
       "               RandomHorizontalFlip(p=0.5)\n",
       "               RandomRotation(degrees=(-10, 10), resample=False, expand=False)\n",
       "               ToTensor()\n",
       "           )"
      ]
     },
     "execution_count": 437,
     "metadata": {},
     "output_type": "execute_result"
    }
   ],
   "source": [
    "dst = ds_subset(sdata.ds_train, 40, True)\n",
    "dsv = ds_subset(sdata.ds_val, 4, True)\n",
    "dst"
   ]
  },
  {
   "cell_type": "code",
   "execution_count": 438,
   "metadata": {
    "ExecuteTime": {
     "end_time": "2020-08-16T06:15:08.072704Z",
     "start_time": "2020-08-16T06:15:07.975589Z"
    }
   },
   "outputs": [],
   "source": [
    "train_bs, val_bs = 8, 4\n",
    "# No shuffling for debugging purposes.\n",
    "dlt = DataLoader(dst, batch_size=train_bs, shuffle=False)\n",
    "dlv = DataLoader(dsv, batch_size=val_bs, shuffle=False)"
   ]
  },
  {
   "cell_type": "code",
   "execution_count": 439,
   "metadata": {
    "ExecuteTime": {
     "end_time": "2020-08-16T06:15:10.234350Z",
     "start_time": "2020-08-16T06:15:10.033059Z"
    }
   },
   "outputs": [
    {
     "name": "stdout",
     "output_type": "stream",
     "text": [
      "[torch.Size([8, 3, 128, 128]), torch.Size([8])] tensor([14, 15,  8, 17, 14,  0,  1,  8])\n",
      "[torch.Size([8, 3, 128, 128]), torch.Size([8])] tensor([16, 15,  8, 14, 14, 12, 14, 13])\n",
      "[torch.Size([8, 3, 128, 128]), torch.Size([8])] tensor([ 8, 13, 18,  8,  8, 15, 13,  0])\n",
      "[torch.Size([8, 3, 128, 128]), torch.Size([8])] tensor([18, 16, 15, 18, 11, 14, 14, 15])\n",
      "[torch.Size([8, 3, 128, 128]), torch.Size([8])] tensor([10, 17, 15, 15, 12,  0, 14, 14])\n"
     ]
    }
   ],
   "source": [
    "for *x, y in dlt:\n",
    "    print(smap(*x, y), y)"
   ]
  },
  {
   "cell_type": "code",
   "execution_count": 440,
   "metadata": {
    "ExecuteTime": {
     "end_time": "2020-08-16T06:15:16.678588Z",
     "start_time": "2020-08-16T06:15:16.617291Z"
    }
   },
   "outputs": [],
   "source": [
    "net = SupervisedEncoderClassifier()"
   ]
  },
  {
   "cell_type": "code",
   "execution_count": 441,
   "metadata": {
    "ExecuteTime": {
     "end_time": "2020-08-16T06:15:17.062779Z",
     "start_time": "2020-08-16T06:15:17.002246Z"
    }
   },
   "outputs": [],
   "source": [
    "t = Trainer(net, dst, dsv, dlt, dlv, F.cross_entropy, 'multiclass', \n",
    "            'data/models/v0')"
   ]
  },
  {
   "cell_type": "code",
   "execution_count": 442,
   "metadata": {
    "ExecuteTime": {
     "end_time": "2020-08-16T06:15:39.828745Z",
     "start_time": "2020-08-16T06:15:18.604079Z"
    }
   },
   "outputs": [
    {
     "name": "stdout",
     "output_type": "stream",
     "text": [
      "2020-08-15 23:15:18,657 [INFO]: Adam (\n",
      "Parameter Group 0\n",
      "    amsgrad: False\n",
      "    betas: (0.9, 0.999)\n",
      "    eps: 0.001\n",
      "    lr: 0.003\n",
      "    weight_decay: 0\n",
      ")\n"
     ]
    },
    {
     "data": {
      "application/vnd.jupyter.widget-view+json": {
       "model_id": "80a3f2be39174fe09230606c72ad1dd0",
       "version_major": 2,
       "version_minor": 0
      },
      "text/plain": [
       "HBox(children=(FloatProgress(value=0.0, max=5.0), HTML(value='')))"
      ]
     },
     "metadata": {},
     "output_type": "display_data"
    },
    {
     "name": "stdout",
     "output_type": "stream",
     "text": [
      "\n"
     ]
    },
    {
     "data": {
      "application/vnd.jupyter.widget-view+json": {
       "model_id": "c088cc14dc3040bcae8166cd815fea02",
       "version_major": 2,
       "version_minor": 0
      },
      "text/plain": [
       "HBox(children=(FloatProgress(value=0.0, max=1.0), HTML(value='')))"
      ]
     },
     "metadata": {},
     "output_type": "display_data"
    },
    {
     "name": "stdout",
     "output_type": "stream",
     "text": [
      "\n",
      "\n",
      "2020-08-15 23:15:20,367\n",
      " \n",
      "=====\n",
      "\n",
      "Epoch 0\n",
      "\n",
      "| Metric   |   Train |   Validation |\n",
      "|----------|---------|--------------|\n",
      "| loss     |  3.5978 |       3.0423 |\n",
      "\n",
      "=====\n"
     ]
    },
    {
     "data": {
      "application/vnd.jupyter.widget-view+json": {
       "model_id": "3bbcbe4f039342bbae1d5e04279db612",
       "version_major": 2,
       "version_minor": 0
      },
      "text/plain": [
       "HBox(children=(FloatProgress(value=0.0, max=5.0), HTML(value='')))"
      ]
     },
     "metadata": {},
     "output_type": "display_data"
    },
    {
     "name": "stdout",
     "output_type": "stream",
     "text": [
      "\n"
     ]
    },
    {
     "data": {
      "application/vnd.jupyter.widget-view+json": {
       "model_id": "653a1fd5562f4fb9891a21120732363b",
       "version_major": 2,
       "version_minor": 0
      },
      "text/plain": [
       "HBox(children=(FloatProgress(value=0.0, max=1.0), HTML(value='')))"
      ]
     },
     "metadata": {},
     "output_type": "display_data"
    },
    {
     "name": "stdout",
     "output_type": "stream",
     "text": [
      "\n",
      "\n",
      "2020-08-15 23:15:22,601\n",
      " \n",
      "=====\n",
      "\n",
      "Epoch 1\n",
      "\n",
      "| Metric   |   Train |   Validation |\n",
      "|----------|---------|--------------|\n",
      "| loss     |  2.0457 |       4.7251 |\n",
      "\n",
      "=====\n"
     ]
    },
    {
     "data": {
      "application/vnd.jupyter.widget-view+json": {
       "model_id": "6f3cb7d8eede48729e503fcb339f0723",
       "version_major": 2,
       "version_minor": 0
      },
      "text/plain": [
       "HBox(children=(FloatProgress(value=0.0, max=5.0), HTML(value='')))"
      ]
     },
     "metadata": {},
     "output_type": "display_data"
    },
    {
     "name": "stdout",
     "output_type": "stream",
     "text": [
      "\n"
     ]
    },
    {
     "data": {
      "application/vnd.jupyter.widget-view+json": {
       "model_id": "30c5c8efeb62471ba797dccba0753a48",
       "version_major": 2,
       "version_minor": 0
      },
      "text/plain": [
       "HBox(children=(FloatProgress(value=0.0, max=1.0), HTML(value='')))"
      ]
     },
     "metadata": {},
     "output_type": "display_data"
    },
    {
     "name": "stdout",
     "output_type": "stream",
     "text": [
      "\n",
      "\n",
      "2020-08-15 23:15:24,867\n",
      " \n",
      "=====\n",
      "\n",
      "Epoch 2\n",
      "\n",
      "| Metric   |   Train |   Validation |\n",
      "|----------|---------|--------------|\n",
      "| loss     |  1.5868 |       5.0436 |\n",
      "\n",
      "=====\n"
     ]
    },
    {
     "data": {
      "application/vnd.jupyter.widget-view+json": {
       "model_id": "96eb4faaeccd4a78b7ce161f161d03bd",
       "version_major": 2,
       "version_minor": 0
      },
      "text/plain": [
       "HBox(children=(FloatProgress(value=0.0, max=5.0), HTML(value='')))"
      ]
     },
     "metadata": {},
     "output_type": "display_data"
    },
    {
     "name": "stdout",
     "output_type": "stream",
     "text": [
      "\n"
     ]
    },
    {
     "data": {
      "application/vnd.jupyter.widget-view+json": {
       "model_id": "4efb9631ee7d459582dbe52a26fedb47",
       "version_major": 2,
       "version_minor": 0
      },
      "text/plain": [
       "HBox(children=(FloatProgress(value=0.0, max=1.0), HTML(value='')))"
      ]
     },
     "metadata": {},
     "output_type": "display_data"
    },
    {
     "name": "stdout",
     "output_type": "stream",
     "text": [
      "\n",
      "\n",
      "2020-08-15 23:15:27,515\n",
      " \n",
      "=====\n",
      "\n",
      "Epoch 3\n",
      "\n",
      "| Metric   |   Train |   Validation |\n",
      "|----------|---------|--------------|\n",
      "| loss     |  1.3469 |       4.7424 |\n",
      "\n",
      "=====\n"
     ]
    },
    {
     "data": {
      "application/vnd.jupyter.widget-view+json": {
       "model_id": "6e0a84109a074e049f42513c21f4bf71",
       "version_major": 2,
       "version_minor": 0
      },
      "text/plain": [
       "HBox(children=(FloatProgress(value=0.0, max=5.0), HTML(value='')))"
      ]
     },
     "metadata": {},
     "output_type": "display_data"
    },
    {
     "name": "stdout",
     "output_type": "stream",
     "text": [
      "\n"
     ]
    },
    {
     "data": {
      "application/vnd.jupyter.widget-view+json": {
       "model_id": "0835ecfeb2ab4160b40a195ac41de3bc",
       "version_major": 2,
       "version_minor": 0
      },
      "text/plain": [
       "HBox(children=(FloatProgress(value=0.0, max=1.0), HTML(value='')))"
      ]
     },
     "metadata": {},
     "output_type": "display_data"
    },
    {
     "name": "stdout",
     "output_type": "stream",
     "text": [
      "\n",
      "\n",
      "2020-08-15 23:15:29,797\n",
      " \n",
      "=====\n",
      "\n",
      "Epoch 4\n",
      "\n",
      "| Metric   |   Train |   Validation |\n",
      "|----------|---------|--------------|\n",
      "| loss     |  1.1580 |       4.7005 |\n",
      "\n",
      "=====\n"
     ]
    },
    {
     "data": {
      "application/vnd.jupyter.widget-view+json": {
       "model_id": "90d8b2490af24d878cd4d58123d1cee0",
       "version_major": 2,
       "version_minor": 0
      },
      "text/plain": [
       "HBox(children=(FloatProgress(value=0.0, max=5.0), HTML(value='')))"
      ]
     },
     "metadata": {},
     "output_type": "display_data"
    },
    {
     "name": "stdout",
     "output_type": "stream",
     "text": [
      "\n"
     ]
    },
    {
     "data": {
      "application/vnd.jupyter.widget-view+json": {
       "model_id": "796c74ec76604c45ae2bff6432411e0b",
       "version_major": 2,
       "version_minor": 0
      },
      "text/plain": [
       "HBox(children=(FloatProgress(value=0.0, max=1.0), HTML(value='')))"
      ]
     },
     "metadata": {},
     "output_type": "display_data"
    },
    {
     "name": "stdout",
     "output_type": "stream",
     "text": [
      "\n",
      "\n",
      "2020-08-15 23:15:31,752\n",
      " \n",
      "=====\n",
      "\n",
      "Epoch 5\n",
      "\n",
      "| Metric   |   Train |   Validation |\n",
      "|----------|---------|--------------|\n",
      "| loss     |  1.0070 |       5.0885 |\n",
      "\n",
      "=====\n"
     ]
    },
    {
     "data": {
      "application/vnd.jupyter.widget-view+json": {
       "model_id": "aa3a197c9669443397897a4aac9fc086",
       "version_major": 2,
       "version_minor": 0
      },
      "text/plain": [
       "HBox(children=(FloatProgress(value=0.0, max=5.0), HTML(value='')))"
      ]
     },
     "metadata": {},
     "output_type": "display_data"
    },
    {
     "name": "stdout",
     "output_type": "stream",
     "text": [
      "\n"
     ]
    },
    {
     "data": {
      "application/vnd.jupyter.widget-view+json": {
       "model_id": "16df5c91ce83409dbc67730b48823c85",
       "version_major": 2,
       "version_minor": 0
      },
      "text/plain": [
       "HBox(children=(FloatProgress(value=0.0, max=1.0), HTML(value='')))"
      ]
     },
     "metadata": {},
     "output_type": "display_data"
    },
    {
     "name": "stdout",
     "output_type": "stream",
     "text": [
      "\n",
      "\n",
      "2020-08-15 23:15:33,580\n",
      " \n",
      "=====\n",
      "\n",
      "Epoch 6\n",
      "\n",
      "| Metric   |   Train |   Validation |\n",
      "|----------|---------|--------------|\n",
      "| loss     |  0.7909 |       4.7962 |\n",
      "\n",
      "=====\n"
     ]
    },
    {
     "data": {
      "application/vnd.jupyter.widget-view+json": {
       "model_id": "b20e6d39273c4ccbab84fec8a04f9169",
       "version_major": 2,
       "version_minor": 0
      },
      "text/plain": [
       "HBox(children=(FloatProgress(value=0.0, max=5.0), HTML(value='')))"
      ]
     },
     "metadata": {},
     "output_type": "display_data"
    },
    {
     "name": "stdout",
     "output_type": "stream",
     "text": [
      "\n"
     ]
    },
    {
     "data": {
      "application/vnd.jupyter.widget-view+json": {
       "model_id": "888e020749c54a1eb32595194b57e144",
       "version_major": 2,
       "version_minor": 0
      },
      "text/plain": [
       "HBox(children=(FloatProgress(value=0.0, max=1.0), HTML(value='')))"
      ]
     },
     "metadata": {},
     "output_type": "display_data"
    },
    {
     "name": "stdout",
     "output_type": "stream",
     "text": [
      "\n",
      "\n",
      "2020-08-15 23:15:35,467\n",
      " \n",
      "=====\n",
      "\n",
      "Epoch 7\n",
      "\n",
      "| Metric   |   Train |   Validation |\n",
      "|----------|---------|--------------|\n",
      "| loss     |  0.7043 |       4.5786 |\n",
      "\n",
      "=====\n"
     ]
    },
    {
     "data": {
      "application/vnd.jupyter.widget-view+json": {
       "model_id": "d8cac2fabea941498d15d5d99567408d",
       "version_major": 2,
       "version_minor": 0
      },
      "text/plain": [
       "HBox(children=(FloatProgress(value=0.0, max=5.0), HTML(value='')))"
      ]
     },
     "metadata": {},
     "output_type": "display_data"
    },
    {
     "name": "stdout",
     "output_type": "stream",
     "text": [
      "\n"
     ]
    },
    {
     "data": {
      "application/vnd.jupyter.widget-view+json": {
       "model_id": "a3e494e8384e40bf97c9559060cbb1d0",
       "version_major": 2,
       "version_minor": 0
      },
      "text/plain": [
       "HBox(children=(FloatProgress(value=0.0, max=1.0), HTML(value='')))"
      ]
     },
     "metadata": {},
     "output_type": "display_data"
    },
    {
     "name": "stdout",
     "output_type": "stream",
     "text": [
      "\n",
      "\n",
      "2020-08-15 23:15:37,684\n",
      " \n",
      "=====\n",
      "\n",
      "Epoch 8\n",
      "\n",
      "| Metric   |   Train |   Validation |\n",
      "|----------|---------|--------------|\n",
      "| loss     |  0.5834 |       6.2987 |\n",
      "\n",
      "=====\n"
     ]
    },
    {
     "data": {
      "application/vnd.jupyter.widget-view+json": {
       "model_id": "dc3f388808754d739b65f22020b585b4",
       "version_major": 2,
       "version_minor": 0
      },
      "text/plain": [
       "HBox(children=(FloatProgress(value=0.0, max=5.0), HTML(value='')))"
      ]
     },
     "metadata": {},
     "output_type": "display_data"
    },
    {
     "name": "stdout",
     "output_type": "stream",
     "text": [
      "\n"
     ]
    },
    {
     "data": {
      "application/vnd.jupyter.widget-view+json": {
       "model_id": "838b188a463246b09e23a01b92ab5a11",
       "version_major": 2,
       "version_minor": 0
      },
      "text/plain": [
       "HBox(children=(FloatProgress(value=0.0, max=1.0), HTML(value='')))"
      ]
     },
     "metadata": {},
     "output_type": "display_data"
    },
    {
     "name": "stdout",
     "output_type": "stream",
     "text": [
      "\n",
      "\n",
      "2020-08-15 23:15:39,805\n",
      " \n",
      "=====\n",
      "\n",
      "Epoch 9\n",
      "\n",
      "| Metric   |   Train |   Validation |\n",
      "|----------|---------|--------------|\n",
      "| loss     |  0.5468 |       5.8891 |\n",
      "\n",
      "=====\n",
      "\n",
      "2020-08-15 23:15:39,820\n",
      " Training complete. Model in eval mode.\n"
     ]
    }
   ],
   "source": [
    "t.fit(10)"
   ]
  },
  {
   "cell_type": "code",
   "execution_count": 443,
   "metadata": {
    "ExecuteTime": {
     "end_time": "2020-08-16T06:15:45.491068Z",
     "start_time": "2020-08-16T06:15:45.382078Z"
    }
   },
   "outputs": [
    {
     "data": {
      "text/plain": [
       "[torch.Size([8, 3, 128, 128]), torch.Size([8])]"
      ]
     },
     "execution_count": 443,
     "metadata": {},
     "output_type": "execute_result"
    }
   ],
   "source": [
    "*x, y = next(iter(dlt))\n",
    "smap(*x, y)"
   ]
  },
  {
   "cell_type": "code",
   "execution_count": 444,
   "metadata": {
    "ExecuteTime": {
     "end_time": "2020-08-16T06:15:47.280836Z",
     "start_time": "2020-08-16T06:15:47.203185Z"
    }
   },
   "outputs": [
    {
     "data": {
      "text/plain": [
       "tensor([14, 15,  8, 17, 14,  0,  1,  8])"
      ]
     },
     "execution_count": 444,
     "metadata": {},
     "output_type": "execute_result"
    }
   ],
   "source": [
    "y"
   ]
  },
  {
   "cell_type": "code",
   "execution_count": 446,
   "metadata": {
    "ExecuteTime": {
     "end_time": "2020-08-16T06:16:16.624306Z",
     "start_time": "2020-08-16T06:16:16.396984Z"
    }
   },
   "outputs": [
    {
     "data": {
      "text/plain": [
       "tensor([14, 15, 18, 15, 14,  0, 12,  8])"
      ]
     },
     "execution_count": 446,
     "metadata": {},
     "output_type": "execute_result"
    }
   ],
   "source": [
    "F.softmax(net(*x), dim=-1).argmax(-1)"
   ]
  },
  {
   "cell_type": "code",
   "execution_count": 447,
   "metadata": {
    "ExecuteTime": {
     "end_time": "2020-08-16T06:16:20.445031Z",
     "start_time": "2020-08-16T06:16:20.244864Z"
    }
   },
   "outputs": [
    {
     "data": {
      "text/plain": [
       "tensor(1.0842, grad_fn=<NllLossBackward>)"
      ]
     },
     "execution_count": 447,
     "metadata": {},
     "output_type": "execute_result"
    }
   ],
   "source": [
    "F.cross_entropy(net(*x), y)"
   ]
  },
  {
   "cell_type": "markdown",
   "metadata": {},
   "source": [
    "## Incendio - Unsupervised Scale Dataset (multi-label classification)\n",
    "\n",
    "Use new classification mode to try out scale dataset unsupervised task."
   ]
  },
  {
   "cell_type": "code",
   "execution_count": 5,
   "metadata": {
    "ExecuteTime": {
     "end_time": "2020-08-17T04:12:08.929864Z",
     "start_time": "2020-08-17T04:12:08.805288Z"
    }
   },
   "outputs": [],
   "source": [
    "from img_wang.models import MLPHead\n",
    "from incendio.callbacks import MetricHistory"
   ]
  },
  {
   "cell_type": "code",
   "execution_count": 99,
   "metadata": {
    "ExecuteTime": {
     "end_time": "2020-08-18T05:34:36.036210Z",
     "start_time": "2020-08-18T05:34:35.761484Z"
    }
   },
   "outputs": [
    {
     "data": {
      "text/plain": [
       "[3, 3, 1, 1]"
      ]
     },
     "execution_count": 99,
     "metadata": {},
     "output_type": "execute_result"
    }
   ],
   "source": [
    "dst, dsv, dlt, dlv = get_databunch('data/imagewang-160/unsup', mode='scale', \n",
    "                                   bs=3, train_pct=.5, max_train_len=3,\n",
    "                                   max_val_len=3, regression=False)\n",
    "lmap(len, dst, dsv, dlt, dlv)"
   ]
  },
  {
   "cell_type": "code",
   "execution_count": 100,
   "metadata": {
    "ExecuteTime": {
     "end_time": "2020-08-18T05:34:36.476089Z",
     "start_time": "2020-08-18T05:34:36.338527Z"
    }
   },
   "outputs": [
    {
     "data": {
      "text/plain": [
       "[torch.Size([3, 128, 128]),\n",
       " torch.Size([3, 128, 128]),\n",
       " torch.Size([3, 128, 128]),\n",
       " torch.Size([3, 128, 128]),\n",
       " torch.Size([3])]"
      ]
     },
     "execution_count": 100,
     "metadata": {},
     "output_type": "execute_result"
    }
   ],
   "source": [
    "*x, y = dst[0]\n",
    "smap(*x, y)"
   ]
  },
  {
   "cell_type": "code",
   "execution_count": 101,
   "metadata": {
    "ExecuteTime": {
     "end_time": "2020-08-18T05:34:37.607065Z",
     "start_time": "2020-08-18T05:34:37.065316Z"
    }
   },
   "outputs": [
    {
     "data": {
      "image/png": "[encoded data removed]",
      "text/plain": [
       "<Figure size 864x216 with 4 Axes>"
      ]
     },
     "metadata": {
      "needs_background": "light"
     },
     "output_type": "display_data"
    }
   ],
   "source": [
    "show_images(x, titles=['raw']+y.tolist())"
   ]
  },
  {
   "cell_type": "code",
   "execution_count": 102,
   "metadata": {
    "ExecuteTime": {
     "end_time": "2020-08-18T05:34:38.341476Z",
     "start_time": "2020-08-18T05:34:38.151035Z"
    }
   },
   "outputs": [
    {
     "data": {
      "text/plain": [
       "[torch.Size([3, 3, 128, 128]),\n",
       " torch.Size([3, 3, 128, 128]),\n",
       " torch.Size([3, 3, 128, 128]),\n",
       " torch.Size([3, 3, 128, 128]),\n",
       " torch.Size([3, 3])]"
      ]
     },
     "execution_count": 102,
     "metadata": {},
     "output_type": "execute_result"
    }
   ],
   "source": [
    "*xb, yb = next(iter(dlt))\n",
    "smap(*xb, yb)"
   ]
  },
  {
   "cell_type": "code",
   "execution_count": 108,
   "metadata": {
    "ExecuteTime": {
     "end_time": "2020-08-18T05:36:41.848421Z",
     "start_time": "2020-08-18T05:36:41.662402Z"
    }
   },
   "outputs": [],
   "source": [
    "net = Unmixer(\n",
    "    Encoder(fs=(8, 32), strides=(1, 1)),\n",
    "    MLPHead(64, last_act=None)\n",
    ")"
   ]
  },
  {
   "cell_type": "code",
   "execution_count": 109,
   "metadata": {
    "ExecuteTime": {
     "end_time": "2020-08-18T05:36:45.254002Z",
     "start_time": "2020-08-18T05:36:44.469187Z"
    }
   },
   "outputs": [
    {
     "data": {
      "text/plain": [
       "tensor([[-3.7073, -3.9519, -0.3201],\n",
       "        [-5.3125, -0.2697, -4.7882],\n",
       "        [-0.4829, -8.2100, -9.6153]], grad_fn=<SqueezeBackward1>)"
      ]
     },
     "execution_count": 109,
     "metadata": {},
     "output_type": "execute_result"
    }
   ],
   "source": [
    "net(*xb)"
   ]
  },
  {
   "cell_type": "code",
   "execution_count": 106,
   "metadata": {
    "ExecuteTime": {
     "end_time": "2020-08-18T05:35:13.667795Z",
     "start_time": "2020-08-18T05:35:13.560031Z"
    }
   },
   "outputs": [
    {
     "name": "stderr",
     "output_type": "stream",
     "text": [
      "/Users/hmamin/anaconda3/lib/python3.7/site-packages/incendio/core.py:236: UserWarning: Last activation is None for a classification problem. This means your network must include a sigmoid or softmax at the end if you wish to compute any metrics using soft predictions.\n",
      "  'Last activation is None for a classification problem. This '\n"
     ]
    }
   ],
   "source": [
    "t = Trainer(net, dst, dsv, dlt, dlv, F.binary_cross_entropy_with_logits,\n",
    "            'binary', 'data/models/v0', callbacks=[MetricHistory()])"
   ]
  },
  {
   "cell_type": "code",
   "execution_count": 107,
   "metadata": {
    "ExecuteTime": {
     "end_time": "2020-08-18T05:36:13.912359Z",
     "start_time": "2020-08-18T05:35:22.657221Z"
    }
   },
   "outputs": [
    {
     "name": "stdout",
     "output_type": "stream",
     "text": [
      "2020-08-17 22:35:22,767 [INFO]: Adam (\n",
      "Parameter Group 0\n",
      "    amsgrad: False\n",
      "    betas: (0.9, 0.999)\n",
      "    eps: 0.001\n",
      "    lr: 0.003\n",
      "    weight_decay: 0\n",
      ")\n"
     ]
    },
    {
     "data": {
      "application/vnd.jupyter.widget-view+json": {
       "model_id": "62f9e4972faf44329fd79585779e7982",
       "version_major": 2,
       "version_minor": 0
      },
      "text/plain": [
       "HBox(children=(FloatProgress(value=0.0, max=1.0), HTML(value='')))"
      ]
     },
     "metadata": {},
     "output_type": "display_data"
    },
    {
     "name": "stdout",
     "output_type": "stream",
     "text": [
      "\n"
     ]
    },
    {
     "data": {
      "application/vnd.jupyter.widget-view+json": {
       "model_id": "4d36b8af66494d51bbb060dc672b9d61",
       "version_major": 2,
       "version_minor": 0
      },
      "text/plain": [
       "HBox(children=(FloatProgress(value=0.0, max=1.0), HTML(value='')))"
      ]
     },
     "metadata": {},
     "output_type": "display_data"
    },
    {
     "name": "stdout",
     "output_type": "stream",
     "text": [
      "\n",
      "\n",
      "2020-08-17 22:35:29,102\n",
      " \n",
      "=====\n",
      "\n",
      "Epoch 0\n",
      "\n",
      "| Metric   |   Train |   Validation |\n",
      "|----------|---------|--------------|\n",
      "| loss     |  0.5553 |       0.6879 |\n",
      "\n",
      "=====\n"
     ]
    },
    {
     "data": {
      "application/vnd.jupyter.widget-view+json": {
       "model_id": "94b935f6b28246b7a0b45073fa4eac30",
       "version_major": 2,
       "version_minor": 0
      },
      "text/plain": [
       "HBox(children=(FloatProgress(value=0.0, max=1.0), HTML(value='')))"
      ]
     },
     "metadata": {},
     "output_type": "display_data"
    },
    {
     "name": "stdout",
     "output_type": "stream",
     "text": [
      "\n"
     ]
    },
    {
     "data": {
      "application/vnd.jupyter.widget-view+json": {
       "model_id": "590d3185c6af432db3f854d58773baa0",
       "version_major": 2,
       "version_minor": 0
      },
      "text/plain": [
       "HBox(children=(FloatProgress(value=0.0, max=1.0), HTML(value='')))"
      ]
     },
     "metadata": {},
     "output_type": "display_data"
    },
    {
     "name": "stdout",
     "output_type": "stream",
     "text": [
      "\n",
      "\n",
      "2020-08-17 22:35:35,555\n",
      " \n",
      "=====\n",
      "\n",
      "Epoch 1\n",
      "\n",
      "| Metric   |   Train |   Validation |\n",
      "|----------|---------|--------------|\n",
      "| loss     |  0.1827 |       0.6568 |\n",
      "\n",
      "=====\n"
     ]
    },
    {
     "data": {
      "application/vnd.jupyter.widget-view+json": {
       "model_id": "3c6b15a3d0d44c53948ddd0d9a4134d8",
       "version_major": 2,
       "version_minor": 0
      },
      "text/plain": [
       "HBox(children=(FloatProgress(value=0.0, max=1.0), HTML(value='')))"
      ]
     },
     "metadata": {},
     "output_type": "display_data"
    },
    {
     "name": "stdout",
     "output_type": "stream",
     "text": [
      "\n"
     ]
    },
    {
     "data": {
      "application/vnd.jupyter.widget-view+json": {
       "model_id": "632b18662b9142a8a67cd9402713e79f",
       "version_major": 2,
       "version_minor": 0
      },
      "text/plain": [
       "HBox(children=(FloatProgress(value=0.0, max=1.0), HTML(value='')))"
      ]
     },
     "metadata": {},
     "output_type": "display_data"
    },
    {
     "name": "stdout",
     "output_type": "stream",
     "text": [
      "\n",
      "\n",
      "2020-08-17 22:35:46,131\n",
      " \n",
      "=====\n",
      "\n",
      "Epoch 2\n",
      "\n",
      "| Metric   |   Train |   Validation |\n",
      "|----------|---------|--------------|\n",
      "| loss     |  0.0694 |       0.5182 |\n",
      "\n",
      "=====\n"
     ]
    },
    {
     "data": {
      "application/vnd.jupyter.widget-view+json": {
       "model_id": "21664cafc5f44eb2b6f67fd54042dcbc",
       "version_major": 2,
       "version_minor": 0
      },
      "text/plain": [
       "HBox(children=(FloatProgress(value=0.0, max=1.0), HTML(value='')))"
      ]
     },
     "metadata": {},
     "output_type": "display_data"
    },
    {
     "name": "stdout",
     "output_type": "stream",
     "text": [
      "\n"
     ]
    },
    {
     "data": {
      "application/vnd.jupyter.widget-view+json": {
       "model_id": "1e8f5ae15f9f454584b741e029a2d5e5",
       "version_major": 2,
       "version_minor": 0
      },
      "text/plain": [
       "HBox(children=(FloatProgress(value=0.0, max=1.0), HTML(value='')))"
      ]
     },
     "metadata": {},
     "output_type": "display_data"
    },
    {
     "name": "stdout",
     "output_type": "stream",
     "text": [
      "\n",
      "\n",
      "2020-08-17 22:35:54,211\n",
      " \n",
      "=====\n",
      "\n",
      "Epoch 3\n",
      "\n",
      "| Metric   |   Train |   Validation |\n",
      "|----------|---------|--------------|\n",
      "| loss     |  0.0437 |       0.2933 |\n",
      "\n",
      "=====\n"
     ]
    },
    {
     "data": {
      "application/vnd.jupyter.widget-view+json": {
       "model_id": "bb9f22aab299453e888fb1a8a56a975c",
       "version_major": 2,
       "version_minor": 0
      },
      "text/plain": [
       "HBox(children=(FloatProgress(value=0.0, max=1.0), HTML(value='')))"
      ]
     },
     "metadata": {},
     "output_type": "display_data"
    },
    {
     "name": "stdout",
     "output_type": "stream",
     "text": [
      "\n"
     ]
    },
    {
     "data": {
      "application/vnd.jupyter.widget-view+json": {
       "model_id": "17411ae2bc0f4d29ad15efea5f7db1ef",
       "version_major": 2,
       "version_minor": 0
      },
      "text/plain": [
       "HBox(children=(FloatProgress(value=0.0, max=1.0), HTML(value='')))"
      ]
     },
     "metadata": {},
     "output_type": "display_data"
    },
    {
     "name": "stdout",
     "output_type": "stream",
     "text": [
      "\n",
      "\n",
      "2020-08-17 22:36:02,182\n",
      " \n",
      "=====\n",
      "\n",
      "Epoch 4\n",
      "\n",
      "| Metric   |   Train |   Validation |\n",
      "|----------|---------|--------------|\n",
      "| loss     |  0.0211 |       0.1180 |\n",
      "\n",
      "=====\n"
     ]
    },
    {
     "data": {
      "application/vnd.jupyter.widget-view+json": {
       "model_id": "6f7baaa644674cf7b0e8586a2d4c7b6c",
       "version_major": 2,
       "version_minor": 0
      },
      "text/plain": [
       "HBox(children=(FloatProgress(value=0.0, max=1.0), HTML(value='')))"
      ]
     },
     "metadata": {},
     "output_type": "display_data"
    },
    {
     "name": "stdout",
     "output_type": "stream",
     "text": [
      "\n"
     ]
    },
    {
     "data": {
      "application/vnd.jupyter.widget-view+json": {
       "model_id": "3909e0422e494108bd9766ab9335a54e",
       "version_major": 2,
       "version_minor": 0
      },
      "text/plain": [
       "HBox(children=(FloatProgress(value=0.0, max=1.0), HTML(value='')))"
      ]
     },
     "metadata": {},
     "output_type": "display_data"
    },
    {
     "name": "stdout",
     "output_type": "stream",
     "text": [
      "\n",
      "\n",
      "2020-08-17 22:36:08,959\n",
      " \n",
      "=====\n",
      "\n",
      "Epoch 5\n",
      "\n",
      "| Metric   |   Train |   Validation |\n",
      "|----------|---------|--------------|\n",
      "| loss     |  0.0091 |       0.0430 |\n",
      "\n",
      "=====\n"
     ]
    },
    {
     "data": {
      "application/vnd.jupyter.widget-view+json": {
       "model_id": "704147c162234f599be5b1ebbf910b14",
       "version_major": 2,
       "version_minor": 0
      },
      "text/plain": [
       "HBox(children=(FloatProgress(value=0.0, max=1.0), HTML(value='')))"
      ]
     },
     "metadata": {},
     "output_type": "display_data"
    },
    {
     "name": "stdout",
     "output_type": "stream",
     "text": [
      "\n",
      "\n",
      "2020-08-17 22:36:13,833\n",
      " Stop training due to KeyboardInterrupt.\n",
      "\n",
      "2020-08-17 22:36:13,834\n",
      " Training complete. Model in eval mode.\n"
     ]
    },
    {
     "ename": "TypeError",
     "evalue": "on_train_end() takes 4 positional arguments but 5 were given",
     "output_type": "error",
     "traceback": [
      "\u001b[0;31m---------------------------------------------------------------------------\u001b[0m",
      "\u001b[0;31mKeyboardInterrupt\u001b[0m                         Traceback (most recent call last)",
      "\u001b[0;32m~/anaconda3/lib/python3.7/site-packages/incendio/core.py\u001b[0m in \u001b[0;36mwrapper\u001b[0;34m(*args, **kwargs)\u001b[0m\n\u001b[1;32m    128\u001b[0m         \u001b[0;32mtry\u001b[0m\u001b[0;34m:\u001b[0m\u001b[0;34m\u001b[0m\u001b[0;34m\u001b[0m\u001b[0m\n\u001b[0;32m--> 129\u001b[0;31m             \u001b[0mres\u001b[0m \u001b[0;34m=\u001b[0m \u001b[0mmeth\u001b[0m\u001b[0;34m(\u001b[0m\u001b[0;34m*\u001b[0m\u001b[0margs\u001b[0m\u001b[0;34m,\u001b[0m \u001b[0;34m**\u001b[0m\u001b[0mkwargs\u001b[0m\u001b[0;34m)\u001b[0m\u001b[0;34m\u001b[0m\u001b[0;34m\u001b[0m\u001b[0m\n\u001b[0m\u001b[1;32m    130\u001b[0m         \u001b[0;32mexcept\u001b[0m \u001b[0mKeyboardInterrupt\u001b[0m\u001b[0;34m:\u001b[0m\u001b[0;34m\u001b[0m\u001b[0;34m\u001b[0m\u001b[0m\n",
      "\u001b[0;32m~/anaconda3/lib/python3.7/site-packages/incendio/core.py\u001b[0m in \u001b[0;36mfit\u001b[0;34m(self, epochs, lrs, lr_mult, **kwargs)\u001b[0m\n\u001b[1;32m    437\u001b[0m                 \u001b[0;32mif\u001b[0m \u001b[0mself\u001b[0m\u001b[0;34m.\u001b[0m\u001b[0mdecide_stop\u001b[0m\u001b[0;34m(\u001b[0m\u001b[0;34m'after_loss'\u001b[0m\u001b[0;34m,\u001b[0m \u001b[0mi\u001b[0m\u001b[0;34m,\u001b[0m \u001b[0msum_i\u001b[0m\u001b[0;34m)\u001b[0m\u001b[0;34m:\u001b[0m \u001b[0;32mbreak\u001b[0m\u001b[0;34m\u001b[0m\u001b[0;34m\u001b[0m\u001b[0m\n\u001b[0;32m--> 438\u001b[0;31m                 \u001b[0mloss\u001b[0m\u001b[0;34m.\u001b[0m\u001b[0mbackward\u001b[0m\u001b[0;34m(\u001b[0m\u001b[0;34m)\u001b[0m\u001b[0;34m\u001b[0m\u001b[0;34m\u001b[0m\u001b[0m\n\u001b[0m\u001b[1;32m    439\u001b[0m                 \u001b[0;32mif\u001b[0m \u001b[0mself\u001b[0m\u001b[0;34m.\u001b[0m\u001b[0mdecide_stop\u001b[0m\u001b[0;34m(\u001b[0m\u001b[0;34m'after_backward'\u001b[0m\u001b[0;34m,\u001b[0m \u001b[0mi\u001b[0m\u001b[0;34m,\u001b[0m \u001b[0msum_i\u001b[0m\u001b[0;34m)\u001b[0m\u001b[0;34m:\u001b[0m \u001b[0;32mbreak\u001b[0m\u001b[0;34m\u001b[0m\u001b[0;34m\u001b[0m\u001b[0m\n",
      "\u001b[0;32m~/anaconda3/lib/python3.7/site-packages/torch/tensor.py\u001b[0m in \u001b[0;36mbackward\u001b[0;34m(self, gradient, retain_graph, create_graph)\u001b[0m\n\u001b[1;32m    184\u001b[0m         \"\"\"\n\u001b[0;32m--> 185\u001b[0;31m         \u001b[0mtorch\u001b[0m\u001b[0;34m.\u001b[0m\u001b[0mautograd\u001b[0m\u001b[0;34m.\u001b[0m\u001b[0mbackward\u001b[0m\u001b[0;34m(\u001b[0m\u001b[0mself\u001b[0m\u001b[0;34m,\u001b[0m \u001b[0mgradient\u001b[0m\u001b[0;34m,\u001b[0m \u001b[0mretain_graph\u001b[0m\u001b[0;34m,\u001b[0m \u001b[0mcreate_graph\u001b[0m\u001b[0;34m)\u001b[0m\u001b[0;34m\u001b[0m\u001b[0;34m\u001b[0m\u001b[0m\n\u001b[0m\u001b[1;32m    186\u001b[0m \u001b[0;34m\u001b[0m\u001b[0m\n",
      "\u001b[0;32m~/anaconda3/lib/python3.7/site-packages/torch/autograd/__init__.py\u001b[0m in \u001b[0;36mbackward\u001b[0;34m(tensors, grad_tensors, retain_graph, create_graph, grad_variables)\u001b[0m\n\u001b[1;32m    126\u001b[0m         \u001b[0mtensors\u001b[0m\u001b[0;34m,\u001b[0m \u001b[0mgrad_tensors\u001b[0m\u001b[0;34m,\u001b[0m \u001b[0mretain_graph\u001b[0m\u001b[0;34m,\u001b[0m \u001b[0mcreate_graph\u001b[0m\u001b[0;34m,\u001b[0m\u001b[0;34m\u001b[0m\u001b[0;34m\u001b[0m\u001b[0m\n\u001b[0;32m--> 127\u001b[0;31m         allow_unreachable=True)  # allow_unreachable flag\n\u001b[0m\u001b[1;32m    128\u001b[0m \u001b[0;34m\u001b[0m\u001b[0m\n",
      "\u001b[0;31mKeyboardInterrupt\u001b[0m: ",
      "\nDuring handling of the above exception, another exception occurred:\n",
      "\u001b[0;31mTypeError\u001b[0m                                 Traceback (most recent call last)",
      "\u001b[0;32m<ipython-input-107-02c89fdc9dba>\u001b[0m in \u001b[0;36m<module>\u001b[0;34m\u001b[0m\n\u001b[0;32m----> 1\u001b[0;31m \u001b[0mt\u001b[0m\u001b[0;34m.\u001b[0m\u001b[0mfit\u001b[0m\u001b[0;34m(\u001b[0m\u001b[0;36m15\u001b[0m\u001b[0;34m)\u001b[0m\u001b[0;34m\u001b[0m\u001b[0;34m\u001b[0m\u001b[0m\n\u001b[0m",
      "\u001b[0;32m~/anaconda3/lib/python3.7/site-packages/incendio/core.py\u001b[0m in \u001b[0;36mwrapper\u001b[0;34m(*args, **kwargs)\u001b[0m\n\u001b[1;32m    133\u001b[0m             \u001b[0;31m# Dummy values used for epoch and stats to indicate that\u001b[0m\u001b[0;34m\u001b[0m\u001b[0;34m\u001b[0m\u001b[0;34m\u001b[0m\u001b[0m\n\u001b[1;32m    134\u001b[0m             \u001b[0;31m# training was interrupted. `fit()` method returns None.\u001b[0m\u001b[0;34m\u001b[0m\u001b[0;34m\u001b[0m\u001b[0;34m\u001b[0m\u001b[0m\n\u001b[0;32m--> 135\u001b[0;31m             \u001b[0m_\u001b[0m \u001b[0;34m=\u001b[0m \u001b[0minstance\u001b[0m\u001b[0;34m.\u001b[0m\u001b[0mdecide_stop\u001b[0m\u001b[0;34m(\u001b[0m\u001b[0;34m'on_train_end'\u001b[0m\u001b[0;34m,\u001b[0m \u001b[0;34m-\u001b[0m\u001b[0;36m1\u001b[0m\u001b[0;34m,\u001b[0m \u001b[0;34m{\u001b[0m\u001b[0;34m}\u001b[0m\u001b[0;34m,\u001b[0m \u001b[0;34m{\u001b[0m\u001b[0;34m}\u001b[0m\u001b[0;34m)\u001b[0m\u001b[0;34m\u001b[0m\u001b[0;34m\u001b[0m\u001b[0m\n\u001b[0m\u001b[1;32m    136\u001b[0m         \u001b[0;32mreturn\u001b[0m \u001b[0mres\u001b[0m\u001b[0;34m\u001b[0m\u001b[0;34m\u001b[0m\u001b[0m\n\u001b[1;32m    137\u001b[0m     \u001b[0;32mreturn\u001b[0m \u001b[0mwrapper\u001b[0m\u001b[0;34m\u001b[0m\u001b[0;34m\u001b[0m\u001b[0m\n",
      "\u001b[0;32m~/anaconda3/lib/python3.7/site-packages/incendio/core.py\u001b[0m in \u001b[0;36mdecide_stop\u001b[0;34m(self, attr, *args, **kwargs)\u001b[0m\n\u001b[1;32m    558\u001b[0m         \u001b[0;31m# Pass model object as first argument to callbacks.\u001b[0m\u001b[0;34m\u001b[0m\u001b[0;34m\u001b[0m\u001b[0;34m\u001b[0m\u001b[0m\n\u001b[1;32m    559\u001b[0m         \u001b[0;32mfor\u001b[0m \u001b[0mcb\u001b[0m \u001b[0;32min\u001b[0m \u001b[0mself\u001b[0m\u001b[0;34m.\u001b[0m\u001b[0mcallbacks\u001b[0m\u001b[0;34m.\u001b[0m\u001b[0mvalues\u001b[0m\u001b[0;34m(\u001b[0m\u001b[0;34m)\u001b[0m\u001b[0;34m:\u001b[0m\u001b[0;34m\u001b[0m\u001b[0;34m\u001b[0m\u001b[0m\n\u001b[0;32m--> 560\u001b[0;31m             \u001b[0mgetattr\u001b[0m\u001b[0;34m(\u001b[0m\u001b[0mcb\u001b[0m\u001b[0;34m,\u001b[0m \u001b[0mattr\u001b[0m\u001b[0;34m)\u001b[0m\u001b[0;34m(\u001b[0m\u001b[0mself\u001b[0m\u001b[0;34m,\u001b[0m \u001b[0;34m*\u001b[0m\u001b[0margs\u001b[0m\u001b[0;34m,\u001b[0m \u001b[0;34m**\u001b[0m\u001b[0mkwargs\u001b[0m\u001b[0;34m)\u001b[0m\u001b[0;34m\u001b[0m\u001b[0;34m\u001b[0m\u001b[0m\n\u001b[0m\u001b[1;32m    561\u001b[0m         \u001b[0;32mreturn\u001b[0m \u001b[0mself\u001b[0m\u001b[0;34m.\u001b[0m\u001b[0m_stop_training\u001b[0m\u001b[0;34m\u001b[0m\u001b[0;34m\u001b[0m\u001b[0m\n\u001b[1;32m    562\u001b[0m \u001b[0;34m\u001b[0m\u001b[0m\n",
      "\u001b[0;31mTypeError\u001b[0m: on_train_end() takes 4 positional arguments but 5 were given"
     ]
    }
   ],
   "source": [
    "# t.fit(5)"
   ]
  },
  {
   "cell_type": "code",
   "execution_count": 26,
   "metadata": {
    "ExecuteTime": {
     "end_time": "2020-08-17T04:19:03.013827Z",
     "start_time": "2020-08-17T04:19:02.444374Z"
    }
   },
   "outputs": [
    {
     "data": {
      "text/plain": [
       "tensor([[1.0000, 1.0000, 0.0517],\n",
       "        [1.0000, 0.0901, 1.0000],\n",
       "        [1.0000, 0.9986, 0.1756]], grad_fn=<SigmoidBackward>)"
      ]
     },
     "execution_count": 26,
     "metadata": {},
     "output_type": "execute_result"
    }
   ],
   "source": [
    "torch.sigmoid(t.net(*xb))"
   ]
  },
  {
   "cell_type": "markdown",
   "metadata": {},
   "source": [
    "## Incendio - Unsupervised Scale Dataset (regression)\n",
    "\n",
    "Use new regression mode to try out scale dataset unsupervised task."
   ]
  },
  {
   "cell_type": "code",
   "execution_count": 124,
   "metadata": {
    "ExecuteTime": {
     "end_time": "2020-08-18T05:41:35.652921Z",
     "start_time": "2020-08-18T05:41:35.348351Z"
    }
   },
   "outputs": [
    {
     "data": {
      "text/plain": [
       "[3, 3, 1, 1]"
      ]
     },
     "execution_count": 124,
     "metadata": {},
     "output_type": "execute_result"
    }
   ],
   "source": [
    "dst, dsv, dlt, dlv = get_databunch('data/imagewang-160/unsup', mode='scale', \n",
    "                                   bs=3, train_pct=.5, max_train_len=3,\n",
    "                                   max_val_len=3, regression=True)\n",
    "lmap(len, dst, dsv, dlt, dlv)"
   ]
  },
  {
   "cell_type": "code",
   "execution_count": 125,
   "metadata": {
    "ExecuteTime": {
     "end_time": "2020-08-18T05:41:36.460226Z",
     "start_time": "2020-08-18T05:41:36.326103Z"
    }
   },
   "outputs": [
    {
     "data": {
      "text/plain": [
       "[torch.Size([3, 128, 128]),\n",
       " torch.Size([3, 128, 128]),\n",
       " torch.Size([3, 128, 128]),\n",
       " torch.Size([3, 128, 128]),\n",
       " torch.Size([3])]"
      ]
     },
     "execution_count": 125,
     "metadata": {},
     "output_type": "execute_result"
    }
   ],
   "source": [
    "*x, y = dst[0]\n",
    "smap(*x, y)"
   ]
  },
  {
   "cell_type": "code",
   "execution_count": 126,
   "metadata": {
    "ExecuteTime": {
     "end_time": "2020-08-18T05:41:40.007397Z",
     "start_time": "2020-08-18T05:41:39.164367Z"
    }
   },
   "outputs": [
    {
     "data": {
      "image/png": "[encoded data removed]",
      "text/plain": [
       "<Figure size 864x216 with 4 Axes>"
      ]
     },
     "metadata": {
      "needs_background": "light"
     },
     "output_type": "display_data"
    }
   ],
   "source": [
    "show_images(x, titles=['raw']+y.tolist())"
   ]
  },
  {
   "cell_type": "code",
   "execution_count": 127,
   "metadata": {
    "ExecuteTime": {
     "end_time": "2020-08-18T05:41:43.417849Z",
     "start_time": "2020-08-18T05:41:43.328266Z"
    }
   },
   "outputs": [
    {
     "data": {
      "text/plain": [
       "[torch.Size([3, 3, 128, 128]),\n",
       " torch.Size([3, 3, 128, 128]),\n",
       " torch.Size([3, 3, 128, 128]),\n",
       " torch.Size([3, 3, 128, 128]),\n",
       " torch.Size([3, 3])]"
      ]
     },
     "execution_count": 127,
     "metadata": {},
     "output_type": "execute_result"
    }
   ],
   "source": [
    "*xb, yb = next(iter(dlt))\n",
    "smap(*xb, yb)"
   ]
  },
  {
   "cell_type": "code",
   "execution_count": 128,
   "metadata": {
    "ExecuteTime": {
     "end_time": "2020-08-18T05:41:46.314135Z",
     "start_time": "2020-08-18T05:41:46.252821Z"
    }
   },
   "outputs": [
    {
     "name": "stderr",
     "output_type": "stream",
     "text": [
      "/Users/hmamin/img_wang/lib/img_wang/models.py:95: UserWarning: Temperature is ignored when last activation is not softmax.\n",
      "  warnings.warn('Temperature is ignored when last activation is '\n"
     ]
    }
   ],
   "source": [
    "net = Unmixer(\n",
    "    Encoder(fs=(8, 32, 128), strides=(1, 1, 1)),\n",
    "    MLPHead(256, last_act='sigmoid')\n",
    ")"
   ]
  },
  {
   "cell_type": "code",
   "execution_count": 129,
   "metadata": {
    "ExecuteTime": {
     "end_time": "2020-08-18T05:41:55.042729Z",
     "start_time": "2020-08-18T05:41:52.187946Z"
    }
   },
   "outputs": [
    {
     "data": {
      "text/plain": [
       "torch.Size([3, 3])"
      ]
     },
     "execution_count": 129,
     "metadata": {},
     "output_type": "execute_result"
    }
   ],
   "source": [
    "net(*xb).shape"
   ]
  },
  {
   "cell_type": "code",
   "execution_count": 130,
   "metadata": {
    "ExecuteTime": {
     "end_time": "2020-08-18T05:41:55.988209Z",
     "start_time": "2020-08-18T05:41:55.901639Z"
    }
   },
   "outputs": [
    {
     "data": {
      "text/plain": [
       "torch.Size([3, 3])"
      ]
     },
     "execution_count": 130,
     "metadata": {},
     "output_type": "execute_result"
    }
   ],
   "source": [
    "yb.shape"
   ]
  },
  {
   "cell_type": "code",
   "execution_count": 131,
   "metadata": {
    "ExecuteTime": {
     "end_time": "2020-08-18T05:41:58.588548Z",
     "start_time": "2020-08-18T05:41:58.066600Z"
    }
   },
   "outputs": [],
   "source": [
    "class PairwiseLossReduction(nn.Module):\n",
    "    \n",
    "    @valuecheck\n",
    "    def __init__(self, reduce:('sum', 'mean')='mean', **kwargs):\n",
    "        super().__init__()\n",
    "        self.distance = nn.PairwiseDistance(**kwargs)\n",
    "        self.reduce = getattr(torch, reduce)\n",
    "        \n",
    "    def forward(self, y_proba, y_true):\n",
    "        return self.reduce(self.distance(y_proba, y_true))"
   ]
  },
  {
   "cell_type": "code",
   "execution_count": 133,
   "metadata": {
    "ExecuteTime": {
     "end_time": "2020-08-18T05:42:08.421708Z",
     "start_time": "2020-08-18T05:42:05.864359Z"
    }
   },
   "outputs": [
    {
     "data": {
      "text/plain": [
       "tensor(0.8174, grad_fn=<MeanBackward0>)"
      ]
     },
     "execution_count": 133,
     "metadata": {},
     "output_type": "execute_result"
    }
   ],
   "source": [
    "PairwiseLossReduction()(net(*xb), yb)"
   ]
  },
  {
   "cell_type": "code",
   "execution_count": 134,
   "metadata": {
    "ExecuteTime": {
     "end_time": "2020-08-18T05:42:21.435490Z",
     "start_time": "2020-08-18T05:42:21.352690Z"
    }
   },
   "outputs": [],
   "source": [
    "t = Trainer(net, dst, dsv, dlt, dlv, PairwiseLossReduction(),\n",
    "            'regression', 'data/models/v0', callbacks=[MetricHistory()])"
   ]
  },
  {
   "cell_type": "code",
   "execution_count": 135,
   "metadata": {
    "ExecuteTime": {
     "end_time": "2020-08-18T05:45:02.413447Z",
     "start_time": "2020-08-18T05:42:23.485780Z"
    }
   },
   "outputs": [
    {
     "name": "stdout",
     "output_type": "stream",
     "text": [
      "2020-08-17 22:42:23,612 [INFO]: Adam (\n",
      "Parameter Group 0\n",
      "    amsgrad: False\n",
      "    betas: (0.9, 0.999)\n",
      "    eps: 0.001\n",
      "    lr: 0.0003\n",
      "    weight_decay: 0\n",
      ")\n"
     ]
    },
    {
     "data": {
      "application/vnd.jupyter.widget-view+json": {
       "model_id": "3489ff2fcd1b4f2f91471c4d5734c989",
       "version_major": 2,
       "version_minor": 0
      },
      "text/plain": [
       "HBox(children=(FloatProgress(value=0.0, max=1.0), HTML(value='')))"
      ]
     },
     "metadata": {},
     "output_type": "display_data"
    },
    {
     "name": "stdout",
     "output_type": "stream",
     "text": [
      "\n"
     ]
    },
    {
     "data": {
      "application/vnd.jupyter.widget-view+json": {
       "model_id": "dfd656c881684b30bd7700d17576a2c5",
       "version_major": 2,
       "version_minor": 0
      },
      "text/plain": [
       "HBox(children=(FloatProgress(value=0.0, max=1.0), HTML(value='')))"
      ]
     },
     "metadata": {},
     "output_type": "display_data"
    },
    {
     "name": "stdout",
     "output_type": "stream",
     "text": [
      "\n",
      "\n",
      "2020-08-17 22:42:33,900\n",
      " \n",
      "=====\n",
      "\n",
      "Epoch 0\n",
      "\n",
      "| Metric   |   Train |   Validation |\n",
      "|----------|---------|--------------|\n",
      "| loss     |  0.7546 |       0.5204 |\n",
      "\n",
      "=====\n"
     ]
    },
    {
     "data": {
      "application/vnd.jupyter.widget-view+json": {
       "model_id": "dce1967bdcbe41b68323b8c5e6d4ae9c",
       "version_major": 2,
       "version_minor": 0
      },
      "text/plain": [
       "HBox(children=(FloatProgress(value=0.0, max=1.0), HTML(value='')))"
      ]
     },
     "metadata": {},
     "output_type": "display_data"
    },
    {
     "name": "stdout",
     "output_type": "stream",
     "text": [
      "\n"
     ]
    },
    {
     "data": {
      "application/vnd.jupyter.widget-view+json": {
       "model_id": "ba25b74030014daca89fe2d18a79040c",
       "version_major": 2,
       "version_minor": 0
      },
      "text/plain": [
       "HBox(children=(FloatProgress(value=0.0, max=1.0), HTML(value='')))"
      ]
     },
     "metadata": {},
     "output_type": "display_data"
    },
    {
     "name": "stdout",
     "output_type": "stream",
     "text": [
      "\n",
      "\n",
      "2020-08-17 22:42:42,161\n",
      " \n",
      "=====\n",
      "\n",
      "Epoch 1\n",
      "\n",
      "| Metric   |   Train |   Validation |\n",
      "|----------|---------|--------------|\n",
      "| loss     |  0.7557 |       0.5006 |\n",
      "\n",
      "=====\n"
     ]
    },
    {
     "data": {
      "application/vnd.jupyter.widget-view+json": {
       "model_id": "bbad506019ce4ead9830b5b167fba6a2",
       "version_major": 2,
       "version_minor": 0
      },
      "text/plain": [
       "HBox(children=(FloatProgress(value=0.0, max=1.0), HTML(value='')))"
      ]
     },
     "metadata": {},
     "output_type": "display_data"
    },
    {
     "name": "stdout",
     "output_type": "stream",
     "text": [
      "\n"
     ]
    },
    {
     "data": {
      "application/vnd.jupyter.widget-view+json": {
       "model_id": "b93062db1e234bc8879b02f746a2f7cd",
       "version_major": 2,
       "version_minor": 0
      },
      "text/plain": [
       "HBox(children=(FloatProgress(value=0.0, max=1.0), HTML(value='')))"
      ]
     },
     "metadata": {},
     "output_type": "display_data"
    },
    {
     "name": "stdout",
     "output_type": "stream",
     "text": [
      "\n",
      "\n",
      "2020-08-17 22:42:52,612\n",
      " \n",
      "=====\n",
      "\n",
      "Epoch 2\n",
      "\n",
      "| Metric   |   Train |   Validation |\n",
      "|----------|---------|--------------|\n",
      "| loss     |  0.7278 |       0.4920 |\n",
      "\n",
      "=====\n"
     ]
    },
    {
     "data": {
      "application/vnd.jupyter.widget-view+json": {
       "model_id": "96cd9700a3cb4903a273d4fd0be38f23",
       "version_major": 2,
       "version_minor": 0
      },
      "text/plain": [
       "HBox(children=(FloatProgress(value=0.0, max=1.0), HTML(value='')))"
      ]
     },
     "metadata": {},
     "output_type": "display_data"
    },
    {
     "name": "stdout",
     "output_type": "stream",
     "text": [
      "\n"
     ]
    },
    {
     "data": {
      "application/vnd.jupyter.widget-view+json": {
       "model_id": "b4d9e75c39644b889492d6f051658a81",
       "version_major": 2,
       "version_minor": 0
      },
      "text/plain": [
       "HBox(children=(FloatProgress(value=0.0, max=1.0), HTML(value='')))"
      ]
     },
     "metadata": {},
     "output_type": "display_data"
    },
    {
     "name": "stdout",
     "output_type": "stream",
     "text": [
      "\n",
      "\n",
      "2020-08-17 22:43:01,359\n",
      " \n",
      "=====\n",
      "\n",
      "Epoch 3\n",
      "\n",
      "| Metric   |   Train |   Validation |\n",
      "|----------|---------|--------------|\n",
      "| loss     |  0.6987 |       0.4708 |\n",
      "\n",
      "=====\n"
     ]
    },
    {
     "data": {
      "application/vnd.jupyter.widget-view+json": {
       "model_id": "8b0ba19de1a44d3e932459a11c5eb7ea",
       "version_major": 2,
       "version_minor": 0
      },
      "text/plain": [
       "HBox(children=(FloatProgress(value=0.0, max=1.0), HTML(value='')))"
      ]
     },
     "metadata": {},
     "output_type": "display_data"
    },
    {
     "name": "stdout",
     "output_type": "stream",
     "text": [
      "\n"
     ]
    },
    {
     "data": {
      "application/vnd.jupyter.widget-view+json": {
       "model_id": "cc6cba15694d401aab5707f5abff9791",
       "version_major": 2,
       "version_minor": 0
      },
      "text/plain": [
       "HBox(children=(FloatProgress(value=0.0, max=1.0), HTML(value='')))"
      ]
     },
     "metadata": {},
     "output_type": "display_data"
    },
    {
     "name": "stdout",
     "output_type": "stream",
     "text": [
      "\n",
      "\n",
      "2020-08-17 22:43:07,987\n",
      " \n",
      "=====\n",
      "\n",
      "Epoch 4\n",
      "\n",
      "| Metric   |   Train |   Validation |\n",
      "|----------|---------|--------------|\n",
      "| loss     |  0.5255 |       0.4578 |\n",
      "\n",
      "=====\n"
     ]
    },
    {
     "data": {
      "application/vnd.jupyter.widget-view+json": {
       "model_id": "9533dd6478004a76a0c2ae9c562db536",
       "version_major": 2,
       "version_minor": 0
      },
      "text/plain": [
       "HBox(children=(FloatProgress(value=0.0, max=1.0), HTML(value='')))"
      ]
     },
     "metadata": {},
     "output_type": "display_data"
    },
    {
     "name": "stdout",
     "output_type": "stream",
     "text": [
      "\n"
     ]
    },
    {
     "data": {
      "application/vnd.jupyter.widget-view+json": {
       "model_id": "c6d52fc6775a4e5d8dc618c67ff1e228",
       "version_major": 2,
       "version_minor": 0
      },
      "text/plain": [
       "HBox(children=(FloatProgress(value=0.0, max=1.0), HTML(value='')))"
      ]
     },
     "metadata": {},
     "output_type": "display_data"
    },
    {
     "name": "stdout",
     "output_type": "stream",
     "text": [
      "\n",
      "\n",
      "2020-08-17 22:43:14,262\n",
      " \n",
      "=====\n",
      "\n",
      "Epoch 5\n",
      "\n",
      "| Metric   |   Train |   Validation |\n",
      "|----------|---------|--------------|\n",
      "| loss     |  0.5677 |       0.4024 |\n",
      "\n",
      "=====\n"
     ]
    },
    {
     "data": {
      "application/vnd.jupyter.widget-view+json": {
       "model_id": "f11a60a4a6984e189e10be1924c284fb",
       "version_major": 2,
       "version_minor": 0
      },
      "text/plain": [
       "HBox(children=(FloatProgress(value=0.0, max=1.0), HTML(value='')))"
      ]
     },
     "metadata": {},
     "output_type": "display_data"
    },
    {
     "name": "stdout",
     "output_type": "stream",
     "text": [
      "\n"
     ]
    },
    {
     "data": {
      "application/vnd.jupyter.widget-view+json": {
       "model_id": "7286f99821594bfda3902545453d1617",
       "version_major": 2,
       "version_minor": 0
      },
      "text/plain": [
       "HBox(children=(FloatProgress(value=0.0, max=1.0), HTML(value='')))"
      ]
     },
     "metadata": {},
     "output_type": "display_data"
    },
    {
     "name": "stdout",
     "output_type": "stream",
     "text": [
      "\n",
      "\n",
      "2020-08-17 22:43:23,005\n",
      " \n",
      "=====\n",
      "\n",
      "Epoch 6\n",
      "\n",
      "| Metric   |   Train |   Validation |\n",
      "|----------|---------|--------------|\n",
      "| loss     |  0.5259 |       0.3904 |\n",
      "\n",
      "=====\n"
     ]
    },
    {
     "data": {
      "application/vnd.jupyter.widget-view+json": {
       "model_id": "e69e0bce165f4ebd964847752b34597d",
       "version_major": 2,
       "version_minor": 0
      },
      "text/plain": [
       "HBox(children=(FloatProgress(value=0.0, max=1.0), HTML(value='')))"
      ]
     },
     "metadata": {},
     "output_type": "display_data"
    },
    {
     "name": "stdout",
     "output_type": "stream",
     "text": [
      "\n"
     ]
    },
    {
     "data": {
      "application/vnd.jupyter.widget-view+json": {
       "model_id": "e08fdf54097146bd9581d02258cfadfe",
       "version_major": 2,
       "version_minor": 0
      },
      "text/plain": [
       "HBox(children=(FloatProgress(value=0.0, max=1.0), HTML(value='')))"
      ]
     },
     "metadata": {},
     "output_type": "display_data"
    },
    {
     "name": "stdout",
     "output_type": "stream",
     "text": [
      "\n",
      "\n",
      "2020-08-17 22:43:32,200\n",
      " \n",
      "=====\n",
      "\n",
      "Epoch 7\n",
      "\n",
      "| Metric   |   Train |   Validation |\n",
      "|----------|---------|--------------|\n",
      "| loss     |  0.4429 |       0.3381 |\n",
      "\n",
      "=====\n"
     ]
    },
    {
     "data": {
      "application/vnd.jupyter.widget-view+json": {
       "model_id": "1aae39bf822f44039de4135e1eb9a9ad",
       "version_major": 2,
       "version_minor": 0
      },
      "text/plain": [
       "HBox(children=(FloatProgress(value=0.0, max=1.0), HTML(value='')))"
      ]
     },
     "metadata": {},
     "output_type": "display_data"
    },
    {
     "name": "stdout",
     "output_type": "stream",
     "text": [
      "\n"
     ]
    },
    {
     "data": {
      "application/vnd.jupyter.widget-view+json": {
       "model_id": "93802717b8f749958ad70e488ecd246d",
       "version_major": 2,
       "version_minor": 0
      },
      "text/plain": [
       "HBox(children=(FloatProgress(value=0.0, max=1.0), HTML(value='')))"
      ]
     },
     "metadata": {},
     "output_type": "display_data"
    },
    {
     "name": "stdout",
     "output_type": "stream",
     "text": [
      "\n",
      "\n",
      "2020-08-17 22:43:40,227\n",
      " \n",
      "=====\n",
      "\n",
      "Epoch 8\n",
      "\n",
      "| Metric   |   Train |   Validation |\n",
      "|----------|---------|--------------|\n",
      "| loss     |  0.5979 |       0.2941 |\n",
      "\n",
      "=====\n"
     ]
    },
    {
     "data": {
      "application/vnd.jupyter.widget-view+json": {
       "model_id": "1fe3d8bf85d44fae908686de54b29cca",
       "version_major": 2,
       "version_minor": 0
      },
      "text/plain": [
       "HBox(children=(FloatProgress(value=0.0, max=1.0), HTML(value='')))"
      ]
     },
     "metadata": {},
     "output_type": "display_data"
    },
    {
     "name": "stdout",
     "output_type": "stream",
     "text": [
      "\n"
     ]
    },
    {
     "data": {
      "application/vnd.jupyter.widget-view+json": {
       "model_id": "dd47ffa011a846ccba4b3999a1e41736",
       "version_major": 2,
       "version_minor": 0
      },
      "text/plain": [
       "HBox(children=(FloatProgress(value=0.0, max=1.0), HTML(value='')))"
      ]
     },
     "metadata": {},
     "output_type": "display_data"
    },
    {
     "name": "stdout",
     "output_type": "stream",
     "text": [
      "\n",
      "\n",
      "2020-08-17 22:43:48,365\n",
      " \n",
      "=====\n",
      "\n",
      "Epoch 9\n",
      "\n",
      "| Metric   |   Train |   Validation |\n",
      "|----------|---------|--------------|\n",
      "| loss     |  0.4519 |       0.3643 |\n",
      "\n",
      "=====\n"
     ]
    },
    {
     "data": {
      "application/vnd.jupyter.widget-view+json": {
       "model_id": "e077a13be4a0465a8a1d84131badef1b",
       "version_major": 2,
       "version_minor": 0
      },
      "text/plain": [
       "HBox(children=(FloatProgress(value=0.0, max=1.0), HTML(value='')))"
      ]
     },
     "metadata": {},
     "output_type": "display_data"
    },
    {
     "name": "stdout",
     "output_type": "stream",
     "text": [
      "\n"
     ]
    },
    {
     "data": {
      "application/vnd.jupyter.widget-view+json": {
       "model_id": "72241bf80b5c4df89a957b4cd8d3c76b",
       "version_major": 2,
       "version_minor": 0
      },
      "text/plain": [
       "HBox(children=(FloatProgress(value=0.0, max=1.0), HTML(value='')))"
      ]
     },
     "metadata": {},
     "output_type": "display_data"
    },
    {
     "name": "stdout",
     "output_type": "stream",
     "text": [
      "\n",
      "\n",
      "2020-08-17 22:43:55,904\n",
      " \n",
      "=====\n",
      "\n",
      "Epoch 10\n",
      "\n",
      "| Metric   |   Train |   Validation |\n",
      "|----------|---------|--------------|\n",
      "| loss     |  0.4331 |       0.2222 |\n",
      "\n",
      "=====\n"
     ]
    },
    {
     "data": {
      "application/vnd.jupyter.widget-view+json": {
       "model_id": "7b0bdf2462114ecd86c3075250e30f43",
       "version_major": 2,
       "version_minor": 0
      },
      "text/plain": [
       "HBox(children=(FloatProgress(value=0.0, max=1.0), HTML(value='')))"
      ]
     },
     "metadata": {},
     "output_type": "display_data"
    },
    {
     "name": "stdout",
     "output_type": "stream",
     "text": [
      "\n"
     ]
    },
    {
     "data": {
      "application/vnd.jupyter.widget-view+json": {
       "model_id": "619de605382043b28e6ebd076fbbc727",
       "version_major": 2,
       "version_minor": 0
      },
      "text/plain": [
       "HBox(children=(FloatProgress(value=0.0, max=1.0), HTML(value='')))"
      ]
     },
     "metadata": {},
     "output_type": "display_data"
    },
    {
     "name": "stdout",
     "output_type": "stream",
     "text": [
      "\n",
      "\n",
      "2020-08-17 22:44:03,919\n",
      " \n",
      "=====\n",
      "\n",
      "Epoch 11\n",
      "\n",
      "| Metric   |   Train |   Validation |\n",
      "|----------|---------|--------------|\n",
      "| loss     |  0.3241 |       0.2944 |\n",
      "\n",
      "=====\n"
     ]
    },
    {
     "data": {
      "application/vnd.jupyter.widget-view+json": {
       "model_id": "a7cedcb720c442cf93227d182a9e2ed2",
       "version_major": 2,
       "version_minor": 0
      },
      "text/plain": [
       "HBox(children=(FloatProgress(value=0.0, max=1.0), HTML(value='')))"
      ]
     },
     "metadata": {},
     "output_type": "display_data"
    },
    {
     "name": "stdout",
     "output_type": "stream",
     "text": [
      "\n"
     ]
    },
    {
     "data": {
      "application/vnd.jupyter.widget-view+json": {
       "model_id": "a79ff29ebcbd4dada6f24d9d2054a911",
       "version_major": 2,
       "version_minor": 0
      },
      "text/plain": [
       "HBox(children=(FloatProgress(value=0.0, max=1.0), HTML(value='')))"
      ]
     },
     "metadata": {},
     "output_type": "display_data"
    },
    {
     "name": "stdout",
     "output_type": "stream",
     "text": [
      "\n",
      "\n",
      "2020-08-17 22:44:11,003\n",
      " \n",
      "=====\n",
      "\n",
      "Epoch 12\n",
      "\n",
      "| Metric   |   Train |   Validation |\n",
      "|----------|---------|--------------|\n",
      "| loss     |  0.3987 |       0.2802 |\n",
      "\n",
      "=====\n"
     ]
    },
    {
     "data": {
      "application/vnd.jupyter.widget-view+json": {
       "model_id": "c0f3b2d787a244628895b79930aaaa24",
       "version_major": 2,
       "version_minor": 0
      },
      "text/plain": [
       "HBox(children=(FloatProgress(value=0.0, max=1.0), HTML(value='')))"
      ]
     },
     "metadata": {},
     "output_type": "display_data"
    },
    {
     "name": "stdout",
     "output_type": "stream",
     "text": [
      "\n"
     ]
    },
    {
     "data": {
      "application/vnd.jupyter.widget-view+json": {
       "model_id": "c85d3aed378d412ba65f34986c324bf5",
       "version_major": 2,
       "version_minor": 0
      },
      "text/plain": [
       "HBox(children=(FloatProgress(value=0.0, max=1.0), HTML(value='')))"
      ]
     },
     "metadata": {},
     "output_type": "display_data"
    },
    {
     "name": "stdout",
     "output_type": "stream",
     "text": [
      "\n",
      "\n",
      "2020-08-17 22:44:31,028\n",
      " \n",
      "=====\n",
      "\n",
      "Epoch 13\n",
      "\n",
      "| Metric   |   Train |   Validation |\n",
      "|----------|---------|--------------|\n",
      "| loss     |  0.3381 |       0.3813 |\n",
      "\n",
      "=====\n"
     ]
    },
    {
     "data": {
      "application/vnd.jupyter.widget-view+json": {
       "model_id": "580313fb3ddc47bfbfcb8b063715a4e9",
       "version_major": 2,
       "version_minor": 0
      },
      "text/plain": [
       "HBox(children=(FloatProgress(value=0.0, max=1.0), HTML(value='')))"
      ]
     },
     "metadata": {},
     "output_type": "display_data"
    },
    {
     "name": "stdout",
     "output_type": "stream",
     "text": [
      "\n"
     ]
    },
    {
     "data": {
      "application/vnd.jupyter.widget-view+json": {
       "model_id": "b44554e071e147c292cd498357545f10",
       "version_major": 2,
       "version_minor": 0
      },
      "text/plain": [
       "HBox(children=(FloatProgress(value=0.0, max=1.0), HTML(value='')))"
      ]
     },
     "metadata": {},
     "output_type": "display_data"
    },
    {
     "name": "stdout",
     "output_type": "stream",
     "text": [
      "\n",
      "\n",
      "2020-08-17 22:44:38,796\n",
      " \n",
      "=====\n",
      "\n",
      "Epoch 14\n",
      "\n",
      "| Metric   |   Train |   Validation |\n",
      "|----------|---------|--------------|\n",
      "| loss     |  0.4181 |       0.2962 |\n",
      "\n",
      "=====\n"
     ]
    },
    {
     "data": {
      "application/vnd.jupyter.widget-view+json": {
       "model_id": "e04ba632dc864a0492e53cda122a815f",
       "version_major": 2,
       "version_minor": 0
      },
      "text/plain": [
       "HBox(children=(FloatProgress(value=0.0, max=1.0), HTML(value='')))"
      ]
     },
     "metadata": {},
     "output_type": "display_data"
    },
    {
     "name": "stdout",
     "output_type": "stream",
     "text": [
      "\n"
     ]
    },
    {
     "data": {
      "application/vnd.jupyter.widget-view+json": {
       "model_id": "4e52b8fac1e64050a78a53169642f3de",
       "version_major": 2,
       "version_minor": 0
      },
      "text/plain": [
       "HBox(children=(FloatProgress(value=0.0, max=1.0), HTML(value='')))"
      ]
     },
     "metadata": {},
     "output_type": "display_data"
    },
    {
     "name": "stdout",
     "output_type": "stream",
     "text": [
      "\n",
      "\n",
      "2020-08-17 22:44:43,355\n",
      " \n",
      "=====\n",
      "\n",
      "Epoch 15\n",
      "\n",
      "| Metric   |   Train |   Validation |\n",
      "|----------|---------|--------------|\n",
      "| loss     |  0.3878 |       0.3700 |\n",
      "\n",
      "=====\n"
     ]
    },
    {
     "data": {
      "application/vnd.jupyter.widget-view+json": {
       "model_id": "4a8c551a0928478aab0fcb8ff7c67bb3",
       "version_major": 2,
       "version_minor": 0
      },
      "text/plain": [
       "HBox(children=(FloatProgress(value=0.0, max=1.0), HTML(value='')))"
      ]
     },
     "metadata": {},
     "output_type": "display_data"
    },
    {
     "name": "stdout",
     "output_type": "stream",
     "text": [
      "\n"
     ]
    },
    {
     "data": {
      "application/vnd.jupyter.widget-view+json": {
       "model_id": "c356f9de97d14612bcab99a0d8425ba4",
       "version_major": 2,
       "version_minor": 0
      },
      "text/plain": [
       "HBox(children=(FloatProgress(value=0.0, max=1.0), HTML(value='')))"
      ]
     },
     "metadata": {},
     "output_type": "display_data"
    },
    {
     "name": "stdout",
     "output_type": "stream",
     "text": [
      "\n",
      "\n",
      "2020-08-17 22:44:49,037\n",
      " \n",
      "=====\n",
      "\n",
      "Epoch 16\n",
      "\n",
      "| Metric   |   Train |   Validation |\n",
      "|----------|---------|--------------|\n",
      "| loss     |  0.4032 |       0.3699 |\n",
      "\n",
      "=====\n"
     ]
    },
    {
     "data": {
      "application/vnd.jupyter.widget-view+json": {
       "model_id": "b083b6a6d11140098d384fa85a23f125",
       "version_major": 2,
       "version_minor": 0
      },
      "text/plain": [
       "HBox(children=(FloatProgress(value=0.0, max=1.0), HTML(value='')))"
      ]
     },
     "metadata": {},
     "output_type": "display_data"
    },
    {
     "name": "stdout",
     "output_type": "stream",
     "text": [
      "\n"
     ]
    },
    {
     "data": {
      "application/vnd.jupyter.widget-view+json": {
       "model_id": "bb43d33bd2704358ae6bafd5336f3acf",
       "version_major": 2,
       "version_minor": 0
      },
      "text/plain": [
       "HBox(children=(FloatProgress(value=0.0, max=1.0), HTML(value='')))"
      ]
     },
     "metadata": {},
     "output_type": "display_data"
    },
    {
     "name": "stdout",
     "output_type": "stream",
     "text": [
      "\n",
      "\n",
      "2020-08-17 22:44:53,688\n",
      " \n",
      "=====\n",
      "\n",
      "Epoch 17\n",
      "\n",
      "| Metric   |   Train |   Validation |\n",
      "|----------|---------|--------------|\n",
      "| loss     |  0.4011 |       0.3717 |\n",
      "\n",
      "=====\n"
     ]
    },
    {
     "data": {
      "application/vnd.jupyter.widget-view+json": {
       "model_id": "fa57c42551e543d287ccab5402e9d1d3",
       "version_major": 2,
       "version_minor": 0
      },
      "text/plain": [
       "HBox(children=(FloatProgress(value=0.0, max=1.0), HTML(value='')))"
      ]
     },
     "metadata": {},
     "output_type": "display_data"
    },
    {
     "name": "stdout",
     "output_type": "stream",
     "text": [
      "\n"
     ]
    },
    {
     "data": {
      "application/vnd.jupyter.widget-view+json": {
       "model_id": "5be2b4c2661142cd8145e1ac33f29193",
       "version_major": 2,
       "version_minor": 0
      },
      "text/plain": [
       "HBox(children=(FloatProgress(value=0.0, max=1.0), HTML(value='')))"
      ]
     },
     "metadata": {},
     "output_type": "display_data"
    },
    {
     "name": "stdout",
     "output_type": "stream",
     "text": [
      "\n",
      "\n",
      "2020-08-17 22:44:57,741\n",
      " \n",
      "=====\n",
      "\n",
      "Epoch 18\n",
      "\n",
      "| Metric   |   Train |   Validation |\n",
      "|----------|---------|--------------|\n",
      "| loss     |  0.4581 |       0.3134 |\n",
      "\n",
      "=====\n"
     ]
    },
    {
     "data": {
      "application/vnd.jupyter.widget-view+json": {
       "model_id": "104a122a3f134cfa8818ea4426807d3b",
       "version_major": 2,
       "version_minor": 0
      },
      "text/plain": [
       "HBox(children=(FloatProgress(value=0.0, max=1.0), HTML(value='')))"
      ]
     },
     "metadata": {},
     "output_type": "display_data"
    },
    {
     "name": "stdout",
     "output_type": "stream",
     "text": [
      "\n"
     ]
    },
    {
     "data": {
      "application/vnd.jupyter.widget-view+json": {
       "model_id": "200be6c60ba84e68951a8fe9242a6d89",
       "version_major": 2,
       "version_minor": 0
      },
      "text/plain": [
       "HBox(children=(FloatProgress(value=0.0, max=1.0), HTML(value='')))"
      ]
     },
     "metadata": {},
     "output_type": "display_data"
    },
    {
     "name": "stdout",
     "output_type": "stream",
     "text": [
      "\n",
      "\n",
      "2020-08-17 22:45:01,779\n",
      " \n",
      "=====\n",
      "\n",
      "Epoch 19\n",
      "\n",
      "| Metric   |   Train |   Validation |\n",
      "|----------|---------|--------------|\n",
      "| loss     |  0.5802 |       0.3404 |\n",
      "\n",
      "=====\n",
      "\n",
      "2020-08-17 22:45:01,783\n",
      " Training complete. Model in eval mode.\n"
     ]
    },
    {
     "data": {
      "image/png": "[encoded data removed]",
      "text/plain": [
       "<Figure size 864x216 with 1 Axes>"
      ]
     },
     "metadata": {
      "needs_background": "light"
     },
     "output_type": "display_data"
    }
   ],
   "source": [
    "t.fit(20, 3e-4)"
   ]
  },
  {
   "cell_type": "code",
   "execution_count": 137,
   "metadata": {
    "ExecuteTime": {
     "end_time": "2020-08-18T05:50:07.377187Z",
     "start_time": "2020-08-18T05:50:05.735436Z"
    }
   },
   "outputs": [
    {
     "data": {
      "text/plain": [
       "tensor([[0.1570, 0.0098, 0.5836],\n",
       "        [0.0245, 0.0545, 0.9908],\n",
       "        [0.7330, 0.0036, 0.8244]], grad_fn=<SigmoidBackward>)"
      ]
     },
     "execution_count": 137,
     "metadata": {},
     "output_type": "execute_result"
    }
   ],
   "source": [
    "t.net(*xb)"
   ]
  },
  {
   "cell_type": "code",
   "execution_count": 138,
   "metadata": {
    "ExecuteTime": {
     "end_time": "2020-08-18T05:50:07.690416Z",
     "start_time": "2020-08-18T05:50:07.430530Z"
    },
    "scrolled": true
   },
   "outputs": [
    {
     "data": {
      "text/plain": [
       "tensor([[0.4111, 0.0000, 0.5889],\n",
       "        [0.0000, 0.1514, 0.8486],\n",
       "        [0.4838, 0.0000, 0.5162]])"
      ]
     },
     "execution_count": 138,
     "metadata": {},
     "output_type": "execute_result"
    }
   ],
   "source": [
    "yb"
   ]
  },
  {
   "cell_type": "markdown",
   "metadata": {},
   "source": [
    "## Incendio - Unsupervised Mixup Dataset (multi-label classification)\n",
    "\n",
    "Use new classification mode to try out scale dataset unsupervised task."
   ]
  },
  {
   "cell_type": "code",
   "execution_count": 35,
   "metadata": {
    "ExecuteTime": {
     "end_time": "2020-08-17T04:22:22.611226Z",
     "start_time": "2020-08-17T04:22:22.277920Z"
    }
   },
   "outputs": [
    {
     "data": {
      "text/plain": [
       "[4, 4, 2, 2]"
      ]
     },
     "execution_count": 35,
     "metadata": {},
     "output_type": "execute_result"
    }
   ],
   "source": [
    "dst, dsv, dlt, dlv = get_databunch('data/imagewang-160/unsup', mode='mixup', \n",
    "                                   bs=2, train_pct=.5, max_train_len=6,\n",
    "                                   max_val_len=6, regression=False)\n",
    "lmap(len, dst, dsv, dlt, dlv)"
   ]
  },
  {
   "cell_type": "code",
   "execution_count": 36,
   "metadata": {
    "ExecuteTime": {
     "end_time": "2020-08-17T04:22:23.549192Z",
     "start_time": "2020-08-17T04:22:23.478300Z"
    }
   },
   "outputs": [
    {
     "data": {
      "text/plain": [
       "[torch.Size([3, 128, 128]),\n",
       " torch.Size([3, 128, 128]),\n",
       " torch.Size([3, 128, 128]),\n",
       " torch.Size([3, 128, 128]),\n",
       " torch.Size([3])]"
      ]
     },
     "execution_count": 36,
     "metadata": {},
     "output_type": "execute_result"
    }
   ],
   "source": [
    "*x, y = dst[0]\n",
    "smap(*x, y)"
   ]
  },
  {
   "cell_type": "code",
   "execution_count": 37,
   "metadata": {
    "ExecuteTime": {
     "end_time": "2020-08-17T04:22:30.378578Z",
     "start_time": "2020-08-17T04:22:29.788415Z"
    }
   },
   "outputs": [
    {
     "data": {
      "image/png": "[encoded data removed]",
      "text/plain": [
       "<Figure size 864x216 with 4 Axes>"
      ]
     },
     "metadata": {
      "needs_background": "light"
     },
     "output_type": "display_data"
    }
   ],
   "source": [
    "show_images(x, titles=['new']+y.tolist())"
   ]
  },
  {
   "cell_type": "code",
   "execution_count": 38,
   "metadata": {
    "ExecuteTime": {
     "end_time": "2020-08-17T04:22:39.642906Z",
     "start_time": "2020-08-17T04:22:39.555212Z"
    }
   },
   "outputs": [
    {
     "data": {
      "text/plain": [
       "[torch.Size([2, 3, 128, 128]),\n",
       " torch.Size([2, 3, 128, 128]),\n",
       " torch.Size([2, 3, 128, 128]),\n",
       " torch.Size([2, 3, 128, 128]),\n",
       " torch.Size([2, 3])]"
      ]
     },
     "execution_count": 38,
     "metadata": {},
     "output_type": "execute_result"
    }
   ],
   "source": [
    "*xb, yb = next(iter(dlt))\n",
    "smap(*xb, yb)"
   ]
  },
  {
   "cell_type": "code",
   "execution_count": 46,
   "metadata": {
    "ExecuteTime": {
     "end_time": "2020-08-17T04:24:52.209653Z",
     "start_time": "2020-08-17T04:24:52.117645Z"
    }
   },
   "outputs": [],
   "source": [
    "net = Unmixer(\n",
    "    Encoder(fs=(8, 32, 128), strides=(1, 1, 1)),\n",
    "    MLPHead(256, last_act=None)\n",
    ")"
   ]
  },
  {
   "cell_type": "code",
   "execution_count": 47,
   "metadata": {
    "ExecuteTime": {
     "end_time": "2020-08-17T04:24:54.355014Z",
     "start_time": "2020-08-17T04:24:53.133086Z"
    }
   },
   "outputs": [
    {
     "data": {
      "text/plain": [
       "tensor([[-2.2372, -0.9814, -1.5090],\n",
       "        [-0.9710, -0.0075, -0.9996]], grad_fn=<SqueezeBackward1>)"
      ]
     },
     "execution_count": 47,
     "metadata": {},
     "output_type": "execute_result"
    }
   ],
   "source": [
    "net(*xb)"
   ]
  },
  {
   "cell_type": "code",
   "execution_count": 48,
   "metadata": {
    "ExecuteTime": {
     "end_time": "2020-08-17T04:25:00.768926Z",
     "start_time": "2020-08-17T04:25:00.685475Z"
    }
   },
   "outputs": [],
   "source": [
    "t = Trainer(net, dst, dsv, dlt, dlv, F.binary_cross_entropy_with_logits,\n",
    "            'binary', 'data/models/v0', callbacks=[MetricHistory()])"
   ]
  },
  {
   "cell_type": "code",
   "execution_count": 49,
   "metadata": {
    "ExecuteTime": {
     "end_time": "2020-08-17T04:26:19.635153Z",
     "start_time": "2020-08-17T04:25:01.405907Z"
    }
   },
   "outputs": [
    {
     "name": "stdout",
     "output_type": "stream",
     "text": [
      "2020-08-16 21:25:01,465 [INFO]: Adam (\n",
      "Parameter Group 0\n",
      "    amsgrad: False\n",
      "    betas: (0.9, 0.999)\n",
      "    eps: 0.001\n",
      "    lr: 0.003\n",
      "    weight_decay: 0\n",
      ")\n"
     ]
    },
    {
     "data": {
      "application/vnd.jupyter.widget-view+json": {
       "model_id": "7e0211ff0ffa4b4780b0a60f5435fe24",
       "version_major": 2,
       "version_minor": 0
      },
      "text/plain": [
       "HBox(children=(FloatProgress(value=0.0, max=2.0), HTML(value='')))"
      ]
     },
     "metadata": {},
     "output_type": "display_data"
    },
    {
     "name": "stdout",
     "output_type": "stream",
     "text": [
      "\n"
     ]
    },
    {
     "data": {
      "application/vnd.jupyter.widget-view+json": {
       "model_id": "19058f04f7ec43e7b68a66a96c3286d7",
       "version_major": 2,
       "version_minor": 0
      },
      "text/plain": [
       "HBox(children=(FloatProgress(value=0.0, max=2.0), HTML(value='')))"
      ]
     },
     "metadata": {},
     "output_type": "display_data"
    },
    {
     "name": "stdout",
     "output_type": "stream",
     "text": [
      "\n",
      "\n",
      "2020-08-16 21:25:09,132\n",
      " \n",
      "=====\n",
      "\n",
      "Epoch 0\n",
      "\n",
      "| Metric   |   Train |   Validation |\n",
      "|----------|---------|--------------|\n",
      "| loss     |  7.2365 |       0.6909 |\n",
      "\n",
      "=====\n"
     ]
    },
    {
     "data": {
      "application/vnd.jupyter.widget-view+json": {
       "model_id": "f6c26bdaae2541dc9a93401af9e039a3",
       "version_major": 2,
       "version_minor": 0
      },
      "text/plain": [
       "HBox(children=(FloatProgress(value=0.0, max=2.0), HTML(value='')))"
      ]
     },
     "metadata": {},
     "output_type": "display_data"
    },
    {
     "name": "stdout",
     "output_type": "stream",
     "text": [
      "\n"
     ]
    },
    {
     "data": {
      "application/vnd.jupyter.widget-view+json": {
       "model_id": "b46b19d3b6be45a0ab68dabc48e02474",
       "version_major": 2,
       "version_minor": 0
      },
      "text/plain": [
       "HBox(children=(FloatProgress(value=0.0, max=2.0), HTML(value='')))"
      ]
     },
     "metadata": {},
     "output_type": "display_data"
    },
    {
     "name": "stdout",
     "output_type": "stream",
     "text": [
      "\n",
      "\n",
      "2020-08-16 21:25:16,256\n",
      " \n",
      "=====\n",
      "\n",
      "Epoch 1\n",
      "\n",
      "| Metric   |   Train |   Validation |\n",
      "|----------|---------|--------------|\n",
      "| loss     |  3.0412 |       0.6423 |\n",
      "\n",
      "=====\n"
     ]
    },
    {
     "data": {
      "application/vnd.jupyter.widget-view+json": {
       "model_id": "8378ff331a754ab4ad7188d8d316963f",
       "version_major": 2,
       "version_minor": 0
      },
      "text/plain": [
       "HBox(children=(FloatProgress(value=0.0, max=2.0), HTML(value='')))"
      ]
     },
     "metadata": {},
     "output_type": "display_data"
    },
    {
     "name": "stdout",
     "output_type": "stream",
     "text": [
      "\n"
     ]
    },
    {
     "data": {
      "application/vnd.jupyter.widget-view+json": {
       "model_id": "a71f0159285c49ab905e6b4f7b1917b8",
       "version_major": 2,
       "version_minor": 0
      },
      "text/plain": [
       "HBox(children=(FloatProgress(value=0.0, max=2.0), HTML(value='')))"
      ]
     },
     "metadata": {},
     "output_type": "display_data"
    },
    {
     "name": "stdout",
     "output_type": "stream",
     "text": [
      "\n",
      "\n",
      "2020-08-16 21:25:23,203\n",
      " \n",
      "=====\n",
      "\n",
      "Epoch 2\n",
      "\n",
      "| Metric   |   Train |   Validation |\n",
      "|----------|---------|--------------|\n",
      "| loss     |  0.8503 |       0.6649 |\n",
      "\n",
      "=====\n"
     ]
    },
    {
     "data": {
      "application/vnd.jupyter.widget-view+json": {
       "model_id": "680d349e44a7477a95f81b03eefd342f",
       "version_major": 2,
       "version_minor": 0
      },
      "text/plain": [
       "HBox(children=(FloatProgress(value=0.0, max=2.0), HTML(value='')))"
      ]
     },
     "metadata": {},
     "output_type": "display_data"
    },
    {
     "name": "stdout",
     "output_type": "stream",
     "text": [
      "\n"
     ]
    },
    {
     "data": {
      "application/vnd.jupyter.widget-view+json": {
       "model_id": "85ff3d903e9048d58b0b41c89c1f98c5",
       "version_major": 2,
       "version_minor": 0
      },
      "text/plain": [
       "HBox(children=(FloatProgress(value=0.0, max=2.0), HTML(value='')))"
      ]
     },
     "metadata": {},
     "output_type": "display_data"
    },
    {
     "name": "stdout",
     "output_type": "stream",
     "text": [
      "\n",
      "\n",
      "2020-08-16 21:25:29,915\n",
      " \n",
      "=====\n",
      "\n",
      "Epoch 3\n",
      "\n",
      "| Metric   |   Train |   Validation |\n",
      "|----------|---------|--------------|\n",
      "| loss     |  0.6596 |       0.6459 |\n",
      "\n",
      "=====\n"
     ]
    },
    {
     "data": {
      "application/vnd.jupyter.widget-view+json": {
       "model_id": "fd4efff74ffc49578b3e194df2014e0c",
       "version_major": 2,
       "version_minor": 0
      },
      "text/plain": [
       "HBox(children=(FloatProgress(value=0.0, max=2.0), HTML(value='')))"
      ]
     },
     "metadata": {},
     "output_type": "display_data"
    },
    {
     "name": "stdout",
     "output_type": "stream",
     "text": [
      "\n"
     ]
    },
    {
     "data": {
      "application/vnd.jupyter.widget-view+json": {
       "model_id": "4512db8aa99e422baaebfda74262b8ec",
       "version_major": 2,
       "version_minor": 0
      },
      "text/plain": [
       "HBox(children=(FloatProgress(value=0.0, max=2.0), HTML(value='')))"
      ]
     },
     "metadata": {},
     "output_type": "display_data"
    },
    {
     "name": "stdout",
     "output_type": "stream",
     "text": [
      "\n",
      "\n",
      "2020-08-16 21:25:36,803\n",
      " \n",
      "=====\n",
      "\n",
      "Epoch 4\n",
      "\n",
      "| Metric   |   Train |   Validation |\n",
      "|----------|---------|--------------|\n",
      "| loss     |  0.6658 |       0.6489 |\n",
      "\n",
      "=====\n"
     ]
    },
    {
     "data": {
      "application/vnd.jupyter.widget-view+json": {
       "model_id": "95e8db1bea494daea8de1823cd2833e1",
       "version_major": 2,
       "version_minor": 0
      },
      "text/plain": [
       "HBox(children=(FloatProgress(value=0.0, max=2.0), HTML(value='')))"
      ]
     },
     "metadata": {},
     "output_type": "display_data"
    },
    {
     "name": "stdout",
     "output_type": "stream",
     "text": [
      "\n"
     ]
    },
    {
     "data": {
      "application/vnd.jupyter.widget-view+json": {
       "model_id": "8c2d1f5eaf6a4c0eb5d95cd94c8440fc",
       "version_major": 2,
       "version_minor": 0
      },
      "text/plain": [
       "HBox(children=(FloatProgress(value=0.0, max=2.0), HTML(value='')))"
      ]
     },
     "metadata": {},
     "output_type": "display_data"
    },
    {
     "name": "stdout",
     "output_type": "stream",
     "text": [
      "\n",
      "\n",
      "2020-08-16 21:25:44,120\n",
      " \n",
      "=====\n",
      "\n",
      "Epoch 5\n",
      "\n",
      "| Metric   |   Train |   Validation |\n",
      "|----------|---------|--------------|\n",
      "| loss     |  0.7025 |       0.6553 |\n",
      "\n",
      "=====\n"
     ]
    },
    {
     "data": {
      "application/vnd.jupyter.widget-view+json": {
       "model_id": "92b323c75dbb4aeaa7daa4480836ed24",
       "version_major": 2,
       "version_minor": 0
      },
      "text/plain": [
       "HBox(children=(FloatProgress(value=0.0, max=2.0), HTML(value='')))"
      ]
     },
     "metadata": {},
     "output_type": "display_data"
    },
    {
     "name": "stdout",
     "output_type": "stream",
     "text": [
      "\n"
     ]
    },
    {
     "data": {
      "application/vnd.jupyter.widget-view+json": {
       "model_id": "1294bf50671c46a2aa4058cf65bd1f02",
       "version_major": 2,
       "version_minor": 0
      },
      "text/plain": [
       "HBox(children=(FloatProgress(value=0.0, max=2.0), HTML(value='')))"
      ]
     },
     "metadata": {},
     "output_type": "display_data"
    },
    {
     "name": "stdout",
     "output_type": "stream",
     "text": [
      "\n",
      "\n",
      "2020-08-16 21:25:52,577\n",
      " \n",
      "=====\n",
      "\n",
      "Epoch 6\n",
      "\n",
      "| Metric   |   Train |   Validation |\n",
      "|----------|---------|--------------|\n",
      "| loss     |  0.6735 |       0.6277 |\n",
      "\n",
      "=====\n"
     ]
    },
    {
     "data": {
      "application/vnd.jupyter.widget-view+json": {
       "model_id": "b59c9d75150a438281b809ef0a72469c",
       "version_major": 2,
       "version_minor": 0
      },
      "text/plain": [
       "HBox(children=(FloatProgress(value=0.0, max=2.0), HTML(value='')))"
      ]
     },
     "metadata": {},
     "output_type": "display_data"
    },
    {
     "name": "stdout",
     "output_type": "stream",
     "text": [
      "\n"
     ]
    },
    {
     "data": {
      "application/vnd.jupyter.widget-view+json": {
       "model_id": "e09fc87949954aedb2c18f516ac80f72",
       "version_major": 2,
       "version_minor": 0
      },
      "text/plain": [
       "HBox(children=(FloatProgress(value=0.0, max=2.0), HTML(value='')))"
      ]
     },
     "metadata": {},
     "output_type": "display_data"
    },
    {
     "name": "stdout",
     "output_type": "stream",
     "text": [
      "\n",
      "\n",
      "2020-08-16 21:26:01,682\n",
      " \n",
      "=====\n",
      "\n",
      "Epoch 7\n",
      "\n",
      "| Metric   |   Train |   Validation |\n",
      "|----------|---------|--------------|\n",
      "| loss     |  0.6304 |       0.6439 |\n",
      "\n",
      "=====\n"
     ]
    },
    {
     "data": {
      "application/vnd.jupyter.widget-view+json": {
       "model_id": "13f6bb70a7e4495390240c516aea9e95",
       "version_major": 2,
       "version_minor": 0
      },
      "text/plain": [
       "HBox(children=(FloatProgress(value=0.0, max=2.0), HTML(value='')))"
      ]
     },
     "metadata": {},
     "output_type": "display_data"
    },
    {
     "name": "stdout",
     "output_type": "stream",
     "text": [
      "\n"
     ]
    },
    {
     "data": {
      "application/vnd.jupyter.widget-view+json": {
       "model_id": "1860a3dbddab40fb8332dcb9d6553068",
       "version_major": 2,
       "version_minor": 0
      },
      "text/plain": [
       "HBox(children=(FloatProgress(value=0.0, max=2.0), HTML(value='')))"
      ]
     },
     "metadata": {},
     "output_type": "display_data"
    },
    {
     "name": "stdout",
     "output_type": "stream",
     "text": [
      "\n",
      "\n",
      "2020-08-16 21:26:10,626\n",
      " \n",
      "=====\n",
      "\n",
      "Epoch 8\n",
      "\n",
      "| Metric   |   Train |   Validation |\n",
      "|----------|---------|--------------|\n",
      "| loss     |  0.6551 |       0.6400 |\n",
      "\n",
      "=====\n"
     ]
    },
    {
     "data": {
      "application/vnd.jupyter.widget-view+json": {
       "model_id": "dc483334ea3b48fb905ea8d4ede84111",
       "version_major": 2,
       "version_minor": 0
      },
      "text/plain": [
       "HBox(children=(FloatProgress(value=0.0, max=2.0), HTML(value='')))"
      ]
     },
     "metadata": {},
     "output_type": "display_data"
    },
    {
     "name": "stdout",
     "output_type": "stream",
     "text": [
      "\n"
     ]
    },
    {
     "data": {
      "application/vnd.jupyter.widget-view+json": {
       "model_id": "002ea9625fb94b83832e2947fd028171",
       "version_major": 2,
       "version_minor": 0
      },
      "text/plain": [
       "HBox(children=(FloatProgress(value=0.0, max=2.0), HTML(value='')))"
      ]
     },
     "metadata": {},
     "output_type": "display_data"
    },
    {
     "name": "stdout",
     "output_type": "stream",
     "text": [
      "\n",
      "\n",
      "2020-08-16 21:26:18,925\n",
      " \n",
      "=====\n",
      "\n",
      "Epoch 9\n",
      "\n",
      "| Metric   |   Train |   Validation |\n",
      "|----------|---------|--------------|\n",
      "| loss     |  0.6450 |       0.6167 |\n",
      "\n",
      "=====\n",
      "\n",
      "2020-08-16 21:26:18,928\n",
      " Training complete. Model in eval mode.\n"
     ]
    },
    {
     "data": {
      "image/png": "[encoded data removed]",
      "text/plain": [
       "<Figure size 864x216 with 1 Axes>"
      ]
     },
     "metadata": {
      "needs_background": "light"
     },
     "output_type": "display_data"
    }
   ],
   "source": [
    "t.fit(10)"
   ]
  },
  {
   "cell_type": "code",
   "execution_count": 50,
   "metadata": {
    "ExecuteTime": {
     "end_time": "2020-08-17T04:26:27.783148Z",
     "start_time": "2020-08-17T04:26:26.521717Z"
    }
   },
   "outputs": [
    {
     "data": {
      "text/plain": [
       "tensor([[0.6355, 0.6413, 0.6569],\n",
       "        [0.6140, 0.6591, 0.6511]], grad_fn=<SigmoidBackward>)"
      ]
     },
     "execution_count": 50,
     "metadata": {},
     "output_type": "execute_result"
    }
   ],
   "source": [
    "torch.sigmoid(t.net(*xb))"
   ]
  },
  {
   "cell_type": "code",
   "execution_count": 51,
   "metadata": {
    "ExecuteTime": {
     "end_time": "2020-08-17T04:26:28.617514Z",
     "start_time": "2020-08-17T04:26:28.433103Z"
    },
    "scrolled": true
   },
   "outputs": [
    {
     "data": {
      "text/plain": [
       "tensor([[1., 0., 1.],\n",
       "        [0., 1., 1.]])"
      ]
     },
     "execution_count": 51,
     "metadata": {},
     "output_type": "execute_result"
    }
   ],
   "source": [
    "yb"
   ]
  },
  {
   "cell_type": "code",
   "execution_count": 52,
   "metadata": {
    "ExecuteTime": {
     "end_time": "2020-08-17T04:33:16.465663Z",
     "start_time": "2020-08-17T04:33:16.298331Z"
    }
   },
   "outputs": [
    {
     "data": {
      "text/plain": [
       "tensor([[[[0.2270, 0.2087, 0.2529,  ..., 0.2001, 0.2279, 0.2850],\n",
       "          [0.2873, 0.1895, 0.4711,  ..., 0.5885, 0.2810, 0.1671],\n",
       "          [0.2596, 0.2886, 0.5595,  ..., 0.5949, 0.2981, 0.1976],\n",
       "          ...,\n",
       "          [0.2569, 0.2795, 0.2138,  ..., 0.5309, 0.2242, 0.3457],\n",
       "          [0.1980, 0.1506, 0.1286,  ..., 0.4048, 0.2495, 0.2614],\n",
       "          [0.2061, 0.1605, 0.1453,  ..., 0.1658, 0.2288, 0.4077]],\n",
       "\n",
       "         [[0.2723, 0.2515, 0.2984,  ..., 0.2482, 0.2760, 0.3331],\n",
       "          [0.3301, 0.2323, 0.5167,  ..., 0.6366, 0.3291, 0.2152],\n",
       "          [0.3052, 0.3341, 0.6051,  ..., 0.6405, 0.3437, 0.2431],\n",
       "          ...,\n",
       "          [0.3154, 0.3380, 0.2723,  ..., 0.5450, 0.2354, 0.3570],\n",
       "          [0.2691, 0.2217, 0.1921,  ..., 0.4189, 0.2608, 0.2712],\n",
       "          [0.2769, 0.2314, 0.2137,  ..., 0.1785, 0.2415, 0.4204]],\n",
       "\n",
       "         [[0.2686, 0.2529, 0.2984,  ..., 0.2381, 0.2658, 0.3230],\n",
       "          [0.3315, 0.2337, 0.5167,  ..., 0.6316, 0.3240, 0.2101],\n",
       "          [0.3103, 0.3392, 0.6101,  ..., 0.6405, 0.3437, 0.2431],\n",
       "          ...,\n",
       "          [0.3419, 0.3644, 0.2987,  ..., 0.5404, 0.2309, 0.3524],\n",
       "          [0.2956, 0.2482, 0.2211,  ..., 0.4143, 0.2562, 0.2681],\n",
       "          [0.3073, 0.2592, 0.2415,  ..., 0.1683, 0.2314, 0.4103]]],\n",
       "\n",
       "\n",
       "        [[[0.3079, 0.2053, 0.3343,  ..., 0.4563, 0.4353, 0.3971],\n",
       "          [0.2270, 0.3926, 0.2615,  ..., 0.5114, 0.4798, 0.4129],\n",
       "          [0.2433, 0.2924, 0.2380,  ..., 0.4761, 0.4191, 0.3913],\n",
       "          ...,\n",
       "          [0.2835, 0.1899, 0.1438,  ..., 0.6588, 0.6559, 0.7166],\n",
       "          [0.2316, 0.1746, 0.2152,  ..., 0.6366, 0.6685, 0.6116],\n",
       "          [0.2356, 0.1570, 0.2132,  ..., 0.6045, 0.6135, 0.6067]],\n",
       "\n",
       "         [[0.3320, 0.2281, 0.3518,  ..., 0.4352, 0.4195, 0.3866],\n",
       "          [0.2497, 0.4154, 0.2790,  ..., 0.4903, 0.4640, 0.4024],\n",
       "          [0.2661, 0.3098, 0.2554,  ..., 0.4538, 0.4020, 0.3795],\n",
       "          ...,\n",
       "          [0.2848, 0.1938, 0.1557,  ..., 0.6571, 0.6542, 0.7123],\n",
       "          [0.2392, 0.1848, 0.2296,  ..., 0.6323, 0.6642, 0.6047],\n",
       "          [0.2444, 0.1685, 0.2314,  ..., 0.6002, 0.6092, 0.5997]],\n",
       "\n",
       "         [[0.3029, 0.1962, 0.3173,  ..., 0.4115, 0.3958, 0.3576],\n",
       "          [0.2232, 0.3836, 0.2444,  ..., 0.4692, 0.4429, 0.3760],\n",
       "          [0.2420, 0.2805, 0.2234,  ..., 0.4352, 0.3834, 0.3556],\n",
       "          ...,\n",
       "          [0.3199, 0.2210, 0.1697,  ..., 0.6760, 0.6784, 0.7444],\n",
       "          [0.2744, 0.2120, 0.2448,  ..., 0.6645, 0.7043, 0.6527],\n",
       "          [0.2809, 0.1957, 0.2453,  ..., 0.6350, 0.6493, 0.6478]]]])"
      ]
     },
     "execution_count": 52,
     "metadata": {},
     "output_type": "execute_result"
    }
   ],
   "source": [
    "xb[0]"
   ]
  },
  {
   "cell_type": "markdown",
   "metadata": {},
   "source": [
    "## Scratch"
   ]
  },
  {
   "cell_type": "code",
   "execution_count": 146,
   "metadata": {
    "ExecuteTime": {
     "end_time": "2020-08-19T04:17:36.256612Z",
     "start_time": "2020-08-19T04:17:36.165737Z"
    }
   },
   "outputs": [],
   "source": [
    "class set_once:\n",
    "    \n",
    "    def __init__(self, func):\n",
    "        self.func = func\n",
    "\n",
    "    def __get__(self, instance, cls, *args, **kwargs):\n",
    "        \"\"\"This method is called when the variable being accessed is not in the\n",
    "        instance's state dict. The next time the attribute is accessed, the\n",
    "        computed value will be in the state dict so this method (and the method\n",
    "        in the instance itself) is not called again unless the attribute is\n",
    "        deleted.\n",
    "        \"\"\"\n",
    "        print(args, kwargs)\n",
    "        # When attribute accessed as class method, instance is None.\n",
    "        if instance is None:\n",
    "            return self\n",
    "\n",
    "        # When accessed as instance method, call method on instance as usual.\n",
    "        # Then set instance attribute and return value.\n",
    "        val = self.func(instance, *args, **kwargs)\n",
    "        setattr(instance, self.func.__name__, val)\n",
    "        return val"
   ]
  },
  {
   "cell_type": "code",
   "execution_count": 150,
   "metadata": {
    "ExecuteTime": {
     "end_time": "2020-08-19T04:17:55.424266Z",
     "start_time": "2020-08-19T04:17:55.345686Z"
    }
   },
   "outputs": [],
   "source": [
    "class Foo:\n",
    "    \n",
    "    def __init__(self, a=None):\n",
    "        self.a = a\n",
    "        \n",
    "    @set_once\n",
    "    def dim(self, x):\n",
    "        print('calling dim function')\n",
    "        return len(x) // 2\n",
    "    \n",
    "    def __call__(self, x):\n",
    "        try:\n",
    "            dim = self.dim\n",
    "        except:\n",
    "            print('except')\n",
    "            dim = self.dim(x)\n",
    "        return x / dim"
   ]
  },
  {
   "cell_type": "code",
   "execution_count": 151,
   "metadata": {
    "ExecuteTime": {
     "end_time": "2020-08-19T04:17:55.801049Z",
     "start_time": "2020-08-19T04:17:55.723707Z"
    }
   },
   "outputs": [],
   "source": [
    "f = Foo(3)"
   ]
  },
  {
   "cell_type": "code",
   "execution_count": 152,
   "metadata": {
    "ExecuteTime": {
     "end_time": "2020-08-19T04:17:56.480330Z",
     "start_time": "2020-08-19T04:17:56.264946Z"
    }
   },
   "outputs": [
    {
     "name": "stdout",
     "output_type": "stream",
     "text": [
      "() {}\n",
      "except\n",
      "() {}\n"
     ]
    },
    {
     "ename": "TypeError",
     "evalue": "dim() missing 1 required positional argument: 'x'",
     "output_type": "error",
     "traceback": [
      "\u001b[0;31m---------------------------------------------------------------------------\u001b[0m",
      "\u001b[0;31mTypeError\u001b[0m                                 Traceback (most recent call last)",
      "\u001b[0;32m<ipython-input-150-7a2be5b81412>\u001b[0m in \u001b[0;36m__call__\u001b[0;34m(self, x)\u001b[0m\n\u001b[1;32m     12\u001b[0m         \u001b[0;32mtry\u001b[0m\u001b[0;34m:\u001b[0m\u001b[0;34m\u001b[0m\u001b[0;34m\u001b[0m\u001b[0m\n\u001b[0;32m---> 13\u001b[0;31m             \u001b[0mdim\u001b[0m \u001b[0;34m=\u001b[0m \u001b[0mself\u001b[0m\u001b[0;34m.\u001b[0m\u001b[0mdim\u001b[0m\u001b[0;34m\u001b[0m\u001b[0;34m\u001b[0m\u001b[0m\n\u001b[0m\u001b[1;32m     14\u001b[0m         \u001b[0;32mexcept\u001b[0m\u001b[0;34m:\u001b[0m\u001b[0;34m\u001b[0m\u001b[0;34m\u001b[0m\u001b[0m\n",
      "\u001b[0;32m<ipython-input-146-e3a88c33098a>\u001b[0m in \u001b[0;36m__get__\u001b[0;34m(self, instance, cls, *args, **kwargs)\u001b[0m\n\u001b[1;32m     19\u001b[0m         \u001b[0;31m# Then set instance attribute and return value.\u001b[0m\u001b[0;34m\u001b[0m\u001b[0;34m\u001b[0m\u001b[0;34m\u001b[0m\u001b[0m\n\u001b[0;32m---> 20\u001b[0;31m         \u001b[0mval\u001b[0m \u001b[0;34m=\u001b[0m \u001b[0mself\u001b[0m\u001b[0;34m.\u001b[0m\u001b[0mfunc\u001b[0m\u001b[0;34m(\u001b[0m\u001b[0minstance\u001b[0m\u001b[0;34m,\u001b[0m \u001b[0;34m*\u001b[0m\u001b[0margs\u001b[0m\u001b[0;34m,\u001b[0m \u001b[0;34m**\u001b[0m\u001b[0mkwargs\u001b[0m\u001b[0;34m)\u001b[0m\u001b[0;34m\u001b[0m\u001b[0;34m\u001b[0m\u001b[0m\n\u001b[0m\u001b[1;32m     21\u001b[0m         \u001b[0msetattr\u001b[0m\u001b[0;34m(\u001b[0m\u001b[0minstance\u001b[0m\u001b[0;34m,\u001b[0m \u001b[0mself\u001b[0m\u001b[0;34m.\u001b[0m\u001b[0mfunc\u001b[0m\u001b[0;34m.\u001b[0m\u001b[0m__name__\u001b[0m\u001b[0;34m,\u001b[0m \u001b[0mval\u001b[0m\u001b[0;34m)\u001b[0m\u001b[0;34m\u001b[0m\u001b[0;34m\u001b[0m\u001b[0m\n",
      "\u001b[0;31mTypeError\u001b[0m: dim() missing 1 required positional argument: 'x'",
      "\nDuring handling of the above exception, another exception occurred:\n",
      "\u001b[0;31mTypeError\u001b[0m                                 Traceback (most recent call last)",
      "\u001b[0;32m<ipython-input-152-608a6cc2b9eb>\u001b[0m in \u001b[0;36m<module>\u001b[0;34m\u001b[0m\n\u001b[0;32m----> 1\u001b[0;31m \u001b[0mf\u001b[0m\u001b[0;34m(\u001b[0m\u001b[0mnp\u001b[0m\u001b[0;34m.\u001b[0m\u001b[0marange\u001b[0m\u001b[0;34m(\u001b[0m\u001b[0;36m4\u001b[0m\u001b[0;34m)\u001b[0m\u001b[0;34m)\u001b[0m\u001b[0;34m\u001b[0m\u001b[0;34m\u001b[0m\u001b[0m\n\u001b[0m",
      "\u001b[0;32m<ipython-input-150-7a2be5b81412>\u001b[0m in \u001b[0;36m__call__\u001b[0;34m(self, x)\u001b[0m\n\u001b[1;32m     14\u001b[0m         \u001b[0;32mexcept\u001b[0m\u001b[0;34m:\u001b[0m\u001b[0;34m\u001b[0m\u001b[0;34m\u001b[0m\u001b[0m\n\u001b[1;32m     15\u001b[0m             \u001b[0mprint\u001b[0m\u001b[0;34m(\u001b[0m\u001b[0;34m'except'\u001b[0m\u001b[0;34m)\u001b[0m\u001b[0;34m\u001b[0m\u001b[0;34m\u001b[0m\u001b[0m\n\u001b[0;32m---> 16\u001b[0;31m             \u001b[0mdim\u001b[0m \u001b[0;34m=\u001b[0m \u001b[0mself\u001b[0m\u001b[0;34m.\u001b[0m\u001b[0mdim\u001b[0m\u001b[0;34m(\u001b[0m\u001b[0mx\u001b[0m\u001b[0;34m)\u001b[0m\u001b[0;34m\u001b[0m\u001b[0;34m\u001b[0m\u001b[0m\n\u001b[0m\u001b[1;32m     17\u001b[0m         \u001b[0;32mreturn\u001b[0m \u001b[0mx\u001b[0m \u001b[0;34m/\u001b[0m \u001b[0mdim\u001b[0m\u001b[0;34m\u001b[0m\u001b[0;34m\u001b[0m\u001b[0m\n",
      "\u001b[0;32m<ipython-input-146-e3a88c33098a>\u001b[0m in \u001b[0;36m__get__\u001b[0;34m(self, instance, cls, *args, **kwargs)\u001b[0m\n\u001b[1;32m     18\u001b[0m         \u001b[0;31m# When accessed as instance method, call method on instance as usual.\u001b[0m\u001b[0;34m\u001b[0m\u001b[0;34m\u001b[0m\u001b[0;34m\u001b[0m\u001b[0m\n\u001b[1;32m     19\u001b[0m         \u001b[0;31m# Then set instance attribute and return value.\u001b[0m\u001b[0;34m\u001b[0m\u001b[0;34m\u001b[0m\u001b[0;34m\u001b[0m\u001b[0m\n\u001b[0;32m---> 20\u001b[0;31m         \u001b[0mval\u001b[0m \u001b[0;34m=\u001b[0m \u001b[0mself\u001b[0m\u001b[0;34m.\u001b[0m\u001b[0mfunc\u001b[0m\u001b[0;34m(\u001b[0m\u001b[0minstance\u001b[0m\u001b[0;34m,\u001b[0m \u001b[0;34m*\u001b[0m\u001b[0margs\u001b[0m\u001b[0;34m,\u001b[0m \u001b[0;34m**\u001b[0m\u001b[0mkwargs\u001b[0m\u001b[0;34m)\u001b[0m\u001b[0;34m\u001b[0m\u001b[0;34m\u001b[0m\u001b[0m\n\u001b[0m\u001b[1;32m     21\u001b[0m         \u001b[0msetattr\u001b[0m\u001b[0;34m(\u001b[0m\u001b[0minstance\u001b[0m\u001b[0;34m,\u001b[0m \u001b[0mself\u001b[0m\u001b[0;34m.\u001b[0m\u001b[0mfunc\u001b[0m\u001b[0;34m.\u001b[0m\u001b[0m__name__\u001b[0m\u001b[0;34m,\u001b[0m \u001b[0mval\u001b[0m\u001b[0;34m)\u001b[0m\u001b[0;34m\u001b[0m\u001b[0;34m\u001b[0m\u001b[0m\n\u001b[1;32m     22\u001b[0m         \u001b[0;32mreturn\u001b[0m \u001b[0mval\u001b[0m\u001b[0;34m\u001b[0m\u001b[0;34m\u001b[0m\u001b[0m\n",
      "\u001b[0;31mTypeError\u001b[0m: dim() missing 1 required positional argument: 'x'"
     ]
    }
   ],
   "source": [
    "f(np.arange(4))"
   ]
  }
 ],
 "metadata": {
  "kernelspec": {
   "display_name": "Python 3",
   "language": "python",
   "name": "python3"
  },
  "language_info": {
   "codemirror_mode": {
    "name": "ipython",
    "version": 3
   },
   "file_extension": ".py",
   "mimetype": "text/x-python",
   "name": "python",
   "nbconvert_exporter": "python",
   "pygments_lexer": "ipython3",
   "version": "3.7.3"
  }
 },
 "nbformat": 4,
 "nbformat_minor": 2
}
