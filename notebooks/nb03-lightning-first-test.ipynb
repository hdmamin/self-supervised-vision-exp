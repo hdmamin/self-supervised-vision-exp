{
 "cells": [
  {
   "cell_type": "code",
   "execution_count": 1,
   "metadata": {
    "ExecuteTime": {
     "end_time": "2020-08-14T05:13:36.746347Z",
     "start_time": "2020-08-14T05:13:36.718264Z"
    }
   },
   "outputs": [],
   "source": [
    "%load_ext autoreload\n",
    "%autoreload 2"
   ]
  },
  {
   "cell_type": "code",
   "execution_count": 2,
   "metadata": {
    "ExecuteTime": {
     "end_time": "2020-08-14T05:13:41.209184Z",
     "start_time": "2020-08-14T05:13:36.748363Z"
    }
   },
   "outputs": [
    {
     "name": "stderr",
     "output_type": "stream",
     "text": [
      "/Users/hmamin/anaconda3/lib/python3.7/site-packages/pytorch_lightning/utilities/distributed.py:22: DeprecationWarning: `logging` package has been renamed to `loggers` since v0.7.0 The deprecated package name will be removed in v0.9.0.\n",
      "  warnings.warn(*args, **kwargs)\n",
      "/Users/hmamin/anaconda3/lib/python3.7/site-packages/pytorch_lightning/utilities/distributed.py:22: DeprecationWarning: `logging.comet` module has been renamed to `loggers.comet` since v0.7.0. The deprecated module name will be removed in v0.9.0.\n",
      "  warnings.warn(*args, **kwargs)\n",
      "/Users/hmamin/pythonhm/htools/htools/core.py:2: DeprecationWarning: Using or importing the ABCs from 'collections' instead of from 'collections.abc' is deprecated, and in 3.8 it will stop working\n",
      "  from collections import Counter, Sequence, Iterable, \\\n",
      "/Users/hmamin/anaconda3/lib/python3.7/site-packages/incendio/callbacks.py:24: UserWarning: Accio not available.\n",
      "  warnings.warn('Accio not available.')\n"
     ]
    }
   ],
   "source": [
    "from fastai2.vision.all import get_image_files\n",
    "import matplotlib.pyplot as plt\n",
    "import numpy as np\n",
    "import os\n",
    "import pandas as pd\n",
    "from pathlib import Path\n",
    "import pytorch_lightning as pl\n",
    "from pytorch_lightning.logging.comet import CometLogger\n",
    "from pytorch_lightning.loggers import MLFlowLogger\n",
    "import torch.nn.functional as F\n",
    "\n",
    "from htools import *\n",
    "from incendio.optimizers import variable_lr_optimizer\n",
    "from img_wang.data import get_databunch\n",
    "from img_wang.models import Unmixer"
   ]
  },
  {
   "cell_type": "code",
   "execution_count": 3,
   "metadata": {
    "ExecuteTime": {
     "end_time": "2020-08-14T05:13:41.310779Z",
     "start_time": "2020-08-14T05:13:41.217137Z"
    }
   },
   "outputs": [
    {
     "name": "stdout",
     "output_type": "stream",
     "text": [
      "Current directory: /Users/hmamin/img_wang\n"
     ]
    }
   ],
   "source": [
    "cd_root()"
   ]
  },
  {
   "cell_type": "code",
   "execution_count": 4,
   "metadata": {
    "ExecuteTime": {
     "end_time": "2020-08-14T05:13:41.393328Z",
     "start_time": "2020-08-14T05:13:41.317611Z"
    }
   },
   "outputs": [],
   "source": [
    "class UnmixerPL(pl.LightningModule):\n",
    "    \n",
    "    def __init__(self, net=None, loss=F.mse_loss):\n",
    "        super().__init__()\n",
    "        self.net = net or Unmixer()\n",
    "        self.loss = loss\n",
    "        \n",
    "    def forward(self, *x):\n",
    "        return self.net(*x)\n",
    "    \n",
    "    def training_step(self, batch, batch_i):\n",
    "        *x, y = batch\n",
    "        y_hat = self(*x)\n",
    "        loss = self.loss(y_hat, y)\n",
    "        return {'loss': loss}\n",
    "    \n",
    "    def validation_step(self, batch, batch_i):\n",
    "        *x, y = batch\n",
    "        y_hat = self(*x)\n",
    "        loss = self.loss(y_hat, y)\n",
    "        res = pl.EvalResult(checkpoint_on=loss)\n",
    "        res.log('val_loss', loss)\n",
    "        return res\n",
    "    \n",
    "    def configure_optimizers(self):\n",
    "        return variable_lr_optimizer(self.net)"
   ]
  },
  {
   "cell_type": "code",
   "execution_count": 5,
   "metadata": {
    "ExecuteTime": {
     "end_time": "2020-08-14T05:13:41.456614Z",
     "start_time": "2020-08-14T05:13:41.396349Z"
    }
   },
   "outputs": [],
   "source": [
    "class MixupDataPL(pl.LightningDataModule):\n",
    "    \n",
    "    def __init__(self, dir_=None, paths=None,\n",
    "                 mode:('mixup', 'scale', 'quadrant')='mixup', bs=32,\n",
    "                 valid_bs_mult=1, train_pct=.9, shuffle_train=True,\n",
    "                 drop_last=True, random_state=0, **ds_kwargs):\n",
    "        self.dst, self.dsv, self.dlt, self.dlv = get_databunch(\n",
    "            dir_, paths, mode, bs, valid_bs_mult, train_pct, shuffle_train,\n",
    "            drop_last, random_state, **ds_kwargs\n",
    "        )\n",
    "        \n",
    "    def train_dataloader(self):\n",
    "        return self.dlt\n",
    "    \n",
    "    def val_dataloader(self):\n",
    "        return self.dlv"
   ]
  },
  {
   "cell_type": "code",
   "execution_count": 6,
   "metadata": {
    "ExecuteTime": {
     "end_time": "2020-08-14T05:13:41.523160Z",
     "start_time": "2020-08-14T05:13:41.459022Z"
    }
   },
   "outputs": [],
   "source": [
    "dir_u = Path('data/imagewang-160/unsup/')"
   ]
  },
  {
   "cell_type": "code",
   "execution_count": 11,
   "metadata": {
    "ExecuteTime": {
     "end_time": "2020-08-14T05:16:55.561227Z",
     "start_time": "2020-08-14T05:16:55.329890Z"
    }
   },
   "outputs": [],
   "source": [
    "paths_xtiny = get_image_files(dir_u)[:4]\n",
    "data = MixupDataPL(paths=paths_xtiny, mode='scale', bs=2, train_pct=.5, n=1)\n",
    "module = UnmixerPL()"
   ]
  },
  {
   "cell_type": "code",
   "execution_count": 12,
   "metadata": {
    "ExecuteTime": {
     "end_time": "2020-08-14T05:16:55.677355Z",
     "start_time": "2020-08-14T05:16:55.628023Z"
    }
   },
   "outputs": [
    {
     "name": "stderr",
     "output_type": "stream",
     "text": [
      "CometLogger will be initialized in online mode\n"
     ]
    }
   ],
   "source": [
    "with open('/Users/hmamin/.comet.config', 'r') as f:\n",
    "    comet_key = f.readlines()[-1].split('=')[-1].strip()\n",
    "logger = CometLogger(api_key=comet_key, project_name='imagewang')"
   ]
  },
  {
   "cell_type": "code",
   "execution_count": 13,
   "metadata": {
    "ExecuteTime": {
     "end_time": "2020-08-14T05:16:56.167264Z",
     "start_time": "2020-08-14T05:16:56.116407Z"
    }
   },
   "outputs": [],
   "source": [
    "mlf_logger = MLFlowLogger(experiment_name='debug-img-wang', \n",
    "                          tracking_uri='http://127.0.0.1:5000')"
   ]
  },
  {
   "cell_type": "code",
   "execution_count": 14,
   "metadata": {
    "ExecuteTime": {
     "end_time": "2020-08-14T05:16:58.636963Z",
     "start_time": "2020-08-14T05:16:56.796740Z"
    }
   },
   "outputs": [
    {
     "name": "stderr",
     "output_type": "stream",
     "text": [
      "GPU available: False, used: False\n",
      "TPU available: False, using: 0 TPU cores\n",
      "\n",
      "  | Name | Type    | Params\n",
      "---------------------------------\n",
      "0 | net  | Unmixer | 394 K \n"
     ]
    },
    {
     "data": {
      "application/vnd.jupyter.widget-view+json": {
       "model_id": "635cbabb8a3b4a4d976be6fd84b349aa",
       "version_major": 2,
       "version_minor": 0
      },
      "text/plain": [
       "HBox(children=(FloatProgress(value=1.0, bar_style='info', description='Validation sanity check', layout=Layout…"
      ]
     },
     "metadata": {},
     "output_type": "display_data"
    },
    {
     "data": {
      "application/vnd.jupyter.widget-view+json": {
       "model_id": "4aec0e96642a40ccbfb5c6851f852345",
       "version_major": 2,
       "version_minor": 0
      },
      "text/plain": [
       "HBox(children=(FloatProgress(value=1.0, bar_style='info', description='Training', layout=Layout(flex='2'), max…"
      ]
     },
     "metadata": {},
     "output_type": "display_data"
    },
    {
     "data": {
      "application/vnd.jupyter.widget-view+json": {
       "model_id": "",
       "version_major": 2,
       "version_minor": 0
      },
      "text/plain": [
       "HBox(children=(FloatProgress(value=1.0, bar_style='info', description='Validating', layout=Layout(flex='2'), m…"
      ]
     },
     "metadata": {},
     "output_type": "display_data"
    },
    {
     "data": {
      "application/vnd.jupyter.widget-view+json": {
       "model_id": "",
       "version_major": 2,
       "version_minor": 0
      },
      "text/plain": [
       "HBox(children=(FloatProgress(value=1.0, bar_style='info', description='Validating', layout=Layout(flex='2'), m…"
      ]
     },
     "metadata": {},
     "output_type": "display_data"
    },
    {
     "data": {
      "application/vnd.jupyter.widget-view+json": {
       "model_id": "",
       "version_major": 2,
       "version_minor": 0
      },
      "text/plain": [
       "HBox(children=(FloatProgress(value=1.0, bar_style='info', description='Validating', layout=Layout(flex='2'), m…"
      ]
     },
     "metadata": {},
     "output_type": "display_data"
    },
    {
     "data": {
      "application/vnd.jupyter.widget-view+json": {
       "model_id": "",
       "version_major": 2,
       "version_minor": 0
      },
      "text/plain": [
       "HBox(children=(FloatProgress(value=1.0, bar_style='info', description='Validating', layout=Layout(flex='2'), m…"
      ]
     },
     "metadata": {},
     "output_type": "display_data"
    },
    {
     "data": {
      "application/vnd.jupyter.widget-view+json": {
       "model_id": "",
       "version_major": 2,
       "version_minor": 0
      },
      "text/plain": [
       "HBox(children=(FloatProgress(value=1.0, bar_style='info', description='Validating', layout=Layout(flex='2'), m…"
      ]
     },
     "metadata": {},
     "output_type": "display_data"
    },
    {
     "name": "stdout",
     "output_type": "stream",
     "text": [
      "\n"
     ]
    },
    {
     "data": {
      "text/plain": [
       "1"
      ]
     },
     "execution_count": 14,
     "metadata": {},
     "output_type": "execute_result"
    }
   ],
   "source": [
    "t = pl.Trainer(max_epochs=5, logger=mlf_logger, log_save_interval=1)\n",
    "t.fit(module, data)"
   ]
  },
  {
   "cell_type": "code",
   "execution_count": null,
   "metadata": {},
   "outputs": [],
   "source": []
  }
 ],
 "metadata": {
  "kernelspec": {
   "display_name": "Python 3",
   "language": "python",
   "name": "python3"
  },
  "language_info": {
   "codemirror_mode": {
    "name": "ipython",
    "version": 3
   },
   "file_extension": ".py",
   "mimetype": "text/x-python",
   "name": "python",
   "nbconvert_exporter": "python",
   "pygments_lexer": "ipython3",
   "version": "3.7.3"
  }
 },
 "nbformat": 4,
 "nbformat_minor": 2
}
